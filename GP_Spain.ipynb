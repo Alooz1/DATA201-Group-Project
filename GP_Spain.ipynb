{
 "cells": [
  {
   "cell_type": "code",
   "execution_count": 1,
   "id": "237295b9-acfc-4b79-91b6-798d62fec39b",
   "metadata": {
    "tags": []
   },
   "outputs": [
    {
     "name": "stderr",
     "output_type": "stream",
     "text": [
      "Installing package into 'C:/Users/DELL/AppData/Local/R/win-library/4.2'\n",
      "(as 'lib' is unspecified)\n",
      "\n"
     ]
    },
    {
     "name": "stdout",
     "output_type": "stream",
     "text": [
      "package 'tidyverse' successfully unpacked and MD5 sums checked\n",
      "\n",
      "The downloaded binary packages are in\n",
      "\tC:\\Users\\DELL\\AppData\\Local\\Temp\\RtmpopoGDO\\downloaded_packages\n"
     ]
    }
   ],
   "source": [
    "install.packages('tidyverse') #installing tidyverse"
   ]
  },
  {
   "cell_type": "code",
   "execution_count": 2,
   "id": "44835178-493e-42c1-a179-3ed83fdab81d",
   "metadata": {
    "tags": []
   },
   "outputs": [
    {
     "name": "stderr",
     "output_type": "stream",
     "text": [
      "Warning message:\n",
      "\"package 'tidyverse' was built under R version 4.2.3\"\n",
      "Warning message:\n",
      "\"package 'ggplot2' was built under R version 4.2.3\"\n",
      "── \u001b[1mAttaching core tidyverse packages\u001b[22m ──────────────────────── tidyverse 2.0.0 ──\n",
      "\u001b[32m✔\u001b[39m \u001b[34mdplyr    \u001b[39m 1.1.0     \u001b[32m✔\u001b[39m \u001b[34mreadr    \u001b[39m 2.1.4\n",
      "\u001b[32m✔\u001b[39m \u001b[34mforcats  \u001b[39m 1.0.0     \u001b[32m✔\u001b[39m \u001b[34mstringr  \u001b[39m 1.5.0\n",
      "\u001b[32m✔\u001b[39m \u001b[34mggplot2  \u001b[39m 3.4.2     \u001b[32m✔\u001b[39m \u001b[34mtibble   \u001b[39m 3.2.0\n",
      "\u001b[32m✔\u001b[39m \u001b[34mlubridate\u001b[39m 1.9.2     \u001b[32m✔\u001b[39m \u001b[34mtidyr    \u001b[39m 1.3.0\n",
      "\u001b[32m✔\u001b[39m \u001b[34mpurrr    \u001b[39m 1.0.1     \n",
      "── \u001b[1mConflicts\u001b[22m ────────────────────────────────────────── tidyverse_conflicts() ──\n",
      "\u001b[31m✖\u001b[39m \u001b[34mdplyr\u001b[39m::\u001b[32mfilter()\u001b[39m masks \u001b[34mstats\u001b[39m::filter()\n",
      "\u001b[31m✖\u001b[39m \u001b[34mdplyr\u001b[39m::\u001b[32mlag()\u001b[39m    masks \u001b[34mstats\u001b[39m::lag()\n",
      "\u001b[36mℹ\u001b[39m Use the conflicted package (\u001b[3m\u001b[34m<http://conflicted.r-lib.org/>\u001b[39m\u001b[23m) to force all conflicts to become errors\n"
     ]
    }
   ],
   "source": [
    "library(tidyverse) # loading tidyverse"
   ]
  },
  {
   "cell_type": "code",
   "execution_count": 3,
   "id": "f77be62b-5f3a-4911-b3b3-9d3b13d4f489",
   "metadata": {
    "tags": []
   },
   "outputs": [
    {
     "name": "stderr",
     "output_type": "stream",
     "text": [
      "\u001b[1mRows: \u001b[22m\u001b[34m18086\u001b[39m \u001b[1mColumns: \u001b[22m\u001b[34m75\u001b[39m\n",
      "\u001b[36m──\u001b[39m \u001b[1mColumn specification\u001b[22m \u001b[36m────────────────────────────────────────────────────────\u001b[39m\n",
      "\u001b[1mDelimiter:\u001b[22m \",\"\n",
      "\u001b[31mchr\u001b[39m  (26): listing_url, source, name, description, neighborhood_overview, pi...\n",
      "\u001b[32mdbl\u001b[39m  (37): id, scrape_id, host_id, host_listings_count, host_total_listings_...\n",
      "\u001b[33mlgl\u001b[39m   (7): host_is_superhost, host_has_profile_pic, host_identity_verified, ...\n",
      "\u001b[34mdate\u001b[39m  (5): last_scraped, host_since, calendar_last_scraped, first_review, la...\n",
      "\n",
      "\u001b[36mℹ\u001b[39m Use `spec()` to retrieve the full column specification for this data.\n",
      "\u001b[36mℹ\u001b[39m Specify the column types or set `show_col_types = FALSE` to quiet this message.\n"
     ]
    }
   ],
   "source": [
    "Spain <- read_csv('http://data.insideairbnb.com/spain/catalonia/barcelona/2023-09-06/data/listings.csv.gz') #reading the csv to work with the data"
   ]
  },
  {
   "cell_type": "code",
   "execution_count": 4,
   "id": "313380a7-c217-4b64-ac2e-33c751d92848",
   "metadata": {
    "tags": []
   },
   "outputs": [
    {
     "name": "stdout",
     "output_type": "stream",
     "text": [
      "Rows: 18,086\n",
      "Columns: 75\n",
      "$ id                                           \u001b[3m\u001b[90m<dbl>\u001b[39m\u001b[23m 18674, 23197, 117010, 327…\n",
      "$ listing_url                                  \u001b[3m\u001b[90m<chr>\u001b[39m\u001b[23m \"https://www.airbnb.com/r…\n",
      "$ scrape_id                                    \u001b[3m\u001b[90m<dbl>\u001b[39m\u001b[23m 2.023091e+13, 2.023091e+1…\n",
      "$ last_scraped                                 \u001b[3m\u001b[90m<date>\u001b[39m\u001b[23m 2023-09-06, 2023-09-06, …\n",
      "$ source                                       \u001b[3m\u001b[90m<chr>\u001b[39m\u001b[23m \"city scrape\", \"city scra…\n",
      "$ name                                         \u001b[3m\u001b[90m<chr>\u001b[39m\u001b[23m \"Rental unit in Barcelona…\n",
      "$ description                                  \u001b[3m\u001b[90m<chr>\u001b[39m\u001b[23m \"110m2 apartment to rent …\n",
      "$ neighborhood_overview                        \u001b[3m\u001b[90m<chr>\u001b[39m\u001b[23m \"Apartment in Barcelona l…\n",
      "$ picture_url                                  \u001b[3m\u001b[90m<chr>\u001b[39m\u001b[23m \"https://a0.muscache.com/…\n",
      "$ host_id                                      \u001b[3m\u001b[90m<dbl>\u001b[39m\u001b[23m 71615, 90417, 567180, 135…\n",
      "$ host_url                                     \u001b[3m\u001b[90m<chr>\u001b[39m\u001b[23m \"https://www.airbnb.com/u…\n",
      "$ host_name                                    \u001b[3m\u001b[90m<chr>\u001b[39m\u001b[23m \"Mireia And Maria\", \"Etai…\n",
      "$ host_since                                   \u001b[3m\u001b[90m<date>\u001b[39m\u001b[23m 2010-01-19, 2010-03-09, …\n",
      "$ host_location                                \u001b[3m\u001b[90m<chr>\u001b[39m\u001b[23m \"Barcelona, Spain\", \"Cata…\n",
      "$ host_about                                   \u001b[3m\u001b[90m<chr>\u001b[39m\u001b[23m \"We are Mireia (47) & Mar…\n",
      "$ host_response_time                           \u001b[3m\u001b[90m<chr>\u001b[39m\u001b[23m \"within an hour\", \"within…\n",
      "$ host_response_rate                           \u001b[3m\u001b[90m<chr>\u001b[39m\u001b[23m \"97%\", \"100%\", \"88%\", \"10…\n",
      "$ host_acceptance_rate                         \u001b[3m\u001b[90m<chr>\u001b[39m\u001b[23m \"90%\", \"94%\", \"98%\", \"100…\n",
      "$ host_is_superhost                            \u001b[3m\u001b[90m<lgl>\u001b[39m\u001b[23m FALSE, TRUE, FALSE, FALSE…\n",
      "$ host_thumbnail_url                           \u001b[3m\u001b[90m<chr>\u001b[39m\u001b[23m \"https://a0.muscache.com/…\n",
      "$ host_picture_url                             \u001b[3m\u001b[90m<chr>\u001b[39m\u001b[23m \"https://a0.muscache.com/…\n",
      "$ host_neighbourhood                           \u001b[3m\u001b[90m<chr>\u001b[39m\u001b[23m \"la Sagrada Família\", \"El…\n",
      "$ host_listings_count                          \u001b[3m\u001b[90m<dbl>\u001b[39m\u001b[23m 47, 6, 19, 3, 19, 1, 34, …\n",
      "$ host_total_listings_count                    \u001b[3m\u001b[90m<dbl>\u001b[39m\u001b[23m 48, 9, 19, 15, 19, 1, 50,…\n",
      "$ host_verifications                           \u001b[3m\u001b[90m<chr>\u001b[39m\u001b[23m \"['email', 'phone']\", \"['…\n",
      "$ host_has_profile_pic                         \u001b[3m\u001b[90m<lgl>\u001b[39m\u001b[23m TRUE, TRUE, TRUE, TRUE, T…\n",
      "$ host_identity_verified                       \u001b[3m\u001b[90m<lgl>\u001b[39m\u001b[23m TRUE, TRUE, FALSE, TRUE, …\n",
      "$ neighbourhood                                \u001b[3m\u001b[90m<chr>\u001b[39m\u001b[23m \"Barcelona, CT, Spain\", \"…\n",
      "$ neighbourhood_cleansed                       \u001b[3m\u001b[90m<chr>\u001b[39m\u001b[23m \"la Sagrada Família\", \"el…\n",
      "$ neighbourhood_group_cleansed                 \u001b[3m\u001b[90m<chr>\u001b[39m\u001b[23m \"Eixample\", \"Sant Martí\",…\n",
      "$ latitude                                     \u001b[3m\u001b[90m<dbl>\u001b[39m\u001b[23m 41.40556, 41.41243, 41.40…\n",
      "$ longitude                                    \u001b[3m\u001b[90m<dbl>\u001b[39m\u001b[23m 2.17262, 2.21975, 2.17457…\n",
      "$ property_type                                \u001b[3m\u001b[90m<chr>\u001b[39m\u001b[23m \"Entire rental unit\", \"En…\n",
      "$ room_type                                    \u001b[3m\u001b[90m<chr>\u001b[39m\u001b[23m \"Entire home/apt\", \"Entir…\n",
      "$ accommodates                                 \u001b[3m\u001b[90m<dbl>\u001b[39m\u001b[23m 8, 5, 8, 6, 8, 2, 7, 9, 7…\n",
      "$ bathrooms                                    \u001b[3m\u001b[90m<lgl>\u001b[39m\u001b[23m NA, NA, NA, NA, NA, NA, N…\n",
      "$ bathrooms_text                               \u001b[3m\u001b[90m<chr>\u001b[39m\u001b[23m \"2 baths\", \"2 baths\", \"2 …\n",
      "$ bedrooms                                     \u001b[3m\u001b[90m<dbl>\u001b[39m\u001b[23m 3, 3, 3, 2, 3, 1, 3, 4, 3…\n",
      "$ beds                                         \u001b[3m\u001b[90m<dbl>\u001b[39m\u001b[23m 6, 4, 6, 3, 5, 1, 5, 6, 4…\n",
      "$ amenities                                    \u001b[3m\u001b[90m<chr>\u001b[39m\u001b[23m \"[\\\"Refrigerator\\\", \\\"30\\…\n",
      "$ price                                        \u001b[3m\u001b[90m<chr>\u001b[39m\u001b[23m \"$202.00\", \"$255.00\", \"$3…\n",
      "$ minimum_nights                               \u001b[3m\u001b[90m<dbl>\u001b[39m\u001b[23m 1, 3, 2, 21, 2, 3, 3, 5, …\n",
      "$ maximum_nights                               \u001b[3m\u001b[90m<dbl>\u001b[39m\u001b[23m 1125, 300, 30, 31, 28, 11…\n",
      "$ minimum_minimum_nights                       \u001b[3m\u001b[90m<dbl>\u001b[39m\u001b[23m 1, 3, 2, 1, 2, 3, 2, 2, 3…\n",
      "$ maximum_minimum_nights                       \u001b[3m\u001b[90m<dbl>\u001b[39m\u001b[23m 4, 5, 3, 1, 3, 3, 6, 5, 6…\n",
      "$ minimum_maximum_nights                       \u001b[3m\u001b[90m<dbl>\u001b[39m\u001b[23m 1125, 1125, 30, 31, 28, 1…\n",
      "$ maximum_maximum_nights                       \u001b[3m\u001b[90m<dbl>\u001b[39m\u001b[23m 1125, 1125, 32, 31, 32, 1…\n",
      "$ minimum_nights_avg_ntm                       \u001b[3m\u001b[90m<dbl>\u001b[39m\u001b[23m 2.2, 3.2, 2.0, 1.0, 2.1, …\n",
      "$ maximum_nights_avg_ntm                       \u001b[3m\u001b[90m<dbl>\u001b[39m\u001b[23m 1125.0, 1125.0, 30.3, 31.…\n",
      "$ calendar_updated                             \u001b[3m\u001b[90m<lgl>\u001b[39m\u001b[23m NA, NA, NA, NA, NA, NA, N…\n",
      "$ has_availability                             \u001b[3m\u001b[90m<lgl>\u001b[39m\u001b[23m TRUE, TRUE, FALSE, TRUE, …\n",
      "$ availability_30                              \u001b[3m\u001b[90m<dbl>\u001b[39m\u001b[23m 4, 16, 0, 6, 0, 2, 7, 5, …\n",
      "$ availability_60                              \u001b[3m\u001b[90m<dbl>\u001b[39m\u001b[23m 11, 31, 0, 17, 0, 9, 18, …\n",
      "$ availability_90                              \u001b[3m\u001b[90m<dbl>\u001b[39m\u001b[23m 21, 61, 0, 43, 0, 32, 18,…\n",
      "$ availability_365                             \u001b[3m\u001b[90m<dbl>\u001b[39m\u001b[23m 34, 150, 0, 310, 0, 303, …\n",
      "$ calendar_last_scraped                        \u001b[3m\u001b[90m<date>\u001b[39m\u001b[23m 2023-09-06, 2023-09-06, …\n",
      "$ number_of_reviews                            \u001b[3m\u001b[90m<dbl>\u001b[39m\u001b[23m 38, 73, 48, 95, 50, 395, …\n",
      "$ number_of_reviews_ltm                        \u001b[3m\u001b[90m<dbl>\u001b[39m\u001b[23m 8, 11, 6, 21, 18, 62, 14,…\n",
      "$ number_of_reviews_l30d                       \u001b[3m\u001b[90m<dbl>\u001b[39m\u001b[23m 0, 1, 1, 1, 0, 6, 1, 2, 1…\n",
      "$ first_review                                 \u001b[3m\u001b[90m<date>\u001b[39m\u001b[23m 2013-05-27, 2011-03-15, …\n",
      "$ last_review                                  \u001b[3m\u001b[90m<date>\u001b[39m\u001b[23m 2023-06-26, 2023-08-15, …\n",
      "$ review_scores_rating                         \u001b[3m\u001b[90m<dbl>\u001b[39m\u001b[23m 4.30, 4.77, 4.55, 4.46, 4…\n",
      "$ review_scores_accuracy                       \u001b[3m\u001b[90m<dbl>\u001b[39m\u001b[23m 4.41, 4.93, 4.59, 4.44, 4…\n",
      "$ review_scores_cleanliness                    \u001b[3m\u001b[90m<dbl>\u001b[39m\u001b[23m 4.62, 4.89, 4.57, 4.47, 4…\n",
      "$ review_scores_checkin                        \u001b[3m\u001b[90m<dbl>\u001b[39m\u001b[23m 4.76, 4.94, 4.82, 4.86, 4…\n",
      "$ review_scores_communication                  \u001b[3m\u001b[90m<dbl>\u001b[39m\u001b[23m 4.65, 4.99, 4.91, 4.85, 4…\n",
      "$ review_scores_location                       \u001b[3m\u001b[90m<dbl>\u001b[39m\u001b[23m 4.78, 4.60, 4.86, 4.86, 4…\n",
      "$ review_scores_value                          \u001b[3m\u001b[90m<dbl>\u001b[39m\u001b[23m 4.27, 4.64, 4.59, 4.52, 4…\n",
      "$ license                                      \u001b[3m\u001b[90m<chr>\u001b[39m\u001b[23m \"HUTB-002062\", \"HUTB00505…\n",
      "$ instant_bookable                             \u001b[3m\u001b[90m<lgl>\u001b[39m\u001b[23m TRUE, FALSE, FALSE, TRUE,…\n",
      "$ calculated_host_listings_count               \u001b[3m\u001b[90m<dbl>\u001b[39m\u001b[23m 30, 2, 19, 3, 19, 1, 32, …\n",
      "$ calculated_host_listings_count_entire_homes  \u001b[3m\u001b[90m<dbl>\u001b[39m\u001b[23m 30, 2, 19, 3, 19, 1, 32, …\n",
      "$ calculated_host_listings_count_private_rooms \u001b[3m\u001b[90m<dbl>\u001b[39m\u001b[23m 0, 0, 0, 0, 0, 0, 0, 0, 0…\n",
      "$ calculated_host_listings_count_shared_rooms  \u001b[3m\u001b[90m<dbl>\u001b[39m\u001b[23m 0, 0, 0, 0, 0, 0, 0, 0, 0…\n",
      "$ reviews_per_month                            \u001b[3m\u001b[90m<dbl>\u001b[39m\u001b[23m 0.30, 0.48, 0.33, 0.64, 0…\n"
     ]
    }
   ],
   "source": [
    "glimpse(Spain) # taking a look at the data to understand the content"
   ]
  },
  {
   "cell_type": "code",
   "execution_count": 5,
   "id": "6e6fa9fe-501e-46e6-88e5-8fde56407b34",
   "metadata": {
    "tags": []
   },
   "outputs": [
    {
     "name": "stderr",
     "output_type": "stream",
     "text": [
      "Warning message in eval(expr, envir, enclos):\n",
      "\"NAs introduced by coercion\"\n"
     ]
    }
   ],
   "source": [
    "Spain$price <- as.numeric(gsub(\"\\\\$\", \"\", Spain$price)) # converting the price column into numeric format and removing the dollar symbol"
   ]
  },
  {
   "cell_type": "code",
   "execution_count": 6,
   "id": "64d3c6ba-f727-4a6c-a76a-08631e6b5343",
   "metadata": {
    "tags": []
   },
   "outputs": [
    {
     "data": {
      "text/html": [
       "<table class=\"dataframe\">\n",
       "<caption>A tibble: 18086 × 3</caption>\n",
       "<thead>\n",
       "\t<tr><th scope=col>price</th><th scope=col>bedrooms</th><th scope=col>bathrooms_text</th></tr>\n",
       "\t<tr><th scope=col>&lt;dbl&gt;</th><th scope=col>&lt;dbl&gt;</th><th scope=col>&lt;chr&gt;</th></tr>\n",
       "</thead>\n",
       "<tbody>\n",
       "\t<tr><td>202</td><td> 3</td><td>2 baths       </td></tr>\n",
       "\t<tr><td>255</td><td> 3</td><td>2 baths       </td></tr>\n",
       "\t<tr><td>331</td><td> 3</td><td>2 baths       </td></tr>\n",
       "\t<tr><td>171</td><td> 2</td><td>1.5 baths     </td></tr>\n",
       "\t<tr><td>333</td><td> 3</td><td>2.5 baths     </td></tr>\n",
       "\t<tr><td> 80</td><td> 1</td><td>2 baths       </td></tr>\n",
       "\t<tr><td>206</td><td> 3</td><td>2 baths       </td></tr>\n",
       "\t<tr><td>322</td><td> 4</td><td>3 baths       </td></tr>\n",
       "\t<tr><td>216</td><td> 3</td><td>2 baths       </td></tr>\n",
       "\t<tr><td> 90</td><td> 2</td><td>1.5 baths     </td></tr>\n",
       "\t<tr><td> 30</td><td>NA</td><td>1 shared bath </td></tr>\n",
       "\t<tr><td> 40</td><td>NA</td><td>1 shared bath </td></tr>\n",
       "\t<tr><td>367</td><td> 3</td><td>2 baths       </td></tr>\n",
       "\t<tr><td> 30</td><td>NA</td><td>1 bath        </td></tr>\n",
       "\t<tr><td>155</td><td> 1</td><td>1 bath        </td></tr>\n",
       "\t<tr><td> 65</td><td>NA</td><td>1 private bath</td></tr>\n",
       "\t<tr><td> 18</td><td>NA</td><td>1 shared bath </td></tr>\n",
       "\t<tr><td> 32</td><td>NA</td><td>1 shared bath </td></tr>\n",
       "\t<tr><td>164</td><td> 2</td><td>2 baths       </td></tr>\n",
       "\t<tr><td>324</td><td> 3</td><td>2 baths       </td></tr>\n",
       "\t<tr><td>253</td><td> 3</td><td>2 baths       </td></tr>\n",
       "\t<tr><td> 45</td><td> 2</td><td>1 bath        </td></tr>\n",
       "\t<tr><td>133</td><td> 2</td><td>1 bath        </td></tr>\n",
       "\t<tr><td>146</td><td> 2</td><td>1.5 baths     </td></tr>\n",
       "\t<tr><td>100</td><td>NA</td><td>1 private bath</td></tr>\n",
       "\t<tr><td>177</td><td> 2</td><td>1 bath        </td></tr>\n",
       "\t<tr><td>152</td><td> 2</td><td>1 bath        </td></tr>\n",
       "\t<tr><td>150</td><td> 2</td><td>1 bath        </td></tr>\n",
       "\t<tr><td>214</td><td> 3</td><td>1 bath        </td></tr>\n",
       "\t<tr><td>150</td><td>NA</td><td>2 baths       </td></tr>\n",
       "\t<tr><td>⋮</td><td>⋮</td><td>⋮</td></tr>\n",
       "\t<tr><td> 45</td><td> 1</td><td>1 bath        </td></tr>\n",
       "\t<tr><td>225</td><td> 2</td><td>1 bath        </td></tr>\n",
       "\t<tr><td>350</td><td> 4</td><td>2 baths       </td></tr>\n",
       "\t<tr><td>208</td><td> 1</td><td>2.5 baths     </td></tr>\n",
       "\t<tr><td>208</td><td> 1</td><td>2.5 baths     </td></tr>\n",
       "\t<tr><td>280</td><td> 1</td><td>2.5 baths     </td></tr>\n",
       "\t<tr><td>280</td><td> 1</td><td>2.5 baths     </td></tr>\n",
       "\t<tr><td>280</td><td> 1</td><td>2.5 baths     </td></tr>\n",
       "\t<tr><td>280</td><td> 1</td><td>2.5 baths     </td></tr>\n",
       "\t<tr><td>280</td><td> 1</td><td>2.5 baths     </td></tr>\n",
       "\t<tr><td> 59</td><td> 1</td><td>2 baths       </td></tr>\n",
       "\t<tr><td> 31</td><td> 1</td><td>2 baths       </td></tr>\n",
       "\t<tr><td>269</td><td> 3</td><td>2 baths       </td></tr>\n",
       "\t<tr><td> 57</td><td> 1</td><td>1 shared bath </td></tr>\n",
       "\t<tr><td> 57</td><td> 1</td><td>1 private bath</td></tr>\n",
       "\t<tr><td>190</td><td> 2</td><td>1 bath        </td></tr>\n",
       "\t<tr><td> 70</td><td> 1</td><td>1 bath        </td></tr>\n",
       "\t<tr><td> 60</td><td>NA</td><td>1 bath        </td></tr>\n",
       "\t<tr><td> 70</td><td>NA</td><td>1 bath        </td></tr>\n",
       "\t<tr><td>130</td><td> 3</td><td>2 baths       </td></tr>\n",
       "\t<tr><td>244</td><td> 3</td><td>1.5 baths     </td></tr>\n",
       "\t<tr><td>350</td><td> 4</td><td>3 baths       </td></tr>\n",
       "\t<tr><td> 65</td><td> 1</td><td>1 bath        </td></tr>\n",
       "\t<tr><td> 98</td><td> 1</td><td>1 bath        </td></tr>\n",
       "\t<tr><td>110</td><td> 3</td><td>2 baths       </td></tr>\n",
       "\t<tr><td>100</td><td> 2</td><td>1 bath        </td></tr>\n",
       "\t<tr><td> 63</td><td> 1</td><td>1.5 baths     </td></tr>\n",
       "\t<tr><td> 64</td><td> 2</td><td>1 bath        </td></tr>\n",
       "\t<tr><td>290</td><td> 4</td><td>3 baths       </td></tr>\n",
       "\t<tr><td>210</td><td> 3</td><td>2 baths       </td></tr>\n",
       "</tbody>\n",
       "</table>\n"
      ],
      "text/latex": [
       "A tibble: 18086 × 3\n",
       "\\begin{tabular}{lll}\n",
       " price & bedrooms & bathrooms\\_text\\\\\n",
       " <dbl> & <dbl> & <chr>\\\\\n",
       "\\hline\n",
       "\t 202 &  3 & 2 baths       \\\\\n",
       "\t 255 &  3 & 2 baths       \\\\\n",
       "\t 331 &  3 & 2 baths       \\\\\n",
       "\t 171 &  2 & 1.5 baths     \\\\\n",
       "\t 333 &  3 & 2.5 baths     \\\\\n",
       "\t  80 &  1 & 2 baths       \\\\\n",
       "\t 206 &  3 & 2 baths       \\\\\n",
       "\t 322 &  4 & 3 baths       \\\\\n",
       "\t 216 &  3 & 2 baths       \\\\\n",
       "\t  90 &  2 & 1.5 baths     \\\\\n",
       "\t  30 & NA & 1 shared bath \\\\\n",
       "\t  40 & NA & 1 shared bath \\\\\n",
       "\t 367 &  3 & 2 baths       \\\\\n",
       "\t  30 & NA & 1 bath        \\\\\n",
       "\t 155 &  1 & 1 bath        \\\\\n",
       "\t  65 & NA & 1 private bath\\\\\n",
       "\t  18 & NA & 1 shared bath \\\\\n",
       "\t  32 & NA & 1 shared bath \\\\\n",
       "\t 164 &  2 & 2 baths       \\\\\n",
       "\t 324 &  3 & 2 baths       \\\\\n",
       "\t 253 &  3 & 2 baths       \\\\\n",
       "\t  45 &  2 & 1 bath        \\\\\n",
       "\t 133 &  2 & 1 bath        \\\\\n",
       "\t 146 &  2 & 1.5 baths     \\\\\n",
       "\t 100 & NA & 1 private bath\\\\\n",
       "\t 177 &  2 & 1 bath        \\\\\n",
       "\t 152 &  2 & 1 bath        \\\\\n",
       "\t 150 &  2 & 1 bath        \\\\\n",
       "\t 214 &  3 & 1 bath        \\\\\n",
       "\t 150 & NA & 2 baths       \\\\\n",
       "\t ⋮ & ⋮ & ⋮\\\\\n",
       "\t  45 &  1 & 1 bath        \\\\\n",
       "\t 225 &  2 & 1 bath        \\\\\n",
       "\t 350 &  4 & 2 baths       \\\\\n",
       "\t 208 &  1 & 2.5 baths     \\\\\n",
       "\t 208 &  1 & 2.5 baths     \\\\\n",
       "\t 280 &  1 & 2.5 baths     \\\\\n",
       "\t 280 &  1 & 2.5 baths     \\\\\n",
       "\t 280 &  1 & 2.5 baths     \\\\\n",
       "\t 280 &  1 & 2.5 baths     \\\\\n",
       "\t 280 &  1 & 2.5 baths     \\\\\n",
       "\t  59 &  1 & 2 baths       \\\\\n",
       "\t  31 &  1 & 2 baths       \\\\\n",
       "\t 269 &  3 & 2 baths       \\\\\n",
       "\t  57 &  1 & 1 shared bath \\\\\n",
       "\t  57 &  1 & 1 private bath\\\\\n",
       "\t 190 &  2 & 1 bath        \\\\\n",
       "\t  70 &  1 & 1 bath        \\\\\n",
       "\t  60 & NA & 1 bath        \\\\\n",
       "\t  70 & NA & 1 bath        \\\\\n",
       "\t 130 &  3 & 2 baths       \\\\\n",
       "\t 244 &  3 & 1.5 baths     \\\\\n",
       "\t 350 &  4 & 3 baths       \\\\\n",
       "\t  65 &  1 & 1 bath        \\\\\n",
       "\t  98 &  1 & 1 bath        \\\\\n",
       "\t 110 &  3 & 2 baths       \\\\\n",
       "\t 100 &  2 & 1 bath        \\\\\n",
       "\t  63 &  1 & 1.5 baths     \\\\\n",
       "\t  64 &  2 & 1 bath        \\\\\n",
       "\t 290 &  4 & 3 baths       \\\\\n",
       "\t 210 &  3 & 2 baths       \\\\\n",
       "\\end{tabular}\n"
      ],
      "text/markdown": [
       "\n",
       "A tibble: 18086 × 3\n",
       "\n",
       "| price &lt;dbl&gt; | bedrooms &lt;dbl&gt; | bathrooms_text &lt;chr&gt; |\n",
       "|---|---|---|\n",
       "| 202 |  3 | 2 baths        |\n",
       "| 255 |  3 | 2 baths        |\n",
       "| 331 |  3 | 2 baths        |\n",
       "| 171 |  2 | 1.5 baths      |\n",
       "| 333 |  3 | 2.5 baths      |\n",
       "|  80 |  1 | 2 baths        |\n",
       "| 206 |  3 | 2 baths        |\n",
       "| 322 |  4 | 3 baths        |\n",
       "| 216 |  3 | 2 baths        |\n",
       "|  90 |  2 | 1.5 baths      |\n",
       "|  30 | NA | 1 shared bath  |\n",
       "|  40 | NA | 1 shared bath  |\n",
       "| 367 |  3 | 2 baths        |\n",
       "|  30 | NA | 1 bath         |\n",
       "| 155 |  1 | 1 bath         |\n",
       "|  65 | NA | 1 private bath |\n",
       "|  18 | NA | 1 shared bath  |\n",
       "|  32 | NA | 1 shared bath  |\n",
       "| 164 |  2 | 2 baths        |\n",
       "| 324 |  3 | 2 baths        |\n",
       "| 253 |  3 | 2 baths        |\n",
       "|  45 |  2 | 1 bath         |\n",
       "| 133 |  2 | 1 bath         |\n",
       "| 146 |  2 | 1.5 baths      |\n",
       "| 100 | NA | 1 private bath |\n",
       "| 177 |  2 | 1 bath         |\n",
       "| 152 |  2 | 1 bath         |\n",
       "| 150 |  2 | 1 bath         |\n",
       "| 214 |  3 | 1 bath         |\n",
       "| 150 | NA | 2 baths        |\n",
       "| ⋮ | ⋮ | ⋮ |\n",
       "|  45 |  1 | 1 bath         |\n",
       "| 225 |  2 | 1 bath         |\n",
       "| 350 |  4 | 2 baths        |\n",
       "| 208 |  1 | 2.5 baths      |\n",
       "| 208 |  1 | 2.5 baths      |\n",
       "| 280 |  1 | 2.5 baths      |\n",
       "| 280 |  1 | 2.5 baths      |\n",
       "| 280 |  1 | 2.5 baths      |\n",
       "| 280 |  1 | 2.5 baths      |\n",
       "| 280 |  1 | 2.5 baths      |\n",
       "|  59 |  1 | 2 baths        |\n",
       "|  31 |  1 | 2 baths        |\n",
       "| 269 |  3 | 2 baths        |\n",
       "|  57 |  1 | 1 shared bath  |\n",
       "|  57 |  1 | 1 private bath |\n",
       "| 190 |  2 | 1 bath         |\n",
       "|  70 |  1 | 1 bath         |\n",
       "|  60 | NA | 1 bath         |\n",
       "|  70 | NA | 1 bath         |\n",
       "| 130 |  3 | 2 baths        |\n",
       "| 244 |  3 | 1.5 baths      |\n",
       "| 350 |  4 | 3 baths        |\n",
       "|  65 |  1 | 1 bath         |\n",
       "|  98 |  1 | 1 bath         |\n",
       "| 110 |  3 | 2 baths        |\n",
       "| 100 |  2 | 1 bath         |\n",
       "|  63 |  1 | 1.5 baths      |\n",
       "|  64 |  2 | 1 bath         |\n",
       "| 290 |  4 | 3 baths        |\n",
       "| 210 |  3 | 2 baths        |\n",
       "\n"
      ],
      "text/plain": [
       "      price bedrooms bathrooms_text\n",
       "1     202    3       2 baths       \n",
       "2     255    3       2 baths       \n",
       "3     331    3       2 baths       \n",
       "4     171    2       1.5 baths     \n",
       "5     333    3       2.5 baths     \n",
       "6      80    1       2 baths       \n",
       "7     206    3       2 baths       \n",
       "8     322    4       3 baths       \n",
       "9     216    3       2 baths       \n",
       "10     90    2       1.5 baths     \n",
       "11     30   NA       1 shared bath \n",
       "12     40   NA       1 shared bath \n",
       "13    367    3       2 baths       \n",
       "14     30   NA       1 bath        \n",
       "15    155    1       1 bath        \n",
       "16     65   NA       1 private bath\n",
       "17     18   NA       1 shared bath \n",
       "18     32   NA       1 shared bath \n",
       "19    164    2       2 baths       \n",
       "20    324    3       2 baths       \n",
       "21    253    3       2 baths       \n",
       "22     45    2       1 bath        \n",
       "23    133    2       1 bath        \n",
       "24    146    2       1.5 baths     \n",
       "25    100   NA       1 private bath\n",
       "26    177    2       1 bath        \n",
       "27    152    2       1 bath        \n",
       "28    150    2       1 bath        \n",
       "29    214    3       1 bath        \n",
       "30    150   NA       2 baths       \n",
       "⋮     ⋮     ⋮        ⋮             \n",
       "18057  45    1       1 bath        \n",
       "18058 225    2       1 bath        \n",
       "18059 350    4       2 baths       \n",
       "18060 208    1       2.5 baths     \n",
       "18061 208    1       2.5 baths     \n",
       "18062 280    1       2.5 baths     \n",
       "18063 280    1       2.5 baths     \n",
       "18064 280    1       2.5 baths     \n",
       "18065 280    1       2.5 baths     \n",
       "18066 280    1       2.5 baths     \n",
       "18067  59    1       2 baths       \n",
       "18068  31    1       2 baths       \n",
       "18069 269    3       2 baths       \n",
       "18070  57    1       1 shared bath \n",
       "18071  57    1       1 private bath\n",
       "18072 190    2       1 bath        \n",
       "18073  70    1       1 bath        \n",
       "18074  60   NA       1 bath        \n",
       "18075  70   NA       1 bath        \n",
       "18076 130    3       2 baths       \n",
       "18077 244    3       1.5 baths     \n",
       "18078 350    4       3 baths       \n",
       "18079  65    1       1 bath        \n",
       "18080  98    1       1 bath        \n",
       "18081 110    3       2 baths       \n",
       "18082 100    2       1 bath        \n",
       "18083  63    1       1.5 baths     \n",
       "18084  64    2       1 bath        \n",
       "18085 290    4       3 baths       \n",
       "18086 210    3       2 baths       "
      ]
     },
     "metadata": {},
     "output_type": "display_data"
    }
   ],
   "source": [
    "Spain <- Spain %>% select(price,bedrooms,bathrooms_text) #selecting price, bedrooms, bathrooms_text from the Spain data set and placing it under a new variable so that it is easy to work with\n",
    "Spain #viewing the selected data"
   ]
  },
  {
   "cell_type": "code",
   "execution_count": 7,
   "id": "84667510-3064-42a6-854c-0e175e713638",
   "metadata": {
    "tags": []
   },
   "outputs": [
    {
     "name": "stderr",
     "output_type": "stream",
     "text": [
      "Warning message:\n",
      "\"package 'jsonlite' was built under R version 4.2.3\"\n",
      "\n",
      "Attaching package: 'jsonlite'\n",
      "\n",
      "\n",
      "The following object is masked from 'package:purrr':\n",
      "\n",
      "    flatten\n",
      "\n",
      "\n",
      "Warning message:\n",
      "\"package 'httr' was built under R version 4.2.3\"\n"
     ]
    }
   ],
   "source": [
    "#loading necessary libraries to plot the data \n",
    "library(ggplot2) \n",
    "library(jsonlite)\n",
    "library(httr)"
   ]
  },
  {
   "cell_type": "code",
   "execution_count": 8,
   "id": "6f5c5847-619a-485d-9980-020fd785aea7",
   "metadata": {
    "tags": []
   },
   "outputs": [
    {
     "data": {
      "text/html": [
       "<table class=\"dataframe\">\n",
       "<caption>A tibble: 18086 × 3</caption>\n",
       "<thead>\n",
       "\t<tr><th scope=col>price_nzd</th><th scope=col>bathrooms_text</th><th scope=col>bedrooms</th></tr>\n",
       "\t<tr><th scope=col>&lt;dbl&gt;</th><th scope=col>&lt;chr&gt;</th><th scope=col>&lt;dbl&gt;</th></tr>\n",
       "</thead>\n",
       "<tbody>\n",
       "\t<tr><td> 637.82393</td><td>2 baths       </td><td> 3</td></tr>\n",
       "\t<tr><td> 805.17377</td><td>2 baths       </td><td> 3</td></tr>\n",
       "\t<tr><td>1045.14713</td><td>2 baths       </td><td> 3</td></tr>\n",
       "\t<tr><td> 539.94006</td><td>1.5 baths     </td><td> 2</td></tr>\n",
       "\t<tr><td>1051.46222</td><td>2.5 baths     </td><td> 3</td></tr>\n",
       "\t<tr><td> 252.60354</td><td>2 baths       </td><td> 1</td></tr>\n",
       "\t<tr><td> 650.45410</td><td>2 baths       </td><td> 3</td></tr>\n",
       "\t<tr><td>1016.72923</td><td>3 baths       </td><td> 4</td></tr>\n",
       "\t<tr><td> 682.02955</td><td>2 baths       </td><td> 3</td></tr>\n",
       "\t<tr><td> 284.17898</td><td>1.5 baths     </td><td> 2</td></tr>\n",
       "\t<tr><td>  94.72633</td><td>1 shared bath </td><td>NA</td></tr>\n",
       "\t<tr><td> 126.30177</td><td>1 shared bath </td><td>NA</td></tr>\n",
       "\t<tr><td>1158.81872</td><td>2 baths       </td><td> 3</td></tr>\n",
       "\t<tr><td>  94.72633</td><td>1 bath        </td><td>NA</td></tr>\n",
       "\t<tr><td> 489.41935</td><td>1 bath        </td><td> 1</td></tr>\n",
       "\t<tr><td> 205.24037</td><td>1 private bath</td><td>NA</td></tr>\n",
       "\t<tr><td>  56.83580</td><td>1 shared bath </td><td>NA</td></tr>\n",
       "\t<tr><td> 101.04141</td><td>1 shared bath </td><td>NA</td></tr>\n",
       "\t<tr><td> 517.83725</td><td>2 baths       </td><td> 2</td></tr>\n",
       "\t<tr><td>1023.04432</td><td>2 baths       </td><td> 3</td></tr>\n",
       "\t<tr><td> 798.85868</td><td>2 baths       </td><td> 3</td></tr>\n",
       "\t<tr><td> 142.08949</td><td>1 bath        </td><td> 2</td></tr>\n",
       "\t<tr><td> 419.95338</td><td>1 bath        </td><td> 2</td></tr>\n",
       "\t<tr><td> 461.00145</td><td>1.5 baths     </td><td> 2</td></tr>\n",
       "\t<tr><td> 315.75442</td><td>1 private bath</td><td>NA</td></tr>\n",
       "\t<tr><td> 558.88532</td><td>1 bath        </td><td> 2</td></tr>\n",
       "\t<tr><td> 479.94672</td><td>1 bath        </td><td> 2</td></tr>\n",
       "\t<tr><td> 473.63163</td><td>1 bath        </td><td> 2</td></tr>\n",
       "\t<tr><td> 675.71446</td><td>1 bath        </td><td> 3</td></tr>\n",
       "\t<tr><td> 473.63163</td><td>2 baths       </td><td>NA</td></tr>\n",
       "\t<tr><td>⋮</td><td>⋮</td><td>⋮</td></tr>\n",
       "\t<tr><td> 142.08949</td><td>1 bath        </td><td> 1</td></tr>\n",
       "\t<tr><td> 710.44744</td><td>1 bath        </td><td> 2</td></tr>\n",
       "\t<tr><td>1105.14047</td><td>2 baths       </td><td> 4</td></tr>\n",
       "\t<tr><td> 656.76919</td><td>2.5 baths     </td><td> 1</td></tr>\n",
       "\t<tr><td> 656.76919</td><td>2.5 baths     </td><td> 1</td></tr>\n",
       "\t<tr><td> 884.11237</td><td>2.5 baths     </td><td> 1</td></tr>\n",
       "\t<tr><td> 884.11237</td><td>2.5 baths     </td><td> 1</td></tr>\n",
       "\t<tr><td> 884.11237</td><td>2.5 baths     </td><td> 1</td></tr>\n",
       "\t<tr><td> 884.11237</td><td>2.5 baths     </td><td> 1</td></tr>\n",
       "\t<tr><td> 884.11237</td><td>2.5 baths     </td><td> 1</td></tr>\n",
       "\t<tr><td> 186.29511</td><td>2 baths       </td><td> 1</td></tr>\n",
       "\t<tr><td>  97.88387</td><td>2 baths       </td><td> 1</td></tr>\n",
       "\t<tr><td> 849.37939</td><td>2 baths       </td><td> 3</td></tr>\n",
       "\t<tr><td> 179.98002</td><td>1 shared bath </td><td> 1</td></tr>\n",
       "\t<tr><td> 179.98002</td><td>1 private bath</td><td> 1</td></tr>\n",
       "\t<tr><td> 599.93340</td><td>1 bath        </td><td> 2</td></tr>\n",
       "\t<tr><td> 221.02809</td><td>1 bath        </td><td> 1</td></tr>\n",
       "\t<tr><td> 189.45265</td><td>1 bath        </td><td>NA</td></tr>\n",
       "\t<tr><td> 221.02809</td><td>1 bath        </td><td>NA</td></tr>\n",
       "\t<tr><td> 410.48075</td><td>2 baths       </td><td> 3</td></tr>\n",
       "\t<tr><td> 770.44078</td><td>1.5 baths     </td><td> 3</td></tr>\n",
       "\t<tr><td>1105.14047</td><td>3 baths       </td><td> 4</td></tr>\n",
       "\t<tr><td> 205.24037</td><td>1 bath        </td><td> 1</td></tr>\n",
       "\t<tr><td> 309.43933</td><td>1 bath        </td><td> 1</td></tr>\n",
       "\t<tr><td> 347.32986</td><td>2 baths       </td><td> 3</td></tr>\n",
       "\t<tr><td> 315.75442</td><td>1 bath        </td><td> 2</td></tr>\n",
       "\t<tr><td> 198.92528</td><td>1.5 baths     </td><td> 1</td></tr>\n",
       "\t<tr><td> 202.08283</td><td>1 bath        </td><td> 2</td></tr>\n",
       "\t<tr><td> 915.68782</td><td>3 baths       </td><td> 4</td></tr>\n",
       "\t<tr><td> 663.08428</td><td>2 baths       </td><td> 3</td></tr>\n",
       "</tbody>\n",
       "</table>\n"
      ],
      "text/latex": [
       "A tibble: 18086 × 3\n",
       "\\begin{tabular}{lll}\n",
       " price\\_nzd & bathrooms\\_text & bedrooms\\\\\n",
       " <dbl> & <chr> & <dbl>\\\\\n",
       "\\hline\n",
       "\t  637.82393 & 2 baths        &  3\\\\\n",
       "\t  805.17377 & 2 baths        &  3\\\\\n",
       "\t 1045.14713 & 2 baths        &  3\\\\\n",
       "\t  539.94006 & 1.5 baths      &  2\\\\\n",
       "\t 1051.46222 & 2.5 baths      &  3\\\\\n",
       "\t  252.60354 & 2 baths        &  1\\\\\n",
       "\t  650.45410 & 2 baths        &  3\\\\\n",
       "\t 1016.72923 & 3 baths        &  4\\\\\n",
       "\t  682.02955 & 2 baths        &  3\\\\\n",
       "\t  284.17898 & 1.5 baths      &  2\\\\\n",
       "\t   94.72633 & 1 shared bath  & NA\\\\\n",
       "\t  126.30177 & 1 shared bath  & NA\\\\\n",
       "\t 1158.81872 & 2 baths        &  3\\\\\n",
       "\t   94.72633 & 1 bath         & NA\\\\\n",
       "\t  489.41935 & 1 bath         &  1\\\\\n",
       "\t  205.24037 & 1 private bath & NA\\\\\n",
       "\t   56.83580 & 1 shared bath  & NA\\\\\n",
       "\t  101.04141 & 1 shared bath  & NA\\\\\n",
       "\t  517.83725 & 2 baths        &  2\\\\\n",
       "\t 1023.04432 & 2 baths        &  3\\\\\n",
       "\t  798.85868 & 2 baths        &  3\\\\\n",
       "\t  142.08949 & 1 bath         &  2\\\\\n",
       "\t  419.95338 & 1 bath         &  2\\\\\n",
       "\t  461.00145 & 1.5 baths      &  2\\\\\n",
       "\t  315.75442 & 1 private bath & NA\\\\\n",
       "\t  558.88532 & 1 bath         &  2\\\\\n",
       "\t  479.94672 & 1 bath         &  2\\\\\n",
       "\t  473.63163 & 1 bath         &  2\\\\\n",
       "\t  675.71446 & 1 bath         &  3\\\\\n",
       "\t  473.63163 & 2 baths        & NA\\\\\n",
       "\t ⋮ & ⋮ & ⋮\\\\\n",
       "\t  142.08949 & 1 bath         &  1\\\\\n",
       "\t  710.44744 & 1 bath         &  2\\\\\n",
       "\t 1105.14047 & 2 baths        &  4\\\\\n",
       "\t  656.76919 & 2.5 baths      &  1\\\\\n",
       "\t  656.76919 & 2.5 baths      &  1\\\\\n",
       "\t  884.11237 & 2.5 baths      &  1\\\\\n",
       "\t  884.11237 & 2.5 baths      &  1\\\\\n",
       "\t  884.11237 & 2.5 baths      &  1\\\\\n",
       "\t  884.11237 & 2.5 baths      &  1\\\\\n",
       "\t  884.11237 & 2.5 baths      &  1\\\\\n",
       "\t  186.29511 & 2 baths        &  1\\\\\n",
       "\t   97.88387 & 2 baths        &  1\\\\\n",
       "\t  849.37939 & 2 baths        &  3\\\\\n",
       "\t  179.98002 & 1 shared bath  &  1\\\\\n",
       "\t  179.98002 & 1 private bath &  1\\\\\n",
       "\t  599.93340 & 1 bath         &  2\\\\\n",
       "\t  221.02809 & 1 bath         &  1\\\\\n",
       "\t  189.45265 & 1 bath         & NA\\\\\n",
       "\t  221.02809 & 1 bath         & NA\\\\\n",
       "\t  410.48075 & 2 baths        &  3\\\\\n",
       "\t  770.44078 & 1.5 baths      &  3\\\\\n",
       "\t 1105.14047 & 3 baths        &  4\\\\\n",
       "\t  205.24037 & 1 bath         &  1\\\\\n",
       "\t  309.43933 & 1 bath         &  1\\\\\n",
       "\t  347.32986 & 2 baths        &  3\\\\\n",
       "\t  315.75442 & 1 bath         &  2\\\\\n",
       "\t  198.92528 & 1.5 baths      &  1\\\\\n",
       "\t  202.08283 & 1 bath         &  2\\\\\n",
       "\t  915.68782 & 3 baths        &  4\\\\\n",
       "\t  663.08428 & 2 baths        &  3\\\\\n",
       "\\end{tabular}\n"
      ],
      "text/markdown": [
       "\n",
       "A tibble: 18086 × 3\n",
       "\n",
       "| price_nzd &lt;dbl&gt; | bathrooms_text &lt;chr&gt; | bedrooms &lt;dbl&gt; |\n",
       "|---|---|---|\n",
       "|  637.82393 | 2 baths        |  3 |\n",
       "|  805.17377 | 2 baths        |  3 |\n",
       "| 1045.14713 | 2 baths        |  3 |\n",
       "|  539.94006 | 1.5 baths      |  2 |\n",
       "| 1051.46222 | 2.5 baths      |  3 |\n",
       "|  252.60354 | 2 baths        |  1 |\n",
       "|  650.45410 | 2 baths        |  3 |\n",
       "| 1016.72923 | 3 baths        |  4 |\n",
       "|  682.02955 | 2 baths        |  3 |\n",
       "|  284.17898 | 1.5 baths      |  2 |\n",
       "|   94.72633 | 1 shared bath  | NA |\n",
       "|  126.30177 | 1 shared bath  | NA |\n",
       "| 1158.81872 | 2 baths        |  3 |\n",
       "|   94.72633 | 1 bath         | NA |\n",
       "|  489.41935 | 1 bath         |  1 |\n",
       "|  205.24037 | 1 private bath | NA |\n",
       "|   56.83580 | 1 shared bath  | NA |\n",
       "|  101.04141 | 1 shared bath  | NA |\n",
       "|  517.83725 | 2 baths        |  2 |\n",
       "| 1023.04432 | 2 baths        |  3 |\n",
       "|  798.85868 | 2 baths        |  3 |\n",
       "|  142.08949 | 1 bath         |  2 |\n",
       "|  419.95338 | 1 bath         |  2 |\n",
       "|  461.00145 | 1.5 baths      |  2 |\n",
       "|  315.75442 | 1 private bath | NA |\n",
       "|  558.88532 | 1 bath         |  2 |\n",
       "|  479.94672 | 1 bath         |  2 |\n",
       "|  473.63163 | 1 bath         |  2 |\n",
       "|  675.71446 | 1 bath         |  3 |\n",
       "|  473.63163 | 2 baths        | NA |\n",
       "| ⋮ | ⋮ | ⋮ |\n",
       "|  142.08949 | 1 bath         |  1 |\n",
       "|  710.44744 | 1 bath         |  2 |\n",
       "| 1105.14047 | 2 baths        |  4 |\n",
       "|  656.76919 | 2.5 baths      |  1 |\n",
       "|  656.76919 | 2.5 baths      |  1 |\n",
       "|  884.11237 | 2.5 baths      |  1 |\n",
       "|  884.11237 | 2.5 baths      |  1 |\n",
       "|  884.11237 | 2.5 baths      |  1 |\n",
       "|  884.11237 | 2.5 baths      |  1 |\n",
       "|  884.11237 | 2.5 baths      |  1 |\n",
       "|  186.29511 | 2 baths        |  1 |\n",
       "|   97.88387 | 2 baths        |  1 |\n",
       "|  849.37939 | 2 baths        |  3 |\n",
       "|  179.98002 | 1 shared bath  |  1 |\n",
       "|  179.98002 | 1 private bath |  1 |\n",
       "|  599.93340 | 1 bath         |  2 |\n",
       "|  221.02809 | 1 bath         |  1 |\n",
       "|  189.45265 | 1 bath         | NA |\n",
       "|  221.02809 | 1 bath         | NA |\n",
       "|  410.48075 | 2 baths        |  3 |\n",
       "|  770.44078 | 1.5 baths      |  3 |\n",
       "| 1105.14047 | 3 baths        |  4 |\n",
       "|  205.24037 | 1 bath         |  1 |\n",
       "|  309.43933 | 1 bath         |  1 |\n",
       "|  347.32986 | 2 baths        |  3 |\n",
       "|  315.75442 | 1 bath         |  2 |\n",
       "|  198.92528 | 1.5 baths      |  1 |\n",
       "|  202.08283 | 1 bath         |  2 |\n",
       "|  915.68782 | 3 baths        |  4 |\n",
       "|  663.08428 | 2 baths        |  3 |\n",
       "\n"
      ],
      "text/plain": [
       "      price_nzd  bathrooms_text bedrooms\n",
       "1      637.82393 2 baths         3      \n",
       "2      805.17377 2 baths         3      \n",
       "3     1045.14713 2 baths         3      \n",
       "4      539.94006 1.5 baths       2      \n",
       "5     1051.46222 2.5 baths       3      \n",
       "6      252.60354 2 baths         1      \n",
       "7      650.45410 2 baths         3      \n",
       "8     1016.72923 3 baths         4      \n",
       "9      682.02955 2 baths         3      \n",
       "10     284.17898 1.5 baths       2      \n",
       "11      94.72633 1 shared bath  NA      \n",
       "12     126.30177 1 shared bath  NA      \n",
       "13    1158.81872 2 baths         3      \n",
       "14      94.72633 1 bath         NA      \n",
       "15     489.41935 1 bath          1      \n",
       "16     205.24037 1 private bath NA      \n",
       "17      56.83580 1 shared bath  NA      \n",
       "18     101.04141 1 shared bath  NA      \n",
       "19     517.83725 2 baths         2      \n",
       "20    1023.04432 2 baths         3      \n",
       "21     798.85868 2 baths         3      \n",
       "22     142.08949 1 bath          2      \n",
       "23     419.95338 1 bath          2      \n",
       "24     461.00145 1.5 baths       2      \n",
       "25     315.75442 1 private bath NA      \n",
       "26     558.88532 1 bath          2      \n",
       "27     479.94672 1 bath          2      \n",
       "28     473.63163 1 bath          2      \n",
       "29     675.71446 1 bath          3      \n",
       "30     473.63163 2 baths        NA      \n",
       "⋮     ⋮          ⋮              ⋮       \n",
       "18057  142.08949 1 bath          1      \n",
       "18058  710.44744 1 bath          2      \n",
       "18059 1105.14047 2 baths         4      \n",
       "18060  656.76919 2.5 baths       1      \n",
       "18061  656.76919 2.5 baths       1      \n",
       "18062  884.11237 2.5 baths       1      \n",
       "18063  884.11237 2.5 baths       1      \n",
       "18064  884.11237 2.5 baths       1      \n",
       "18065  884.11237 2.5 baths       1      \n",
       "18066  884.11237 2.5 baths       1      \n",
       "18067  186.29511 2 baths         1      \n",
       "18068   97.88387 2 baths         1      \n",
       "18069  849.37939 2 baths         3      \n",
       "18070  179.98002 1 shared bath   1      \n",
       "18071  179.98002 1 private bath  1      \n",
       "18072  599.93340 1 bath          2      \n",
       "18073  221.02809 1 bath          1      \n",
       "18074  189.45265 1 bath         NA      \n",
       "18075  221.02809 1 bath         NA      \n",
       "18076  410.48075 2 baths         3      \n",
       "18077  770.44078 1.5 baths       3      \n",
       "18078 1105.14047 3 baths         4      \n",
       "18079  205.24037 1 bath          1      \n",
       "18080  309.43933 1 bath          1      \n",
       "18081  347.32986 2 baths         3      \n",
       "18082  315.75442 1 bath          2      \n",
       "18083  198.92528 1.5 baths       1      \n",
       "18084  202.08283 1 bath          2      \n",
       "18085  915.68782 3 baths         4      \n",
       "18086  663.08428 2 baths         3      "
      ]
     },
     "metadata": {},
     "output_type": "display_data"
    }
   ],
   "source": [
    "api_key <- \"58c8eb71a98bc0e70380918c4ec1041c\" #setting the api key\n",
    "response <- GET(paste0(\"http://data.fixer.io/api/latest?access_key=\", api_key, \"&symbols=EUR,NZD\")) #sending HTTP GET request to fixer.io to get the latest exchange rates between EUR and NZD\n",
    "data <- fromJSON(content(response, as = \"text\")) #processes response from API that converts JSON content into a data structure that ca be easily accessed\n",
    "exchange_rate_eur_to_nzd <- data$rate$NZD / data$rates$EUR #calculates exchange rates from EUR to NZD using rates retrieved from API response \n",
    "Spain$price <- Spain$price * exchange_rate_eur_to_nzd # multiplies price column with calculated exchange rates \n",
    "Spain <- Spain %>%\n",
    "mutate(price_nzd = price * exchange_rate_eur_to_nzd) %>% #creates new column that multiplies price with the exchange rate\n",
    "select(price_nzd, bathrooms_text, bedrooms)\n",
    "Spain #displaying the modified data"
   ]
  },
  {
   "cell_type": "code",
   "execution_count": 9,
   "id": "22e43b7a-77fc-46ed-9b6d-67dabe6302d1",
   "metadata": {
    "tags": []
   },
   "outputs": [],
   "source": [
    "Spain_data <-Spain[1:100, ] #using 100 entries of the dataset"
   ]
  },
  {
   "cell_type": "code",
   "execution_count": 15,
   "id": "0155fd36-1f66-4ed2-946e-c99069364503",
   "metadata": {
    "tags": []
   },
   "outputs": [
    {
     "data": {
      "image/png": "[encoded data removed]",
      "text/plain": [
       "plot without title"
      ]
     },
     "metadata": {
      "image/png": {
       "height": 420,
       "width": 420
      }
     },
     "output_type": "display_data"
    }
   ],
   "source": [
    "Spain_data$price <- as.numeric(Spain_data$price_nzd)\n",
    "Spain_plot_price <- ggplot(Spain_data, aes(x = price_nzd)) +\n",
    "  geom_histogram(binwidth = 50, fill = \"blue\", color = \"black\") +  #plotting a histogram that gives us an idea of the price \n",
    "  labs(title = \"Histogram of Prices (Spain)\",\n",
    "       x = \"Price\",\n",
    "       y = \"Frequency\")\n",
    "Spain_plot_price"
   ]
  },
  {
   "cell_type": "code",
   "execution_count": 16,
   "id": "cc38e587-b4f6-438b-922b-5db3bdfba4d2",
   "metadata": {
    "tags": []
   },
   "outputs": [
    {
     "name": "stderr",
     "output_type": "stream",
     "text": [
      "Warning message:\n",
      "\"\u001b[1m\u001b[22mRemoved 18 rows containing missing values (`position_stack()`).\"\n"
     ]
    },
    {
     "data": {
      "image/png": "[encoded data removed]",
      "text/plain": [
       "plot without title"
      ]
     },
     "metadata": {
      "image/png": {
       "height": 420,
       "width": 420
      }
     },
     "output_type": "display_data"
    }
   ],
   "source": [
    "Spain_data <- Spain_data %>%\n",
    "   mutate(price_range = cut(as.numeric(gsub(\"[$,]\", \"\", price_nzd)), \n",
    "                           breaks = c(0, 100, 200, 300, 400, Inf), #breaks specifies bin edges\n",
    "                           labels = c(\"0-100\", \"101-200\", \"201-300\", \"301-400\", \"401+\"))) #labels assigns labels to bins\n",
    "\n",
    "Spain_plot_price_bedrooms <- ggplot(Spain_data, aes(x = price_range, y = bedrooms, fill = price_range)) +\n",
    "  geom_bar(stat = \"identity\") +\n",
    "  labs(title = \"Bar Plot of Bedrooms by Price Range (Spain)\",   #makes a bar plot with price range on x axis and bedrooms on y axis\n",
    "       x = \"Price Range\",\n",
    "       y = \"Number of Bedrooms\")\n",
    "Spain_plot_price_bedrooms"
   ]
  },
  {
   "cell_type": "code",
   "execution_count": 17,
   "id": "82dc772b-5431-46d4-8d93-c2886b828a21",
   "metadata": {
    "tags": []
   },
   "outputs": [
    {
     "data": {
      "image/png": "[encoded data removed]",
      "text/plain": [
       "plot without title"
      ]
     },
     "metadata": {
      "image/png": {
       "height": 420,
       "width": 420
      }
     },
     "output_type": "display_data"
    }
   ],
   "source": [
    "Spain_data <- Spain_data %>%\n",
    "  mutate(bathroom_category = case_when(\n",
    "    grepl(\"shared\", bathrooms_text, ignore.case = TRUE) ~ \"Shared Bath\",\n",
    "    grepl(\"private\", bathrooms_text, ignore.case = TRUE) ~ \"Private Bath\",\n",
    "    grepl(\"half\", bathrooms_text, ignore.case = TRUE) ~ \"Half Bath\",       #creates a new column that categorises bathroom into shared, private, half, full and other\n",
    "    grepl(\"bath\", bathrooms_text, ignore.case = TRUE) ~ \"Full Bath\",\n",
    "    TRUE ~ \"Other\"\n",
    "  ))\n",
    "\n",
    "Spain_plot_bathroom_text <- ggplot(Spain_data, aes(x = bathroom_category, fill = bathroom_category)) +\n",
    "  geom_bar() +\n",
    "  labs(title = \"Bar Plot of Bathroom Categories (Spain)\",\n",
    "       x = \"Bathroom Category\",                       #plots bar graph that gives us an idea of the bathrom categories in the data \n",
    "       y = \"Count\") \n",
    "\n",
    "\n",
    "Spain_plot_bathroom_text"
   ]
  },
  {
   "cell_type": "code",
   "execution_count": 18,
   "id": "50bb2924-2e1b-45e8-b3ad-cdf9b0b30c86",
   "metadata": {
    "tags": []
   },
   "outputs": [
    {
     "data": {
      "image/png": "[encoded data removed]",
      "text/plain": [
       "plot without title"
      ]
     },
     "metadata": {
      "image/png": {
       "height": 420,
       "width": 420
      }
     },
     "output_type": "display_data"
    }
   ],
   "source": [
    "Spain_plot_bathroom_price <- ggplot(Spain_data, aes(x = price_range, fill = bathroom_category)) +\n",
    "  geom_bar(position = \"dodge\") +\n",
    "  labs(title = \"Grouped Bar Plot of Bathroom Categories by Price Range (Spain)\",\n",
    "       x = \"Price Range\",\n",
    "       y = \"Count\")           #creates a grouped bar plot which is grouped based on type of bathroom and has price range on x axis \n",
    "Spain_plot_bathroom_price"
   ]
  },
  {
   "cell_type": "code",
   "execution_count": null,
   "id": "e62f6e72-a84a-45fc-8e13-45cdb344fdd6",
   "metadata": {},
   "outputs": [],
   "source": []
  }
 ],
 "metadata": {
  "kernelspec": {
   "display_name": "R",
   "language": "R",
   "name": "ir"
  },
  "language_info": {
   "codemirror_mode": "r",
   "file_extension": ".r",
   "mimetype": "text/x-r-source",
   "name": "R",
   "pygments_lexer": "r",
   "version": "4.2.2"
  }
 },
 "nbformat": 4,
 "nbformat_minor": 5
}
