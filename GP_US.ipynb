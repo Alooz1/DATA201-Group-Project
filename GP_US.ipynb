{
 "cells": [
  {
   "cell_type": "code",
   "execution_count": 1,
   "id": "b9ec273e-8c66-4925-9c6b-e06cef31f248",
   "metadata": {
    "tags": []
   },
   "outputs": [
    {
     "name": "stderr",
     "output_type": "stream",
     "text": [
      "Installing package into 'C:/Users/DELL/AppData/Local/R/win-library/4.2'\n",
      "(as 'lib' is unspecified)\n",
      "\n"
     ]
    },
    {
     "name": "stdout",
     "output_type": "stream",
     "text": [
      "package 'tidyverse' successfully unpacked and MD5 sums checked\n",
      "\n",
      "The downloaded binary packages are in\n",
      "\tC:\\Users\\DELL\\AppData\\Local\\Temp\\Rtmpgn4mU7\\downloaded_packages\n"
     ]
    }
   ],
   "source": [
    "install.packages('tidyverse')#installing tidyverse"
   ]
  },
  {
   "cell_type": "code",
   "execution_count": 2,
   "id": "c3447227-6469-4c89-a001-a014d0708edd",
   "metadata": {
    "tags": []
   },
   "outputs": [
    {
     "name": "stderr",
     "output_type": "stream",
     "text": [
      "Warning message:\n",
      "\"package 'tidyverse' was built under R version 4.2.3\"\n",
      "Warning message:\n",
      "\"package 'ggplot2' was built under R version 4.2.3\"\n",
      "── \u001b[1mAttaching core tidyverse packages\u001b[22m ──────────────────────── tidyverse 2.0.0 ──\n",
      "\u001b[32m✔\u001b[39m \u001b[34mdplyr    \u001b[39m 1.1.0     \u001b[32m✔\u001b[39m \u001b[34mreadr    \u001b[39m 2.1.4\n",
      "\u001b[32m✔\u001b[39m \u001b[34mforcats  \u001b[39m 1.0.0     \u001b[32m✔\u001b[39m \u001b[34mstringr  \u001b[39m 1.5.0\n",
      "\u001b[32m✔\u001b[39m \u001b[34mggplot2  \u001b[39m 3.4.2     \u001b[32m✔\u001b[39m \u001b[34mtibble   \u001b[39m 3.2.0\n",
      "\u001b[32m✔\u001b[39m \u001b[34mlubridate\u001b[39m 1.9.2     \u001b[32m✔\u001b[39m \u001b[34mtidyr    \u001b[39m 1.3.0\n",
      "\u001b[32m✔\u001b[39m \u001b[34mpurrr    \u001b[39m 1.0.1     \n",
      "── \u001b[1mConflicts\u001b[22m ────────────────────────────────────────── tidyverse_conflicts() ──\n",
      "\u001b[31m✖\u001b[39m \u001b[34mdplyr\u001b[39m::\u001b[32mfilter()\u001b[39m masks \u001b[34mstats\u001b[39m::filter()\n",
      "\u001b[31m✖\u001b[39m \u001b[34mdplyr\u001b[39m::\u001b[32mlag()\u001b[39m    masks \u001b[34mstats\u001b[39m::lag()\n",
      "\u001b[36mℹ\u001b[39m Use the conflicted package (\u001b[3m\u001b[34m<http://conflicted.r-lib.org/>\u001b[39m\u001b[23m) to force all conflicts to become errors\n"
     ]
    }
   ],
   "source": [
    "library(tidyverse)# loading tidyverse"
   ]
  },
  {
   "cell_type": "code",
   "execution_count": 3,
   "id": "f2aa929e-5b35-4cf8-8cf7-51622ec0e43d",
   "metadata": {
    "tags": []
   },
   "outputs": [
    {
     "name": "stderr",
     "output_type": "stream",
     "text": [
      "\u001b[1mRows: \u001b[22m\u001b[34m14861\u001b[39m \u001b[1mColumns: \u001b[22m\u001b[34m75\u001b[39m\n",
      "\u001b[36m──\u001b[39m \u001b[1mColumn specification\u001b[22m \u001b[36m────────────────────────────────────────────────────────\u001b[39m\n",
      "\u001b[1mDelimiter:\u001b[22m \",\"\n",
      "\u001b[31mchr\u001b[39m  (23): listing_url, source, name, description, neighborhood_overview, pi...\n",
      "\u001b[32mdbl\u001b[39m  (38): id, scrape_id, host_id, host_listings_count, host_total_listings_...\n",
      "\u001b[33mlgl\u001b[39m   (9): host_is_superhost, host_has_profile_pic, host_identity_verified, ...\n",
      "\u001b[34mdate\u001b[39m  (5): last_scraped, host_since, calendar_last_scraped, first_review, la...\n",
      "\n",
      "\u001b[36mℹ\u001b[39m Use `spec()` to retrieve the full column specification for this data.\n",
      "\u001b[36mℹ\u001b[39m Specify the column types or set `show_col_types = FALSE` to quiet this message.\n"
     ]
    }
   ],
   "source": [
    "US <- read_csv('http://data.insideairbnb.com/united-states/tx/austin/2023-09-10/data/listings.csv.gz')#reading the csv to work with the data"
   ]
  },
  {
   "cell_type": "code",
   "execution_count": 4,
   "id": "f3d32cc7-56bb-4e04-a158-2b5521e3b9bd",
   "metadata": {
    "tags": []
   },
   "outputs": [
    {
     "name": "stdout",
     "output_type": "stream",
     "text": [
      "Rows: 14,861\n",
      "Columns: 75\n",
      "$ id                                           \u001b[3m\u001b[90m<dbl>\u001b[39m\u001b[23m 5456, 5769, 6413, 6448, 8…\n",
      "$ listing_url                                  \u001b[3m\u001b[90m<chr>\u001b[39m\u001b[23m \"https://www.airbnb.com/r…\n",
      "$ scrape_id                                    \u001b[3m\u001b[90m<dbl>\u001b[39m\u001b[23m 2.023091e+13, 2.023091e+1…\n",
      "$ last_scraped                                 \u001b[3m\u001b[90m<date>\u001b[39m\u001b[23m 2023-09-10, 2023-09-11, …\n",
      "$ source                                       \u001b[3m\u001b[90m<chr>\u001b[39m\u001b[23m \"city scrape\", \"previous …\n",
      "$ name                                         \u001b[3m\u001b[90m<chr>\u001b[39m\u001b[23m \"Guesthouse in Austin · ★…\n",
      "$ description                                  \u001b[3m\u001b[90m<chr>\u001b[39m\u001b[23m \"Week of July 31 - Aug 10…\n",
      "$ neighborhood_overview                        \u001b[3m\u001b[90m<chr>\u001b[39m\u001b[23m \"My neighborhood is ideal…\n",
      "$ picture_url                                  \u001b[3m\u001b[90m<chr>\u001b[39m\u001b[23m \"https://a0.muscache.com/…\n",
      "$ host_id                                      \u001b[3m\u001b[90m<dbl>\u001b[39m\u001b[23m 8028, 8186, 13879, 14156,…\n",
      "$ host_url                                     \u001b[3m\u001b[90m<chr>\u001b[39m\u001b[23m \"https://www.airbnb.com/u…\n",
      "$ host_name                                    \u001b[3m\u001b[90m<chr>\u001b[39m\u001b[23m \"Sylvia\", \"Elizabeth\", \"T…\n",
      "$ host_since                                   \u001b[3m\u001b[90m<date>\u001b[39m\u001b[23m 2009-02-16, 2009-02-19, …\n",
      "$ host_location                                \u001b[3m\u001b[90m<chr>\u001b[39m\u001b[23m \"Austin, TX\", \"Austin, TX…\n",
      "$ host_about                                   \u001b[3m\u001b[90m<chr>\u001b[39m\u001b[23m \"I am a licensed Real Est…\n",
      "$ host_response_time                           \u001b[3m\u001b[90m<chr>\u001b[39m\u001b[23m \"within an hour\", \"within…\n",
      "$ host_response_rate                           \u001b[3m\u001b[90m<chr>\u001b[39m\u001b[23m \"100%\", \"100%\", \"100%\", \"…\n",
      "$ host_acceptance_rate                         \u001b[3m\u001b[90m<chr>\u001b[39m\u001b[23m \"97%\", \"91%\", \"100%\", \"10…\n",
      "$ host_is_superhost                            \u001b[3m\u001b[90m<lgl>\u001b[39m\u001b[23m TRUE, TRUE, FALSE, TRUE, …\n",
      "$ host_thumbnail_url                           \u001b[3m\u001b[90m<chr>\u001b[39m\u001b[23m \"https://a0.muscache.com/…\n",
      "$ host_picture_url                             \u001b[3m\u001b[90m<chr>\u001b[39m\u001b[23m \"https://a0.muscache.com/…\n",
      "$ host_neighbourhood                           \u001b[3m\u001b[90m<chr>\u001b[39m\u001b[23m \"East Downtown\", \"SW Will…\n",
      "$ host_listings_count                          \u001b[3m\u001b[90m<dbl>\u001b[39m\u001b[23m 1, 1, 1, 1, 1, 2, 1, 1, 3…\n",
      "$ host_total_listings_count                    \u001b[3m\u001b[90m<dbl>\u001b[39m\u001b[23m 4, 4, 1, 2, 1, 2, 4, 1, 5…\n",
      "$ host_verifications                           \u001b[3m\u001b[90m<chr>\u001b[39m\u001b[23m \"['email', 'phone']\", \"['…\n",
      "$ host_has_profile_pic                         \u001b[3m\u001b[90m<lgl>\u001b[39m\u001b[23m TRUE, TRUE, TRUE, TRUE, T…\n",
      "$ host_identity_verified                       \u001b[3m\u001b[90m<lgl>\u001b[39m\u001b[23m TRUE, TRUE, TRUE, TRUE, F…\n",
      "$ neighbourhood                                \u001b[3m\u001b[90m<chr>\u001b[39m\u001b[23m \"Austin, Texas, United St…\n",
      "$ neighbourhood_cleansed                       \u001b[3m\u001b[90m<dbl>\u001b[39m\u001b[23m 78702, 78729, 78704, 7870…\n",
      "$ neighbourhood_group_cleansed                 \u001b[3m\u001b[90m<lgl>\u001b[39m\u001b[23m NA, NA, NA, NA, NA, NA, N…\n",
      "$ latitude                                     \u001b[3m\u001b[90m<dbl>\u001b[39m\u001b[23m 30.26057, 30.45697, 30.24…\n",
      "$ longitude                                    \u001b[3m\u001b[90m<dbl>\u001b[39m\u001b[23m -97.73441, -97.78422, -97…\n",
      "$ property_type                                \u001b[3m\u001b[90m<chr>\u001b[39m\u001b[23m \"Entire guesthouse\", \"Pri…\n",
      "$ room_type                                    \u001b[3m\u001b[90m<chr>\u001b[39m\u001b[23m \"Entire home/apt\", \"Priva…\n",
      "$ accommodates                                 \u001b[3m\u001b[90m<dbl>\u001b[39m\u001b[23m 3, 2, 2, 2, 2, 3, 2, 2, 4…\n",
      "$ bathrooms                                    \u001b[3m\u001b[90m<lgl>\u001b[39m\u001b[23m NA, NA, NA, NA, NA, NA, N…\n",
      "$ bathrooms_text                               \u001b[3m\u001b[90m<chr>\u001b[39m\u001b[23m \"1 bath\", \"1 shared bath\"…\n",
      "$ bedrooms                                     \u001b[3m\u001b[90m<dbl>\u001b[39m\u001b[23m 1, NA, NA, 1, 1, 2, 3, 1,…\n",
      "$ beds                                         \u001b[3m\u001b[90m<dbl>\u001b[39m\u001b[23m 2, 1, 1, 2, 1, 2, 2, 1, 2…\n",
      "$ amenities                                    \u001b[3m\u001b[90m<chr>\u001b[39m\u001b[23m \"[\\\"Air conditioning\\\", \\…\n",
      "$ price                                        \u001b[3m\u001b[90m<chr>\u001b[39m\u001b[23m \"$126.00\", \"$45.00\", \"$57…\n",
      "$ minimum_nights                               \u001b[3m\u001b[90m<dbl>\u001b[39m\u001b[23m 2, 1, 30, 3, 4, 30, 3, 30…\n",
      "$ maximum_nights                               \u001b[3m\u001b[90m<dbl>\u001b[39m\u001b[23m 90, 14, 90, 365, 90, 180,…\n",
      "$ minimum_minimum_nights                       \u001b[3m\u001b[90m<dbl>\u001b[39m\u001b[23m 1, 1, 30, 3, 4, 30, 3, 30…\n",
      "$ maximum_minimum_nights                       \u001b[3m\u001b[90m<dbl>\u001b[39m\u001b[23m 2, 1, 30, 3, 45, 30, 3, 3…\n",
      "$ minimum_maximum_nights                       \u001b[3m\u001b[90m<dbl>\u001b[39m\u001b[23m 90, 14, 90, 1125, 90, 180…\n",
      "$ maximum_maximum_nights                       \u001b[3m\u001b[90m<dbl>\u001b[39m\u001b[23m 90, 14, 90, 1125, 90, 180…\n",
      "$ minimum_nights_avg_ntm                       \u001b[3m\u001b[90m<dbl>\u001b[39m\u001b[23m 2.0, 1.0, 30.0, 3.0, 16.2…\n",
      "$ maximum_nights_avg_ntm                       \u001b[3m\u001b[90m<dbl>\u001b[39m\u001b[23m 90, 14, 90, 1125, 90, 180…\n",
      "$ calendar_updated                             \u001b[3m\u001b[90m<lgl>\u001b[39m\u001b[23m NA, NA, NA, NA, NA, NA, N…\n",
      "$ has_availability                             \u001b[3m\u001b[90m<lgl>\u001b[39m\u001b[23m TRUE, TRUE, TRUE, TRUE, T…\n",
      "$ availability_30                              \u001b[3m\u001b[90m<dbl>\u001b[39m\u001b[23m 8, 0, 0, 14, 0, 0, 3, 18,…\n",
      "$ availability_60                              \u001b[3m\u001b[90m<dbl>\u001b[39m\u001b[23m 19, 0, 0, 29, 27, 0, 3, 2…\n",
      "$ availability_90                              \u001b[3m\u001b[90m<dbl>\u001b[39m\u001b[23m 41, 0, 0, 53, 57, 0, 3, 5…\n",
      "$ availability_365                             \u001b[3m\u001b[90m<dbl>\u001b[39m\u001b[23m 306, 0, 0, 156, 98, 162, …\n",
      "$ calendar_last_scraped                        \u001b[3m\u001b[90m<date>\u001b[39m\u001b[23m 2023-09-10, 2023-09-11, …\n",
      "$ number_of_reviews                            \u001b[3m\u001b[90m<dbl>\u001b[39m\u001b[23m 657, 290, 122, 305, 51, 1…\n",
      "$ number_of_reviews_ltm                        \u001b[3m\u001b[90m<dbl>\u001b[39m\u001b[23m 42, 21, 3, 17, 3, 2, 15, …\n",
      "$ number_of_reviews_l30d                       \u001b[3m\u001b[90m<dbl>\u001b[39m\u001b[23m 4, 0, 0, 1, 0, 0, 1, 1, 0…\n",
      "$ first_review                                 \u001b[3m\u001b[90m<date>\u001b[39m\u001b[23m 2009-03-08, 2010-04-10, …\n",
      "$ last_review                                  \u001b[3m\u001b[90m<date>\u001b[39m\u001b[23m 2023-08-27, 2023-08-04, …\n",
      "$ review_scores_rating                         \u001b[3m\u001b[90m<dbl>\u001b[39m\u001b[23m 4.84, 4.90, 4.97, 4.97, 4…\n",
      "$ review_scores_accuracy                       \u001b[3m\u001b[90m<dbl>\u001b[39m\u001b[23m 4.87, 4.90, 4.99, 4.97, 4…\n",
      "$ review_scores_cleanliness                    \u001b[3m\u001b[90m<dbl>\u001b[39m\u001b[23m 4.85, 4.87, 4.99, 4.96, 4…\n",
      "$ review_scores_checkin                        \u001b[3m\u001b[90m<dbl>\u001b[39m\u001b[23m 4.90, 4.91, 4.99, 4.99, 4…\n",
      "$ review_scores_communication                  \u001b[3m\u001b[90m<dbl>\u001b[39m\u001b[23m 4.83, 4.94, 4.98, 4.97, 4…\n",
      "$ review_scores_location                       \u001b[3m\u001b[90m<dbl>\u001b[39m\u001b[23m 4.73, 4.76, 4.87, 4.97, 4…\n",
      "$ review_scores_value                          \u001b[3m\u001b[90m<dbl>\u001b[39m\u001b[23m 4.79, 4.92, 4.93, 4.89, 4…\n",
      "$ license                                      \u001b[3m\u001b[90m<lgl>\u001b[39m\u001b[23m NA, NA, NA, NA, NA, NA, N…\n",
      "$ instant_bookable                             \u001b[3m\u001b[90m<lgl>\u001b[39m\u001b[23m FALSE, FALSE, FALSE, TRUE…\n",
      "$ calculated_host_listings_count               \u001b[3m\u001b[90m<dbl>\u001b[39m\u001b[23m 1, 1, 1, 1, 1, 2, 1, 1, 1…\n",
      "$ calculated_host_listings_count_entire_homes  \u001b[3m\u001b[90m<dbl>\u001b[39m\u001b[23m 1, 0, 1, 1, 1, 2, 1, 1, 1…\n",
      "$ calculated_host_listings_count_private_rooms \u001b[3m\u001b[90m<dbl>\u001b[39m\u001b[23m 0, 1, 0, 0, 0, 0, 0, 0, 0…\n",
      "$ calculated_host_listings_count_shared_rooms  \u001b[3m\u001b[90m<dbl>\u001b[39m\u001b[23m 0, 0, 0, 0, 0, 0, 0, 0, 0…\n",
      "$ reviews_per_month                            \u001b[3m\u001b[90m<dbl>\u001b[39m\u001b[23m 3.72, 1.77, 0.73, 2.09, 0…\n"
     ]
    }
   ],
   "source": [
    "glimpse(US)# taking a look at the data to understand the content"
   ]
  },
  {
   "cell_type": "code",
   "execution_count": 5,
   "id": "00f731c2-39f7-432a-b87d-ba3917fbf7eb",
   "metadata": {
    "tags": []
   },
   "outputs": [
    {
     "name": "stderr",
     "output_type": "stream",
     "text": [
      "Warning message in eval(expr, envir, enclos):\n",
      "\"NAs introduced by coercion\"\n"
     ]
    }
   ],
   "source": [
    "US$price <- as.numeric(gsub(\"\\\\$\", \"\", US$price))# converting the price column into numeric format and removing the dollar symbol"
   ]
  },
  {
   "cell_type": "code",
   "execution_count": 6,
   "id": "6606f753-21d7-4129-b23d-3c0c85e4ffa9",
   "metadata": {
    "tags": []
   },
   "outputs": [
    {
     "data": {
      "text/html": [
       "<table class=\"dataframe\">\n",
       "<caption>A tibble: 14861 × 3</caption>\n",
       "<thead>\n",
       "\t<tr><th scope=col>price</th><th scope=col>bedrooms</th><th scope=col>bathrooms_text</th></tr>\n",
       "\t<tr><th scope=col>&lt;dbl&gt;</th><th scope=col>&lt;dbl&gt;</th><th scope=col>&lt;chr&gt;</th></tr>\n",
       "</thead>\n",
       "<tbody>\n",
       "\t<tr><td>126</td><td> 1</td><td>1 bath        </td></tr>\n",
       "\t<tr><td> 45</td><td>NA</td><td>1 shared bath </td></tr>\n",
       "\t<tr><td> 57</td><td>NA</td><td>1 bath        </td></tr>\n",
       "\t<tr><td>159</td><td> 1</td><td>1 bath        </td></tr>\n",
       "\t<tr><td> 48</td><td> 1</td><td>1 bath        </td></tr>\n",
       "\t<tr><td>123</td><td> 2</td><td>2 baths       </td></tr>\n",
       "\t<tr><td>107</td><td> 3</td><td>2 baths       </td></tr>\n",
       "\t<tr><td> 65</td><td> 1</td><td>1 bath        </td></tr>\n",
       "\t<tr><td>250</td><td> 2</td><td>1 bath        </td></tr>\n",
       "\t<tr><td>180</td><td> 2</td><td>1 bath        </td></tr>\n",
       "\t<tr><td> 33</td><td>NA</td><td>1 bath        </td></tr>\n",
       "\t<tr><td>450</td><td> 2</td><td>2 baths       </td></tr>\n",
       "\t<tr><td> 43</td><td>NA</td><td>1 shared bath </td></tr>\n",
       "\t<tr><td>101</td><td> 2</td><td>1 bath        </td></tr>\n",
       "\t<tr><td>106</td><td> 1</td><td>1 bath        </td></tr>\n",
       "\t<tr><td>154</td><td> 1</td><td>1.5 baths     </td></tr>\n",
       "\t<tr><td>134</td><td> 1</td><td>1 bath        </td></tr>\n",
       "\t<tr><td>165</td><td> 1</td><td>1 bath        </td></tr>\n",
       "\t<tr><td>135</td><td> 1</td><td>1 bath        </td></tr>\n",
       "\t<tr><td>297</td><td> 2</td><td>2.5 baths     </td></tr>\n",
       "\t<tr><td>111</td><td> 2</td><td>2 baths       </td></tr>\n",
       "\t<tr><td>118</td><td> 1</td><td>1 bath        </td></tr>\n",
       "\t<tr><td>130</td><td> 1</td><td>1 bath        </td></tr>\n",
       "\t<tr><td>125</td><td> 1</td><td>1 bath        </td></tr>\n",
       "\t<tr><td>400</td><td> 5</td><td>3 baths       </td></tr>\n",
       "\t<tr><td>400</td><td> 3</td><td>2 baths       </td></tr>\n",
       "\t<tr><td>104</td><td>NA</td><td>1 private bath</td></tr>\n",
       "\t<tr><td>179</td><td> 2</td><td>1 bath        </td></tr>\n",
       "\t<tr><td>750</td><td> 4</td><td>3 baths       </td></tr>\n",
       "\t<tr><td>240</td><td> 5</td><td>1 bath        </td></tr>\n",
       "\t<tr><td>⋮</td><td>⋮</td><td>⋮</td></tr>\n",
       "\t<tr><td>263</td><td>2</td><td>2.5 baths</td></tr>\n",
       "\t<tr><td>318</td><td>5</td><td>3.5 baths</td></tr>\n",
       "\t<tr><td>108</td><td>2</td><td>1 bath   </td></tr>\n",
       "\t<tr><td> 88</td><td>2</td><td>2 baths  </td></tr>\n",
       "\t<tr><td>259</td><td>1</td><td>1 bath   </td></tr>\n",
       "\t<tr><td> 76</td><td>1</td><td>1 bath   </td></tr>\n",
       "\t<tr><td> 82</td><td>1</td><td>1 bath   </td></tr>\n",
       "\t<tr><td> 76</td><td>1</td><td>1 bath   </td></tr>\n",
       "\t<tr><td> 76</td><td>1</td><td>1 bath   </td></tr>\n",
       "\t<tr><td> 82</td><td>1</td><td>1 bath   </td></tr>\n",
       "\t<tr><td> 70</td><td>1</td><td>1 bath   </td></tr>\n",
       "\t<tr><td>135</td><td>1</td><td>1 bath   </td></tr>\n",
       "\t<tr><td>433</td><td>3</td><td>2.5 baths</td></tr>\n",
       "\t<tr><td>147</td><td>1</td><td>1 bath   </td></tr>\n",
       "\t<tr><td>130</td><td>1</td><td>1 bath   </td></tr>\n",
       "\t<tr><td>150</td><td>1</td><td>1 bath   </td></tr>\n",
       "\t<tr><td> 83</td><td>2</td><td>2 baths  </td></tr>\n",
       "\t<tr><td>207</td><td>1</td><td>1 bath   </td></tr>\n",
       "\t<tr><td>241</td><td>6</td><td>6 baths  </td></tr>\n",
       "\t<tr><td> 90</td><td>1</td><td>1 bath   </td></tr>\n",
       "\t<tr><td> 70</td><td>1</td><td>1 bath   </td></tr>\n",
       "\t<tr><td>522</td><td>4</td><td>3.5 baths</td></tr>\n",
       "\t<tr><td> 72</td><td>2</td><td>1.5 baths</td></tr>\n",
       "\t<tr><td>325</td><td>3</td><td>2 baths  </td></tr>\n",
       "\t<tr><td> 92</td><td>1</td><td>1 bath   </td></tr>\n",
       "\t<tr><td> 50</td><td>1</td><td>1 bath   </td></tr>\n",
       "\t<tr><td>157</td><td>4</td><td>2 baths  </td></tr>\n",
       "\t<tr><td>117</td><td>3</td><td>2.5 baths</td></tr>\n",
       "\t<tr><td>133</td><td>3</td><td>2 baths  </td></tr>\n",
       "\t<tr><td>400</td><td>4</td><td>2.5 baths</td></tr>\n",
       "</tbody>\n",
       "</table>\n"
      ],
      "text/latex": [
       "A tibble: 14861 × 3\n",
       "\\begin{tabular}{lll}\n",
       " price & bedrooms & bathrooms\\_text\\\\\n",
       " <dbl> & <dbl> & <chr>\\\\\n",
       "\\hline\n",
       "\t 126 &  1 & 1 bath        \\\\\n",
       "\t  45 & NA & 1 shared bath \\\\\n",
       "\t  57 & NA & 1 bath        \\\\\n",
       "\t 159 &  1 & 1 bath        \\\\\n",
       "\t  48 &  1 & 1 bath        \\\\\n",
       "\t 123 &  2 & 2 baths       \\\\\n",
       "\t 107 &  3 & 2 baths       \\\\\n",
       "\t  65 &  1 & 1 bath        \\\\\n",
       "\t 250 &  2 & 1 bath        \\\\\n",
       "\t 180 &  2 & 1 bath        \\\\\n",
       "\t  33 & NA & 1 bath        \\\\\n",
       "\t 450 &  2 & 2 baths       \\\\\n",
       "\t  43 & NA & 1 shared bath \\\\\n",
       "\t 101 &  2 & 1 bath        \\\\\n",
       "\t 106 &  1 & 1 bath        \\\\\n",
       "\t 154 &  1 & 1.5 baths     \\\\\n",
       "\t 134 &  1 & 1 bath        \\\\\n",
       "\t 165 &  1 & 1 bath        \\\\\n",
       "\t 135 &  1 & 1 bath        \\\\\n",
       "\t 297 &  2 & 2.5 baths     \\\\\n",
       "\t 111 &  2 & 2 baths       \\\\\n",
       "\t 118 &  1 & 1 bath        \\\\\n",
       "\t 130 &  1 & 1 bath        \\\\\n",
       "\t 125 &  1 & 1 bath        \\\\\n",
       "\t 400 &  5 & 3 baths       \\\\\n",
       "\t 400 &  3 & 2 baths       \\\\\n",
       "\t 104 & NA & 1 private bath\\\\\n",
       "\t 179 &  2 & 1 bath        \\\\\n",
       "\t 750 &  4 & 3 baths       \\\\\n",
       "\t 240 &  5 & 1 bath        \\\\\n",
       "\t ⋮ & ⋮ & ⋮\\\\\n",
       "\t 263 & 2 & 2.5 baths\\\\\n",
       "\t 318 & 5 & 3.5 baths\\\\\n",
       "\t 108 & 2 & 1 bath   \\\\\n",
       "\t  88 & 2 & 2 baths  \\\\\n",
       "\t 259 & 1 & 1 bath   \\\\\n",
       "\t  76 & 1 & 1 bath   \\\\\n",
       "\t  82 & 1 & 1 bath   \\\\\n",
       "\t  76 & 1 & 1 bath   \\\\\n",
       "\t  76 & 1 & 1 bath   \\\\\n",
       "\t  82 & 1 & 1 bath   \\\\\n",
       "\t  70 & 1 & 1 bath   \\\\\n",
       "\t 135 & 1 & 1 bath   \\\\\n",
       "\t 433 & 3 & 2.5 baths\\\\\n",
       "\t 147 & 1 & 1 bath   \\\\\n",
       "\t 130 & 1 & 1 bath   \\\\\n",
       "\t 150 & 1 & 1 bath   \\\\\n",
       "\t  83 & 2 & 2 baths  \\\\\n",
       "\t 207 & 1 & 1 bath   \\\\\n",
       "\t 241 & 6 & 6 baths  \\\\\n",
       "\t  90 & 1 & 1 bath   \\\\\n",
       "\t  70 & 1 & 1 bath   \\\\\n",
       "\t 522 & 4 & 3.5 baths\\\\\n",
       "\t  72 & 2 & 1.5 baths\\\\\n",
       "\t 325 & 3 & 2 baths  \\\\\n",
       "\t  92 & 1 & 1 bath   \\\\\n",
       "\t  50 & 1 & 1 bath   \\\\\n",
       "\t 157 & 4 & 2 baths  \\\\\n",
       "\t 117 & 3 & 2.5 baths\\\\\n",
       "\t 133 & 3 & 2 baths  \\\\\n",
       "\t 400 & 4 & 2.5 baths\\\\\n",
       "\\end{tabular}\n"
      ],
      "text/markdown": [
       "\n",
       "A tibble: 14861 × 3\n",
       "\n",
       "| price &lt;dbl&gt; | bedrooms &lt;dbl&gt; | bathrooms_text &lt;chr&gt; |\n",
       "|---|---|---|\n",
       "| 126 |  1 | 1 bath         |\n",
       "|  45 | NA | 1 shared bath  |\n",
       "|  57 | NA | 1 bath         |\n",
       "| 159 |  1 | 1 bath         |\n",
       "|  48 |  1 | 1 bath         |\n",
       "| 123 |  2 | 2 baths        |\n",
       "| 107 |  3 | 2 baths        |\n",
       "|  65 |  1 | 1 bath         |\n",
       "| 250 |  2 | 1 bath         |\n",
       "| 180 |  2 | 1 bath         |\n",
       "|  33 | NA | 1 bath         |\n",
       "| 450 |  2 | 2 baths        |\n",
       "|  43 | NA | 1 shared bath  |\n",
       "| 101 |  2 | 1 bath         |\n",
       "| 106 |  1 | 1 bath         |\n",
       "| 154 |  1 | 1.5 baths      |\n",
       "| 134 |  1 | 1 bath         |\n",
       "| 165 |  1 | 1 bath         |\n",
       "| 135 |  1 | 1 bath         |\n",
       "| 297 |  2 | 2.5 baths      |\n",
       "| 111 |  2 | 2 baths        |\n",
       "| 118 |  1 | 1 bath         |\n",
       "| 130 |  1 | 1 bath         |\n",
       "| 125 |  1 | 1 bath         |\n",
       "| 400 |  5 | 3 baths        |\n",
       "| 400 |  3 | 2 baths        |\n",
       "| 104 | NA | 1 private bath |\n",
       "| 179 |  2 | 1 bath         |\n",
       "| 750 |  4 | 3 baths        |\n",
       "| 240 |  5 | 1 bath         |\n",
       "| ⋮ | ⋮ | ⋮ |\n",
       "| 263 | 2 | 2.5 baths |\n",
       "| 318 | 5 | 3.5 baths |\n",
       "| 108 | 2 | 1 bath    |\n",
       "|  88 | 2 | 2 baths   |\n",
       "| 259 | 1 | 1 bath    |\n",
       "|  76 | 1 | 1 bath    |\n",
       "|  82 | 1 | 1 bath    |\n",
       "|  76 | 1 | 1 bath    |\n",
       "|  76 | 1 | 1 bath    |\n",
       "|  82 | 1 | 1 bath    |\n",
       "|  70 | 1 | 1 bath    |\n",
       "| 135 | 1 | 1 bath    |\n",
       "| 433 | 3 | 2.5 baths |\n",
       "| 147 | 1 | 1 bath    |\n",
       "| 130 | 1 | 1 bath    |\n",
       "| 150 | 1 | 1 bath    |\n",
       "|  83 | 2 | 2 baths   |\n",
       "| 207 | 1 | 1 bath    |\n",
       "| 241 | 6 | 6 baths   |\n",
       "|  90 | 1 | 1 bath    |\n",
       "|  70 | 1 | 1 bath    |\n",
       "| 522 | 4 | 3.5 baths |\n",
       "|  72 | 2 | 1.5 baths |\n",
       "| 325 | 3 | 2 baths   |\n",
       "|  92 | 1 | 1 bath    |\n",
       "|  50 | 1 | 1 bath    |\n",
       "| 157 | 4 | 2 baths   |\n",
       "| 117 | 3 | 2.5 baths |\n",
       "| 133 | 3 | 2 baths   |\n",
       "| 400 | 4 | 2.5 baths |\n",
       "\n"
      ],
      "text/plain": [
       "      price bedrooms bathrooms_text\n",
       "1     126    1       1 bath        \n",
       "2      45   NA       1 shared bath \n",
       "3      57   NA       1 bath        \n",
       "4     159    1       1 bath        \n",
       "5      48    1       1 bath        \n",
       "6     123    2       2 baths       \n",
       "7     107    3       2 baths       \n",
       "8      65    1       1 bath        \n",
       "9     250    2       1 bath        \n",
       "10    180    2       1 bath        \n",
       "11     33   NA       1 bath        \n",
       "12    450    2       2 baths       \n",
       "13     43   NA       1 shared bath \n",
       "14    101    2       1 bath        \n",
       "15    106    1       1 bath        \n",
       "16    154    1       1.5 baths     \n",
       "17    134    1       1 bath        \n",
       "18    165    1       1 bath        \n",
       "19    135    1       1 bath        \n",
       "20    297    2       2.5 baths     \n",
       "21    111    2       2 baths       \n",
       "22    118    1       1 bath        \n",
       "23    130    1       1 bath        \n",
       "24    125    1       1 bath        \n",
       "25    400    5       3 baths       \n",
       "26    400    3       2 baths       \n",
       "27    104   NA       1 private bath\n",
       "28    179    2       1 bath        \n",
       "29    750    4       3 baths       \n",
       "30    240    5       1 bath        \n",
       "⋮     ⋮     ⋮        ⋮             \n",
       "14832 263   2        2.5 baths     \n",
       "14833 318   5        3.5 baths     \n",
       "14834 108   2        1 bath        \n",
       "14835  88   2        2 baths       \n",
       "14836 259   1        1 bath        \n",
       "14837  76   1        1 bath        \n",
       "14838  82   1        1 bath        \n",
       "14839  76   1        1 bath        \n",
       "14840  76   1        1 bath        \n",
       "14841  82   1        1 bath        \n",
       "14842  70   1        1 bath        \n",
       "14843 135   1        1 bath        \n",
       "14844 433   3        2.5 baths     \n",
       "14845 147   1        1 bath        \n",
       "14846 130   1        1 bath        \n",
       "14847 150   1        1 bath        \n",
       "14848  83   2        2 baths       \n",
       "14849 207   1        1 bath        \n",
       "14850 241   6        6 baths       \n",
       "14851  90   1        1 bath        \n",
       "14852  70   1        1 bath        \n",
       "14853 522   4        3.5 baths     \n",
       "14854  72   2        1.5 baths     \n",
       "14855 325   3        2 baths       \n",
       "14856  92   1        1 bath        \n",
       "14857  50   1        1 bath        \n",
       "14858 157   4        2 baths       \n",
       "14859 117   3        2.5 baths     \n",
       "14860 133   3        2 baths       \n",
       "14861 400   4        2.5 baths     "
      ]
     },
     "metadata": {},
     "output_type": "display_data"
    }
   ],
   "source": [
    "US <- US %>% select(price,bedrooms,bathrooms_text)#selecting price, bedrooms, bathrooms_text from the Spain data set and placing it under a new variable so that it is easy to work with\n",
    "US #viewing the selected data"
   ]
  },
  {
   "cell_type": "code",
   "execution_count": 7,
   "id": "b551e580-37b3-465b-9a5b-70849b116818",
   "metadata": {
    "tags": []
   },
   "outputs": [
    {
     "name": "stderr",
     "output_type": "stream",
     "text": [
      "Warning message:\n",
      "\"package 'jsonlite' was built under R version 4.2.3\"\n",
      "\n",
      "Attaching package: 'jsonlite'\n",
      "\n",
      "\n",
      "The following object is masked from 'package:purrr':\n",
      "\n",
      "    flatten\n",
      "\n",
      "\n",
      "Warning message:\n",
      "\"package 'httr' was built under R version 4.2.3\"\n"
     ]
    }
   ],
   "source": [
    "#loading necessary libraries to plot the data \n",
    "library(ggplot2)\n",
    "library(jsonlite)\n",
    "library(httr)"
   ]
  },
  {
   "cell_type": "code",
   "execution_count": 8,
   "id": "86e1562f-89c7-4180-9833-4e3bf583abc4",
   "metadata": {
    "tags": []
   },
   "outputs": [
    {
     "data": {
      "text/html": [
       "<table class=\"dataframe\">\n",
       "<caption>A tibble: 14861 × 3</caption>\n",
       "<thead>\n",
       "\t<tr><th scope=col>price_nzd</th><th scope=col>bathrooms_text</th><th scope=col>bedrooms</th></tr>\n",
       "\t<tr><th scope=col>&lt;dbl&gt;</th><th scope=col>&lt;chr&gt;</th><th scope=col>&lt;dbl&gt;</th></tr>\n",
       "</thead>\n",
       "<tbody>\n",
       "\t<tr><td> 359.56417</td><td>1 bath        </td><td> 1</td></tr>\n",
       "\t<tr><td> 128.41577</td><td>1 shared bath </td><td>NA</td></tr>\n",
       "\t<tr><td> 162.65998</td><td>1 bath        </td><td>NA</td></tr>\n",
       "\t<tr><td> 453.73573</td><td>1 bath        </td><td> 1</td></tr>\n",
       "\t<tr><td> 136.97683</td><td>1 bath        </td><td> 1</td></tr>\n",
       "\t<tr><td> 351.00311</td><td>2 baths       </td><td> 2</td></tr>\n",
       "\t<tr><td> 305.34417</td><td>2 baths       </td><td> 3</td></tr>\n",
       "\t<tr><td> 185.48945</td><td>1 bath        </td><td> 1</td></tr>\n",
       "\t<tr><td> 713.42097</td><td>1 bath        </td><td> 2</td></tr>\n",
       "\t<tr><td> 513.66310</td><td>1 bath        </td><td> 2</td></tr>\n",
       "\t<tr><td>  94.17157</td><td>1 bath        </td><td>NA</td></tr>\n",
       "\t<tr><td>1284.15774</td><td>2 baths       </td><td> 2</td></tr>\n",
       "\t<tr><td> 122.70841</td><td>1 shared bath </td><td>NA</td></tr>\n",
       "\t<tr><td> 288.22207</td><td>1 bath        </td><td> 2</td></tr>\n",
       "\t<tr><td> 302.49049</td><td>1 bath        </td><td> 1</td></tr>\n",
       "\t<tr><td> 439.46731</td><td>1.5 baths     </td><td> 1</td></tr>\n",
       "\t<tr><td> 382.39364</td><td>1 bath        </td><td> 1</td></tr>\n",
       "\t<tr><td> 470.85784</td><td>1 bath        </td><td> 1</td></tr>\n",
       "\t<tr><td> 385.24732</td><td>1 bath        </td><td> 1</td></tr>\n",
       "\t<tr><td> 847.54411</td><td>2.5 baths     </td><td> 2</td></tr>\n",
       "\t<tr><td> 316.75891</td><td>2 baths       </td><td> 2</td></tr>\n",
       "\t<tr><td> 336.73470</td><td>1 bath        </td><td> 1</td></tr>\n",
       "\t<tr><td> 370.97890</td><td>1 bath        </td><td> 1</td></tr>\n",
       "\t<tr><td> 356.71048</td><td>1 bath        </td><td> 1</td></tr>\n",
       "\t<tr><td>1141.47354</td><td>3 baths       </td><td> 5</td></tr>\n",
       "\t<tr><td>1141.47354</td><td>2 baths       </td><td> 3</td></tr>\n",
       "\t<tr><td> 296.78312</td><td>1 private bath</td><td>NA</td></tr>\n",
       "\t<tr><td> 510.80941</td><td>1 bath        </td><td> 2</td></tr>\n",
       "\t<tr><td>2140.26290</td><td>3 baths       </td><td> 4</td></tr>\n",
       "\t<tr><td> 684.88413</td><td>1 bath        </td><td> 5</td></tr>\n",
       "\t<tr><td>⋮</td><td>⋮</td><td>⋮</td></tr>\n",
       "\t<tr><td> 750.5189</td><td>2.5 baths</td><td>2</td></tr>\n",
       "\t<tr><td> 907.4715</td><td>3.5 baths</td><td>5</td></tr>\n",
       "\t<tr><td> 308.1979</td><td>1 bath   </td><td>2</td></tr>\n",
       "\t<tr><td> 251.1242</td><td>2 baths  </td><td>2</td></tr>\n",
       "\t<tr><td> 739.1041</td><td>1 bath   </td><td>1</td></tr>\n",
       "\t<tr><td> 216.8800</td><td>1 bath   </td><td>1</td></tr>\n",
       "\t<tr><td> 234.0021</td><td>1 bath   </td><td>1</td></tr>\n",
       "\t<tr><td> 216.8800</td><td>1 bath   </td><td>1</td></tr>\n",
       "\t<tr><td> 216.8800</td><td>1 bath   </td><td>1</td></tr>\n",
       "\t<tr><td> 234.0021</td><td>1 bath   </td><td>1</td></tr>\n",
       "\t<tr><td> 199.7579</td><td>1 bath   </td><td>1</td></tr>\n",
       "\t<tr><td> 385.2473</td><td>1 bath   </td><td>1</td></tr>\n",
       "\t<tr><td>1235.6451</td><td>2.5 baths</td><td>3</td></tr>\n",
       "\t<tr><td> 419.4915</td><td>1 bath   </td><td>1</td></tr>\n",
       "\t<tr><td> 370.9789</td><td>1 bath   </td><td>1</td></tr>\n",
       "\t<tr><td> 428.0526</td><td>1 bath   </td><td>1</td></tr>\n",
       "\t<tr><td> 236.8558</td><td>2 baths  </td><td>2</td></tr>\n",
       "\t<tr><td> 590.7126</td><td>1 bath   </td><td>1</td></tr>\n",
       "\t<tr><td> 687.7378</td><td>6 baths  </td><td>6</td></tr>\n",
       "\t<tr><td> 256.8315</td><td>1 bath   </td><td>1</td></tr>\n",
       "\t<tr><td> 199.7579</td><td>1 bath   </td><td>1</td></tr>\n",
       "\t<tr><td>1489.6230</td><td>3.5 baths</td><td>4</td></tr>\n",
       "\t<tr><td> 205.4652</td><td>1.5 baths</td><td>2</td></tr>\n",
       "\t<tr><td> 927.4473</td><td>2 baths  </td><td>3</td></tr>\n",
       "\t<tr><td> 262.5389</td><td>1 bath   </td><td>1</td></tr>\n",
       "\t<tr><td> 142.6842</td><td>1 bath   </td><td>1</td></tr>\n",
       "\t<tr><td> 448.0284</td><td>2 baths  </td><td>4</td></tr>\n",
       "\t<tr><td> 333.8810</td><td>2.5 baths</td><td>3</td></tr>\n",
       "\t<tr><td> 379.5400</td><td>2 baths  </td><td>3</td></tr>\n",
       "\t<tr><td>1141.4735</td><td>2.5 baths</td><td>4</td></tr>\n",
       "</tbody>\n",
       "</table>\n"
      ],
      "text/latex": [
       "A tibble: 14861 × 3\n",
       "\\begin{tabular}{lll}\n",
       " price\\_nzd & bathrooms\\_text & bedrooms\\\\\n",
       " <dbl> & <chr> & <dbl>\\\\\n",
       "\\hline\n",
       "\t  359.56417 & 1 bath         &  1\\\\\n",
       "\t  128.41577 & 1 shared bath  & NA\\\\\n",
       "\t  162.65998 & 1 bath         & NA\\\\\n",
       "\t  453.73573 & 1 bath         &  1\\\\\n",
       "\t  136.97683 & 1 bath         &  1\\\\\n",
       "\t  351.00311 & 2 baths        &  2\\\\\n",
       "\t  305.34417 & 2 baths        &  3\\\\\n",
       "\t  185.48945 & 1 bath         &  1\\\\\n",
       "\t  713.42097 & 1 bath         &  2\\\\\n",
       "\t  513.66310 & 1 bath         &  2\\\\\n",
       "\t   94.17157 & 1 bath         & NA\\\\\n",
       "\t 1284.15774 & 2 baths        &  2\\\\\n",
       "\t  122.70841 & 1 shared bath  & NA\\\\\n",
       "\t  288.22207 & 1 bath         &  2\\\\\n",
       "\t  302.49049 & 1 bath         &  1\\\\\n",
       "\t  439.46731 & 1.5 baths      &  1\\\\\n",
       "\t  382.39364 & 1 bath         &  1\\\\\n",
       "\t  470.85784 & 1 bath         &  1\\\\\n",
       "\t  385.24732 & 1 bath         &  1\\\\\n",
       "\t  847.54411 & 2.5 baths      &  2\\\\\n",
       "\t  316.75891 & 2 baths        &  2\\\\\n",
       "\t  336.73470 & 1 bath         &  1\\\\\n",
       "\t  370.97890 & 1 bath         &  1\\\\\n",
       "\t  356.71048 & 1 bath         &  1\\\\\n",
       "\t 1141.47354 & 3 baths        &  5\\\\\n",
       "\t 1141.47354 & 2 baths        &  3\\\\\n",
       "\t  296.78312 & 1 private bath & NA\\\\\n",
       "\t  510.80941 & 1 bath         &  2\\\\\n",
       "\t 2140.26290 & 3 baths        &  4\\\\\n",
       "\t  684.88413 & 1 bath         &  5\\\\\n",
       "\t ⋮ & ⋮ & ⋮\\\\\n",
       "\t  750.5189 & 2.5 baths & 2\\\\\n",
       "\t  907.4715 & 3.5 baths & 5\\\\\n",
       "\t  308.1979 & 1 bath    & 2\\\\\n",
       "\t  251.1242 & 2 baths   & 2\\\\\n",
       "\t  739.1041 & 1 bath    & 1\\\\\n",
       "\t  216.8800 & 1 bath    & 1\\\\\n",
       "\t  234.0021 & 1 bath    & 1\\\\\n",
       "\t  216.8800 & 1 bath    & 1\\\\\n",
       "\t  216.8800 & 1 bath    & 1\\\\\n",
       "\t  234.0021 & 1 bath    & 1\\\\\n",
       "\t  199.7579 & 1 bath    & 1\\\\\n",
       "\t  385.2473 & 1 bath    & 1\\\\\n",
       "\t 1235.6451 & 2.5 baths & 3\\\\\n",
       "\t  419.4915 & 1 bath    & 1\\\\\n",
       "\t  370.9789 & 1 bath    & 1\\\\\n",
       "\t  428.0526 & 1 bath    & 1\\\\\n",
       "\t  236.8558 & 2 baths   & 2\\\\\n",
       "\t  590.7126 & 1 bath    & 1\\\\\n",
       "\t  687.7378 & 6 baths   & 6\\\\\n",
       "\t  256.8315 & 1 bath    & 1\\\\\n",
       "\t  199.7579 & 1 bath    & 1\\\\\n",
       "\t 1489.6230 & 3.5 baths & 4\\\\\n",
       "\t  205.4652 & 1.5 baths & 2\\\\\n",
       "\t  927.4473 & 2 baths   & 3\\\\\n",
       "\t  262.5389 & 1 bath    & 1\\\\\n",
       "\t  142.6842 & 1 bath    & 1\\\\\n",
       "\t  448.0284 & 2 baths   & 4\\\\\n",
       "\t  333.8810 & 2.5 baths & 3\\\\\n",
       "\t  379.5400 & 2 baths   & 3\\\\\n",
       "\t 1141.4735 & 2.5 baths & 4\\\\\n",
       "\\end{tabular}\n"
      ],
      "text/markdown": [
       "\n",
       "A tibble: 14861 × 3\n",
       "\n",
       "| price_nzd &lt;dbl&gt; | bathrooms_text &lt;chr&gt; | bedrooms &lt;dbl&gt; |\n",
       "|---|---|---|\n",
       "|  359.56417 | 1 bath         |  1 |\n",
       "|  128.41577 | 1 shared bath  | NA |\n",
       "|  162.65998 | 1 bath         | NA |\n",
       "|  453.73573 | 1 bath         |  1 |\n",
       "|  136.97683 | 1 bath         |  1 |\n",
       "|  351.00311 | 2 baths        |  2 |\n",
       "|  305.34417 | 2 baths        |  3 |\n",
       "|  185.48945 | 1 bath         |  1 |\n",
       "|  713.42097 | 1 bath         |  2 |\n",
       "|  513.66310 | 1 bath         |  2 |\n",
       "|   94.17157 | 1 bath         | NA |\n",
       "| 1284.15774 | 2 baths        |  2 |\n",
       "|  122.70841 | 1 shared bath  | NA |\n",
       "|  288.22207 | 1 bath         |  2 |\n",
       "|  302.49049 | 1 bath         |  1 |\n",
       "|  439.46731 | 1.5 baths      |  1 |\n",
       "|  382.39364 | 1 bath         |  1 |\n",
       "|  470.85784 | 1 bath         |  1 |\n",
       "|  385.24732 | 1 bath         |  1 |\n",
       "|  847.54411 | 2.5 baths      |  2 |\n",
       "|  316.75891 | 2 baths        |  2 |\n",
       "|  336.73470 | 1 bath         |  1 |\n",
       "|  370.97890 | 1 bath         |  1 |\n",
       "|  356.71048 | 1 bath         |  1 |\n",
       "| 1141.47354 | 3 baths        |  5 |\n",
       "| 1141.47354 | 2 baths        |  3 |\n",
       "|  296.78312 | 1 private bath | NA |\n",
       "|  510.80941 | 1 bath         |  2 |\n",
       "| 2140.26290 | 3 baths        |  4 |\n",
       "|  684.88413 | 1 bath         |  5 |\n",
       "| ⋮ | ⋮ | ⋮ |\n",
       "|  750.5189 | 2.5 baths | 2 |\n",
       "|  907.4715 | 3.5 baths | 5 |\n",
       "|  308.1979 | 1 bath    | 2 |\n",
       "|  251.1242 | 2 baths   | 2 |\n",
       "|  739.1041 | 1 bath    | 1 |\n",
       "|  216.8800 | 1 bath    | 1 |\n",
       "|  234.0021 | 1 bath    | 1 |\n",
       "|  216.8800 | 1 bath    | 1 |\n",
       "|  216.8800 | 1 bath    | 1 |\n",
       "|  234.0021 | 1 bath    | 1 |\n",
       "|  199.7579 | 1 bath    | 1 |\n",
       "|  385.2473 | 1 bath    | 1 |\n",
       "| 1235.6451 | 2.5 baths | 3 |\n",
       "|  419.4915 | 1 bath    | 1 |\n",
       "|  370.9789 | 1 bath    | 1 |\n",
       "|  428.0526 | 1 bath    | 1 |\n",
       "|  236.8558 | 2 baths   | 2 |\n",
       "|  590.7126 | 1 bath    | 1 |\n",
       "|  687.7378 | 6 baths   | 6 |\n",
       "|  256.8315 | 1 bath    | 1 |\n",
       "|  199.7579 | 1 bath    | 1 |\n",
       "| 1489.6230 | 3.5 baths | 4 |\n",
       "|  205.4652 | 1.5 baths | 2 |\n",
       "|  927.4473 | 2 baths   | 3 |\n",
       "|  262.5389 | 1 bath    | 1 |\n",
       "|  142.6842 | 1 bath    | 1 |\n",
       "|  448.0284 | 2 baths   | 4 |\n",
       "|  333.8810 | 2.5 baths | 3 |\n",
       "|  379.5400 | 2 baths   | 3 |\n",
       "| 1141.4735 | 2.5 baths | 4 |\n",
       "\n"
      ],
      "text/plain": [
       "      price_nzd  bathrooms_text bedrooms\n",
       "1      359.56417 1 bath          1      \n",
       "2      128.41577 1 shared bath  NA      \n",
       "3      162.65998 1 bath         NA      \n",
       "4      453.73573 1 bath          1      \n",
       "5      136.97683 1 bath          1      \n",
       "6      351.00311 2 baths         2      \n",
       "7      305.34417 2 baths         3      \n",
       "8      185.48945 1 bath          1      \n",
       "9      713.42097 1 bath          2      \n",
       "10     513.66310 1 bath          2      \n",
       "11      94.17157 1 bath         NA      \n",
       "12    1284.15774 2 baths         2      \n",
       "13     122.70841 1 shared bath  NA      \n",
       "14     288.22207 1 bath          2      \n",
       "15     302.49049 1 bath          1      \n",
       "16     439.46731 1.5 baths       1      \n",
       "17     382.39364 1 bath          1      \n",
       "18     470.85784 1 bath          1      \n",
       "19     385.24732 1 bath          1      \n",
       "20     847.54411 2.5 baths       2      \n",
       "21     316.75891 2 baths         2      \n",
       "22     336.73470 1 bath          1      \n",
       "23     370.97890 1 bath          1      \n",
       "24     356.71048 1 bath          1      \n",
       "25    1141.47354 3 baths         5      \n",
       "26    1141.47354 2 baths         3      \n",
       "27     296.78312 1 private bath NA      \n",
       "28     510.80941 1 bath          2      \n",
       "29    2140.26290 3 baths         4      \n",
       "30     684.88413 1 bath          5      \n",
       "⋮     ⋮          ⋮              ⋮       \n",
       "14832  750.5189  2.5 baths      2       \n",
       "14833  907.4715  3.5 baths      5       \n",
       "14834  308.1979  1 bath         2       \n",
       "14835  251.1242  2 baths        2       \n",
       "14836  739.1041  1 bath         1       \n",
       "14837  216.8800  1 bath         1       \n",
       "14838  234.0021  1 bath         1       \n",
       "14839  216.8800  1 bath         1       \n",
       "14840  216.8800  1 bath         1       \n",
       "14841  234.0021  1 bath         1       \n",
       "14842  199.7579  1 bath         1       \n",
       "14843  385.2473  1 bath         1       \n",
       "14844 1235.6451  2.5 baths      3       \n",
       "14845  419.4915  1 bath         1       \n",
       "14846  370.9789  1 bath         1       \n",
       "14847  428.0526  1 bath         1       \n",
       "14848  236.8558  2 baths        2       \n",
       "14849  590.7126  1 bath         1       \n",
       "14850  687.7378  6 baths        6       \n",
       "14851  256.8315  1 bath         1       \n",
       "14852  199.7579  1 bath         1       \n",
       "14853 1489.6230  3.5 baths      4       \n",
       "14854  205.4652  1.5 baths      2       \n",
       "14855  927.4473  2 baths        3       \n",
       "14856  262.5389  1 bath         1       \n",
       "14857  142.6842  1 bath         1       \n",
       "14858  448.0284  2 baths        4       \n",
       "14859  333.8810  2.5 baths      3       \n",
       "14860  379.5400  2 baths        3       \n",
       "14861 1141.4735  2.5 baths      4       "
      ]
     },
     "metadata": {},
     "output_type": "display_data"
    }
   ],
   "source": [
    "api_key <- \"58c8eb71a98bc0e70380918c4ec1041c\" #setting the api key\n",
    "response <- GET(paste0(\"http://data.fixer.io/api/latest?access_key=\", api_key, \"&symbols=USD,NZD\")) #sending HTTP GET request to fixer.io to get the latest exchange rates between USD and NZD\n",
    "data <- fromJSON(content(response, as = \"text\")) #processes response from API that converts JSON content into a data structure that ca be easily accessed\n",
    "exchange_rate_usd_to_nzd <- data$rate$NZD / data$rates$USD #calculates exchange rates from EUR to NZD using rates retrieved from API response\n",
    "US$price <- US$price * exchange_rate_usd_to_nzd # multiplies price column with calculated exchange rates \n",
    "US <- US %>%\n",
    "mutate(price_nzd = price * exchange_rate_usd_to_nzd) %>% #creates new column that multiplies price with the exchange rate\n",
    "select(price_nzd, bathrooms_text, bedrooms)\n",
    "US #displaying the modified data"
   ]
  },
  {
   "cell_type": "code",
   "execution_count": 9,
   "id": "01edf8cc-9fb7-4fa0-9fcf-5fb4cc0401e4",
   "metadata": {
    "tags": []
   },
   "outputs": [],
   "source": [
    "US_data <- US[1:100, ] #using 100 entries of the dataset"
   ]
  },
  {
   "cell_type": "code",
   "execution_count": 14,
   "id": "8697732e-93ef-4100-b1a5-921c3b6e43cb",
   "metadata": {
    "tags": []
   },
   "outputs": [
    {
     "name": "stderr",
     "output_type": "stream",
     "text": [
      "Warning message:\n",
      "\"\u001b[1m\u001b[22mRemoved 1 rows containing non-finite values (`stat_bin()`).\"\n"
     ]
    },
    {
     "data": {
      "image/png": "[encoded data removed]",
      "text/plain": [
       "plot without title"
      ]
     },
     "metadata": {
      "image/png": {
       "height": 420,
       "width": 420
      }
     },
     "output_type": "display_data"
    }
   ],
   "source": [
    "US_data$price <- as.numeric(US_data$price_nzd)\n",
    "US_plot_price <- ggplot(US_data, aes(x = price_nzd)) +\n",
    "  geom_histogram(binwidth = 50, fill = \"blue\", color = \"black\") + #plotting a histogram that gives us an idea of the price\n",
    "  labs(title = \"Histogram of Prices (US)\",\n",
    "       x = \"Price\",\n",
    "       y = \"Frequency\")\n",
    "US_plot_price"
   ]
  },
  {
   "cell_type": "code",
   "execution_count": 15,
   "id": "9cfa8520-35e1-4504-b968-47a22ca7ec1b",
   "metadata": {
    "tags": []
   },
   "outputs": [
    {
     "name": "stderr",
     "output_type": "stream",
     "text": [
      "Warning message:\n",
      "\"\u001b[1m\u001b[22mRemoved 16 rows containing missing values (`position_stack()`).\"\n"
     ]
    },
    {
     "data": {
      "image/png": "[encoded data removed]",
      "text/plain": [
       "plot without title"
      ]
     },
     "metadata": {
      "image/png": {
       "height": 420,
       "width": 420
      }
     },
     "output_type": "display_data"
    }
   ],
   "source": [
    "US_data <- US_data %>%\n",
    "   mutate(price_range = cut(as.numeric(gsub(\"[$,]\", \"\", price_nzd)), \n",
    "                           breaks = c(0, 100, 200, 300, 400, Inf),  #breaks specifies bin edges\n",
    "                           labels = c(\"0-100\", \"101-200\", \"201-300\", \"301-400\", \"401+\"))) #labels assigns labels to bins\n",
    "\n",
    "US_plot_price_bedrooms <- ggplot(US_data, aes(x = price_range, y = bedrooms, fill = price_range)) +\n",
    "  geom_bar(stat = \"identity\") +\n",
    "  labs(title = \"Bar Plot of Bedrooms by Price Range (US)\",            #makes a bar plot with price range on x axis and bedrooms on y axis\n",
    "       x = \"Price Range\",\n",
    "       y = \"Number of Bedrooms\")\n",
    "US_plot_price_bedrooms"
   ]
  },
  {
   "cell_type": "code",
   "execution_count": 16,
   "id": "8b73802a-2484-4d5a-be33-4c8d23a87d66",
   "metadata": {
    "tags": []
   },
   "outputs": [
    {
     "data": {
      "image/png": "[encoded data removed]",
      "text/plain": [
       "plot without title"
      ]
     },
     "metadata": {
      "image/png": {
       "height": 420,
       "width": 420
      }
     },
     "output_type": "display_data"
    }
   ],
   "source": [
    "US_data <- US_data %>%\n",
    "  mutate(bathroom_category = case_when(\n",
    "    grepl(\"shared\", bathrooms_text, ignore.case = TRUE) ~ \"Shared Bath\",\n",
    "    grepl(\"private\", bathrooms_text, ignore.case = TRUE) ~ \"Private Bath\", #creates a new column that categorises bathroom into shared, private, half, full and other\n",
    "    grepl(\"half\", bathrooms_text, ignore.case = TRUE) ~ \"Half Bath\",\n",
    "    grepl(\"bath\", bathrooms_text, ignore.case = TRUE) ~ \"Full Bath\",\n",
    "    TRUE ~ \"Other\"\n",
    "  ))\n",
    "\n",
    "US_plot_bathroom_text <- ggplot(US_data, aes(x = bathroom_category, fill = bathroom_category)) +\n",
    "  geom_bar() +\n",
    "  labs(title = \"Bar Plot of Bathroom Categories (US)\",\n",
    "       x = \"Bathroom Category\",         #plots bar graph that gives us an idea of the bathrom categories in the data \n",
    "       y = \"Count\") \n",
    "\n",
    "\n",
    "US_plot_bathroom_text"
   ]
  },
  {
   "cell_type": "code",
   "execution_count": 17,
   "id": "5199d1d5-10f3-4a24-9df1-7e449ef2fb76",
   "metadata": {
    "tags": []
   },
   "outputs": [
    {
     "data": {
      "image/png": "[encoded data removed]",
      "text/plain": [
       "plot without title"
      ]
     },
     "metadata": {
      "image/png": {
       "height": 420,
       "width": 420
      }
     },
     "output_type": "display_data"
    }
   ],
   "source": [
    "US_plot_bathroom_price <- ggplot(US_data, aes(x = price_range, fill = bathroom_category)) +\n",
    "  geom_bar(position = \"dodge\") +\n",
    "  labs(title = \"Grouped Bar Plot of Bathroom Categories by Price Range (US)\",\n",
    "       x = \"Price Range\",\n",
    "       y = \"Count\")                  #creates a grouped bar plot which is grouped based on type of bathroom and has price range on x axis \n",
    "US_plot_bathroom_price"
   ]
  },
  {
   "cell_type": "code",
   "execution_count": null,
   "id": "3732cb0f-5670-442b-ae7d-d29da8ca93e2",
   "metadata": {},
   "outputs": [],
   "source": []
  }
 ],
 "metadata": {
  "kernelspec": {
   "display_name": "R",
   "language": "R",
   "name": "ir"
  },
  "language_info": {
   "codemirror_mode": "r",
   "file_extension": ".r",
   "mimetype": "text/x-r-source",
   "name": "R",
   "pygments_lexer": "r",
   "version": "4.2.2"
  }
 },
 "nbformat": 4,
 "nbformat_minor": 5
}
