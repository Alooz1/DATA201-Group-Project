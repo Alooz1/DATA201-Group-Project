{
 "cells": [
  {
   "cell_type": "code",
   "execution_count": 1,
   "id": "db84aead-8f67-4e3c-a4a8-7bbf258ae8ef",
   "metadata": {
    "tags": []
   },
   "outputs": [
    {
     "name": "stderr",
     "output_type": "stream",
     "text": [
      "Installing package into 'C:/Users/DELL/AppData/Local/R/win-library/4.2'\n",
      "(as 'lib' is unspecified)\n",
      "\n"
     ]
    },
    {
     "name": "stdout",
     "output_type": "stream",
     "text": [
      "package 'tidyverse' successfully unpacked and MD5 sums checked\n",
      "\n",
      "The downloaded binary packages are in\n",
      "\tC:\\Users\\DELL\\AppData\\Local\\Temp\\Rtmp4A82jL\\downloaded_packages\n"
     ]
    }
   ],
   "source": [
    "install.packages('tidyverse')#installing tidyverse"
   ]
  },
  {
   "cell_type": "code",
   "execution_count": 2,
   "id": "c3e7100e-69ee-4fd2-b8d0-896733751de1",
   "metadata": {
    "tags": []
   },
   "outputs": [
    {
     "name": "stderr",
     "output_type": "stream",
     "text": [
      "Warning message:\n",
      "\"package 'tidyverse' was built under R version 4.2.3\"\n",
      "Warning message:\n",
      "\"package 'ggplot2' was built under R version 4.2.3\"\n",
      "── \u001b[1mAttaching core tidyverse packages\u001b[22m ──────────────────────── tidyverse 2.0.0 ──\n",
      "\u001b[32m✔\u001b[39m \u001b[34mdplyr    \u001b[39m 1.1.0     \u001b[32m✔\u001b[39m \u001b[34mreadr    \u001b[39m 2.1.4\n",
      "\u001b[32m✔\u001b[39m \u001b[34mforcats  \u001b[39m 1.0.0     \u001b[32m✔\u001b[39m \u001b[34mstringr  \u001b[39m 1.5.0\n",
      "\u001b[32m✔\u001b[39m \u001b[34mggplot2  \u001b[39m 3.4.2     \u001b[32m✔\u001b[39m \u001b[34mtibble   \u001b[39m 3.2.0\n",
      "\u001b[32m✔\u001b[39m \u001b[34mlubridate\u001b[39m 1.9.2     \u001b[32m✔\u001b[39m \u001b[34mtidyr    \u001b[39m 1.3.0\n",
      "\u001b[32m✔\u001b[39m \u001b[34mpurrr    \u001b[39m 1.0.1     \n",
      "── \u001b[1mConflicts\u001b[22m ────────────────────────────────────────── tidyverse_conflicts() ──\n",
      "\u001b[31m✖\u001b[39m \u001b[34mdplyr\u001b[39m::\u001b[32mfilter()\u001b[39m masks \u001b[34mstats\u001b[39m::filter()\n",
      "\u001b[31m✖\u001b[39m \u001b[34mdplyr\u001b[39m::\u001b[32mlag()\u001b[39m    masks \u001b[34mstats\u001b[39m::lag()\n",
      "\u001b[36mℹ\u001b[39m Use the conflicted package (\u001b[3m\u001b[34m<http://conflicted.r-lib.org/>\u001b[39m\u001b[23m) to force all conflicts to become errors\n"
     ]
    }
   ],
   "source": [
    "library(tidyverse)# loading tidyverse"
   ]
  },
  {
   "cell_type": "code",
   "execution_count": 3,
   "id": "6a4354a1-10e9-4117-9515-af4d8b8c32ef",
   "metadata": {
    "tags": []
   },
   "outputs": [
    {
     "name": "stderr",
     "output_type": "stream",
     "text": [
      "\u001b[1mRows: \u001b[22m\u001b[34m332\u001b[39m \u001b[1mColumns: \u001b[22m\u001b[34m75\u001b[39m\n",
      "\u001b[36m──\u001b[39m \u001b[1mColumn specification\u001b[22m \u001b[36m────────────────────────────────────────────────────────\u001b[39m\n",
      "\u001b[1mDelimiter:\u001b[22m \",\"\n",
      "\u001b[31mchr\u001b[39m  (23): listing_url, source, name, description, neighborhood_overview, pi...\n",
      "\u001b[32mdbl\u001b[39m  (37): id, scrape_id, host_id, host_listings_count, host_total_listings_...\n",
      "\u001b[33mlgl\u001b[39m  (10): host_is_superhost, host_neighbourhood, host_has_profile_pic, host...\n",
      "\u001b[34mdate\u001b[39m  (5): last_scraped, host_since, calendar_last_scraped, first_review, la...\n",
      "\n",
      "\u001b[36mℹ\u001b[39m Use `spec()` to retrieve the full column specification for this data.\n",
      "\u001b[36mℹ\u001b[39m Specify the column types or set `show_col_types = FALSE` to quiet this message.\n"
     ]
    }
   ],
   "source": [
    "Australia <- read_csv('http://data.insideairbnb.com/australia/sa/barossa-valley/2023-09-22/data/listings.csv.gz')#reading the csv to work with the data"
   ]
  },
  {
   "cell_type": "code",
   "execution_count": 4,
   "id": "cbe95040-b258-4c79-a75c-56ec32f4c80d",
   "metadata": {
    "tags": []
   },
   "outputs": [
    {
     "name": "stdout",
     "output_type": "stream",
     "text": [
      "Rows: 332\n",
      "Columns: 75\n",
      "$ id                                           \u001b[3m\u001b[90m<dbl>\u001b[39m\u001b[23m 1125097, 1133195, 1133236…\n",
      "$ listing_url                                  \u001b[3m\u001b[90m<chr>\u001b[39m\u001b[23m \"https://www.airbnb.com/r…\n",
      "$ scrape_id                                    \u001b[3m\u001b[90m<dbl>\u001b[39m\u001b[23m 2.023092e+13, 2.023092e+1…\n",
      "$ last_scraped                                 \u001b[3m\u001b[90m<date>\u001b[39m\u001b[23m 2023-09-22, 2023-09-22, …\n",
      "$ source                                       \u001b[3m\u001b[90m<chr>\u001b[39m\u001b[23m \"city scrape\", \"city scra…\n",
      "$ name                                         \u001b[3m\u001b[90m<chr>\u001b[39m\u001b[23m \"Cottage in Angaston · ★4…\n",
      "$ description                                  \u001b[3m\u001b[90m<chr>\u001b[39m\u001b[23m \"Please note there is a m…\n",
      "$ neighborhood_overview                        \u001b[3m\u001b[90m<chr>\u001b[39m\u001b[23m \"Strathlyn Estate is a ve…\n",
      "$ picture_url                                  \u001b[3m\u001b[90m<chr>\u001b[39m\u001b[23m \"https://a0.muscache.com/…\n",
      "$ host_id                                      \u001b[3m\u001b[90m<dbl>\u001b[39m\u001b[23m 6172214, 6172214, 6172214…\n",
      "$ host_url                                     \u001b[3m\u001b[90m<chr>\u001b[39m\u001b[23m \"https://www.airbnb.com/u…\n",
      "$ host_name                                    \u001b[3m\u001b[90m<chr>\u001b[39m\u001b[23m \"Heather\", \"Heather\", \"He…\n",
      "$ host_since                                   \u001b[3m\u001b[90m<date>\u001b[39m\u001b[23m 2013-05-01, 2013-05-01, …\n",
      "$ host_location                                \u001b[3m\u001b[90m<chr>\u001b[39m\u001b[23m NA, NA, NA, \"Shea-Oak Log…\n",
      "$ host_about                                   \u001b[3m\u001b[90m<chr>\u001b[39m\u001b[23m \"I have been a long time …\n",
      "$ host_response_time                           \u001b[3m\u001b[90m<chr>\u001b[39m\u001b[23m \"within a few hours\", \"wi…\n",
      "$ host_response_rate                           \u001b[3m\u001b[90m<chr>\u001b[39m\u001b[23m \"100%\", \"100%\", \"100%\", \"…\n",
      "$ host_acceptance_rate                         \u001b[3m\u001b[90m<chr>\u001b[39m\u001b[23m \"97%\", \"97%\", \"97%\", \"100…\n",
      "$ host_is_superhost                            \u001b[3m\u001b[90m<lgl>\u001b[39m\u001b[23m TRUE, TRUE, TRUE, FALSE, …\n",
      "$ host_thumbnail_url                           \u001b[3m\u001b[90m<chr>\u001b[39m\u001b[23m \"https://a0.muscache.com/…\n",
      "$ host_picture_url                             \u001b[3m\u001b[90m<chr>\u001b[39m\u001b[23m \"https://a0.muscache.com/…\n",
      "$ host_neighbourhood                           \u001b[3m\u001b[90m<lgl>\u001b[39m\u001b[23m NA, NA, NA, NA, NA, NA, N…\n",
      "$ host_listings_count                          \u001b[3m\u001b[90m<dbl>\u001b[39m\u001b[23m 3, 3, 3, 1, 14, 2, 1, 1, …\n",
      "$ host_total_listings_count                    \u001b[3m\u001b[90m<dbl>\u001b[39m\u001b[23m 4, 4, 4, 1, 14, 3, 2, 1, …\n",
      "$ host_verifications                           \u001b[3m\u001b[90m<chr>\u001b[39m\u001b[23m \"['email', 'phone']\", \"['…\n",
      "$ host_has_profile_pic                         \u001b[3m\u001b[90m<lgl>\u001b[39m\u001b[23m TRUE, TRUE, TRUE, TRUE, T…\n",
      "$ host_identity_verified                       \u001b[3m\u001b[90m<lgl>\u001b[39m\u001b[23m TRUE, TRUE, TRUE, TRUE, T…\n",
      "$ neighbourhood                                \u001b[3m\u001b[90m<chr>\u001b[39m\u001b[23m \"Angaston, South Australi…\n",
      "$ neighbourhood_cleansed                       \u001b[3m\u001b[90m<chr>\u001b[39m\u001b[23m \"Angaston\", \"Angaston\", \"…\n",
      "$ neighbourhood_group_cleansed                 \u001b[3m\u001b[90m<lgl>\u001b[39m\u001b[23m NA, NA, NA, NA, NA, NA, N…\n",
      "$ latitude                                     \u001b[3m\u001b[90m<dbl>\u001b[39m\u001b[23m -34.49563, -34.49538, -34…\n",
      "$ longitude                                    \u001b[3m\u001b[90m<dbl>\u001b[39m\u001b[23m 139.0293, 139.0309, 139.0…\n",
      "$ property_type                                \u001b[3m\u001b[90m<chr>\u001b[39m\u001b[23m \"Entire cottage\", \"Entire…\n",
      "$ room_type                                    \u001b[3m\u001b[90m<chr>\u001b[39m\u001b[23m \"Entire home/apt\", \"Entir…\n",
      "$ accommodates                                 \u001b[3m\u001b[90m<dbl>\u001b[39m\u001b[23m 2, 2, 2, 2, 4, 4, 3, 4, 6…\n",
      "$ bathrooms                                    \u001b[3m\u001b[90m<lgl>\u001b[39m\u001b[23m NA, NA, NA, NA, NA, NA, N…\n",
      "$ bathrooms_text                               \u001b[3m\u001b[90m<chr>\u001b[39m\u001b[23m \"1 bath\", \"1 bath\", \"1 pr…\n",
      "$ bedrooms                                     \u001b[3m\u001b[90m<dbl>\u001b[39m\u001b[23m 1, 1, NA, 1, 2, 2, 1, NA,…\n",
      "$ beds                                         \u001b[3m\u001b[90m<dbl>\u001b[39m\u001b[23m 1, 1, 1, 1, 2, 2, 2, 2, 3…\n",
      "$ amenities                                    \u001b[3m\u001b[90m<chr>\u001b[39m\u001b[23m \"[\\\"Heating\\\", \\\"Smoke al…\n",
      "$ price                                        \u001b[3m\u001b[90m<chr>\u001b[39m\u001b[23m \"$254.00\", \"$236.00\", \"$2…\n",
      "$ minimum_nights                               \u001b[3m\u001b[90m<dbl>\u001b[39m\u001b[23m 2, 2, 1, 2, 2, 2, 1, 2, 3…\n",
      "$ maximum_nights                               \u001b[3m\u001b[90m<dbl>\u001b[39m\u001b[23m 14, 1125, 1125, 1125, 112…\n",
      "$ minimum_minimum_nights                       \u001b[3m\u001b[90m<dbl>\u001b[39m\u001b[23m 2, 2, 1, 2, 1, 2, 1, 2, 2…\n",
      "$ maximum_minimum_nights                       \u001b[3m\u001b[90m<dbl>\u001b[39m\u001b[23m 2, 2, 1, 2, 3, 3, 1, 2, 2…\n",
      "$ minimum_maximum_nights                       \u001b[3m\u001b[90m<dbl>\u001b[39m\u001b[23m 14, 1125, 1125, 1125, 7, …\n",
      "$ maximum_maximum_nights                       \u001b[3m\u001b[90m<dbl>\u001b[39m\u001b[23m 14, 1125, 1125, 1125, 112…\n",
      "$ minimum_nights_avg_ntm                       \u001b[3m\u001b[90m<dbl>\u001b[39m\u001b[23m 2.0, 2.0, 1.0, 2.0, 1.9, …\n",
      "$ maximum_nights_avg_ntm                       \u001b[3m\u001b[90m<dbl>\u001b[39m\u001b[23m 14.0, 1125.0, 1125.0, 112…\n",
      "$ calendar_updated                             \u001b[3m\u001b[90m<lgl>\u001b[39m\u001b[23m NA, NA, NA, NA, NA, NA, N…\n",
      "$ has_availability                             \u001b[3m\u001b[90m<lgl>\u001b[39m\u001b[23m TRUE, TRUE, TRUE, TRUE, T…\n",
      "$ availability_30                              \u001b[3m\u001b[90m<dbl>\u001b[39m\u001b[23m 18, 30, 30, 12, 15, 17, 2…\n",
      "$ availability_60                              \u001b[3m\u001b[90m<dbl>\u001b[39m\u001b[23m 39, 60, 59, 27, 35, 36, 5…\n",
      "$ availability_90                              \u001b[3m\u001b[90m<dbl>\u001b[39m\u001b[23m 66, 89, 88, 54, 55, 64, 8…\n",
      "$ availability_365                             \u001b[3m\u001b[90m<dbl>\u001b[39m\u001b[23m 333, 353, 355, 285, 317, …\n",
      "$ calendar_last_scraped                        \u001b[3m\u001b[90m<date>\u001b[39m\u001b[23m 2023-09-22, 2023-09-22, …\n",
      "$ number_of_reviews                            \u001b[3m\u001b[90m<dbl>\u001b[39m\u001b[23m 194, 71, 63, 543, 18, 18,…\n",
      "$ number_of_reviews_ltm                        \u001b[3m\u001b[90m<dbl>\u001b[39m\u001b[23m 27, 12, 14, 44, 1, 10, 43…\n",
      "$ number_of_reviews_l30d                       \u001b[3m\u001b[90m<dbl>\u001b[39m\u001b[23m 3, 1, 0, 4, 0, 0, 4, 0, 0…\n",
      "$ first_review                                 \u001b[3m\u001b[90m<date>\u001b[39m\u001b[23m 2013-09-13, 2014-09-30, …\n",
      "$ last_review                                  \u001b[3m\u001b[90m<date>\u001b[39m\u001b[23m 2023-09-17, 2023-08-28, …\n",
      "$ review_scores_rating                         \u001b[3m\u001b[90m<dbl>\u001b[39m\u001b[23m 4.88, 4.83, 4.89, 4.77, 4…\n",
      "$ review_scores_accuracy                       \u001b[3m\u001b[90m<dbl>\u001b[39m\u001b[23m 4.96, 4.82, 4.92, 4.84, 4…\n",
      "$ review_scores_cleanliness                    \u001b[3m\u001b[90m<dbl>\u001b[39m\u001b[23m 4.90, 4.87, 4.89, 4.71, 4…\n",
      "$ review_scores_checkin                        \u001b[3m\u001b[90m<dbl>\u001b[39m\u001b[23m 4.99, 4.99, 4.95, 4.97, 4…\n",
      "$ review_scores_communication                  \u001b[3m\u001b[90m<dbl>\u001b[39m\u001b[23m 4.98, 4.90, 4.92, 4.95, 4…\n",
      "$ review_scores_location                       \u001b[3m\u001b[90m<dbl>\u001b[39m\u001b[23m 4.97, 4.93, 4.92, 4.61, 4…\n",
      "$ review_scores_value                          \u001b[3m\u001b[90m<dbl>\u001b[39m\u001b[23m 4.74, 4.70, 4.63, 4.83, 4…\n",
      "$ license                                      \u001b[3m\u001b[90m<lgl>\u001b[39m\u001b[23m NA, NA, NA, NA, NA, NA, N…\n",
      "$ instant_bookable                             \u001b[3m\u001b[90m<lgl>\u001b[39m\u001b[23m FALSE, FALSE, FALSE, FALS…\n",
      "$ calculated_host_listings_count               \u001b[3m\u001b[90m<dbl>\u001b[39m\u001b[23m 3, 3, 3, 1, 14, 2, 1, 1, …\n",
      "$ calculated_host_listings_count_entire_homes  \u001b[3m\u001b[90m<dbl>\u001b[39m\u001b[23m 2, 2, 2, 1, 12, 2, 1, 0, …\n",
      "$ calculated_host_listings_count_private_rooms \u001b[3m\u001b[90m<dbl>\u001b[39m\u001b[23m 1, 1, 1, 0, 2, 0, 0, 1, 0…\n",
      "$ calculated_host_listings_count_shared_rooms  \u001b[3m\u001b[90m<dbl>\u001b[39m\u001b[23m 0, 0, 0, 0, 0, 0, 0, 0, 0…\n",
      "$ reviews_per_month                            \u001b[3m\u001b[90m<dbl>\u001b[39m\u001b[23m 1.59, 0.65, 0.54, 4.51, 0…\n"
     ]
    }
   ],
   "source": [
    "glimpse(Australia)# taking a look at the data to understand the content"
   ]
  },
  {
   "cell_type": "code",
   "execution_count": 5,
   "id": "873085a1-bf87-40d8-a3c9-1ace2f7ee5af",
   "metadata": {
    "tags": []
   },
   "outputs": [
    {
     "name": "stderr",
     "output_type": "stream",
     "text": [
      "Warning message in eval(expr, envir, enclos):\n",
      "\"NAs introduced by coercion\"\n"
     ]
    }
   ],
   "source": [
    "Australia$price <- as.numeric(gsub(\"\\\\$\", \"\", Australia$price))# converting the price column into numeric format and removing the dollar symbol"
   ]
  },
  {
   "cell_type": "code",
   "execution_count": 6,
   "id": "2004f460-c8b4-493a-af25-9fb4873fa59e",
   "metadata": {
    "tags": []
   },
   "outputs": [
    {
     "data": {
      "text/html": [
       "<table class=\"dataframe\">\n",
       "<caption>A tibble: 332 × 3</caption>\n",
       "<thead>\n",
       "\t<tr><th scope=col>price</th><th scope=col>bedrooms</th><th scope=col>bathrooms_text</th></tr>\n",
       "\t<tr><th scope=col>&lt;dbl&gt;</th><th scope=col>&lt;dbl&gt;</th><th scope=col>&lt;chr&gt;</th></tr>\n",
       "</thead>\n",
       "<tbody>\n",
       "\t<tr><td>254</td><td> 1</td><td>1 bath        </td></tr>\n",
       "\t<tr><td>236</td><td> 1</td><td>1 bath        </td></tr>\n",
       "\t<tr><td>260</td><td>NA</td><td>1 private bath</td></tr>\n",
       "\t<tr><td>102</td><td> 1</td><td>1 bath        </td></tr>\n",
       "\t<tr><td>356</td><td> 2</td><td>2 baths       </td></tr>\n",
       "\t<tr><td>199</td><td> 2</td><td>1 bath        </td></tr>\n",
       "\t<tr><td> 95</td><td> 1</td><td>1 bath        </td></tr>\n",
       "\t<tr><td>210</td><td>NA</td><td>2 baths       </td></tr>\n",
       "\t<tr><td>220</td><td> 3</td><td>2 baths       </td></tr>\n",
       "\t<tr><td> 67</td><td> 1</td><td>1 bath        </td></tr>\n",
       "\t<tr><td>425</td><td> 1</td><td>1 bath        </td></tr>\n",
       "\t<tr><td>290</td><td> 1</td><td>1 bath        </td></tr>\n",
       "\t<tr><td>196</td><td> 1</td><td>1 bath        </td></tr>\n",
       "\t<tr><td>400</td><td> 3</td><td>1 bath        </td></tr>\n",
       "\t<tr><td>312</td><td> 2</td><td>1 bath        </td></tr>\n",
       "\t<tr><td> 91</td><td> 1</td><td>1 bath        </td></tr>\n",
       "\t<tr><td>243</td><td> 2</td><td>1 bath        </td></tr>\n",
       "\t<tr><td> 95</td><td>NA</td><td>1 shared bath </td></tr>\n",
       "\t<tr><td>146</td><td> 1</td><td>1 private bath</td></tr>\n",
       "\t<tr><td>821</td><td> 5</td><td>3 baths       </td></tr>\n",
       "\t<tr><td>468</td><td> 3</td><td>3 baths       </td></tr>\n",
       "\t<tr><td>708</td><td> 4</td><td>3 baths       </td></tr>\n",
       "\t<tr><td>515</td><td> 3</td><td>2.5 baths     </td></tr>\n",
       "\t<tr><td>219</td><td> 1</td><td>1 bath        </td></tr>\n",
       "\t<tr><td>271</td><td> 3</td><td>1 bath        </td></tr>\n",
       "\t<tr><td>250</td><td> 2</td><td>1 bath        </td></tr>\n",
       "\t<tr><td>211</td><td> 1</td><td>1 bath        </td></tr>\n",
       "\t<tr><td>221</td><td>NA</td><td>1 private bath</td></tr>\n",
       "\t<tr><td>202</td><td> 1</td><td>1 bath        </td></tr>\n",
       "\t<tr><td>600</td><td> 2</td><td>1.5 baths     </td></tr>\n",
       "\t<tr><td>⋮</td><td>⋮</td><td>⋮</td></tr>\n",
       "\t<tr><td>338</td><td> 1</td><td>1 bath        </td></tr>\n",
       "\t<tr><td>323</td><td> 1</td><td>1 bath        </td></tr>\n",
       "\t<tr><td>320</td><td> 3</td><td>1 bath        </td></tr>\n",
       "\t<tr><td>350</td><td> 3</td><td>1.5 baths     </td></tr>\n",
       "\t<tr><td>900</td><td> 4</td><td>3 baths       </td></tr>\n",
       "\t<tr><td>320</td><td> 3</td><td>2 baths       </td></tr>\n",
       "\t<tr><td>158</td><td> 1</td><td>1 bath        </td></tr>\n",
       "\t<tr><td>243</td><td> 3</td><td>1 bath        </td></tr>\n",
       "\t<tr><td>214</td><td> 1</td><td>1 bath        </td></tr>\n",
       "\t<tr><td> NA</td><td> 5</td><td>3 baths       </td></tr>\n",
       "\t<tr><td>347</td><td> 3</td><td>2 baths       </td></tr>\n",
       "\t<tr><td>215</td><td> 2</td><td>1 bath        </td></tr>\n",
       "\t<tr><td>326</td><td> 2</td><td>1.5 baths     </td></tr>\n",
       "\t<tr><td>567</td><td> 4</td><td>2.5 baths     </td></tr>\n",
       "\t<tr><td>783</td><td> 1</td><td>1 bath        </td></tr>\n",
       "\t<tr><td>250</td><td> 3</td><td>2 baths       </td></tr>\n",
       "\t<tr><td>850</td><td> 3</td><td>3 baths       </td></tr>\n",
       "\t<tr><td>714</td><td> 1</td><td>1 bath        </td></tr>\n",
       "\t<tr><td>308</td><td> 4</td><td>2 baths       </td></tr>\n",
       "\t<tr><td>107</td><td>NA</td><td>1 private bath</td></tr>\n",
       "\t<tr><td>514</td><td> 3</td><td>2 baths       </td></tr>\n",
       "\t<tr><td>509</td><td> 1</td><td>1 bath        </td></tr>\n",
       "\t<tr><td>620</td><td> 3</td><td>2 baths       </td></tr>\n",
       "\t<tr><td>121</td><td> 1</td><td>1 bath        </td></tr>\n",
       "\t<tr><td>309</td><td> 4</td><td>1 bath        </td></tr>\n",
       "\t<tr><td>274</td><td>NA</td><td>0 baths       </td></tr>\n",
       "\t<tr><td>187</td><td> 1</td><td>1 bath        </td></tr>\n",
       "\t<tr><td>187</td><td> 1</td><td>1 bath        </td></tr>\n",
       "\t<tr><td>304</td><td> 1</td><td>1 bath        </td></tr>\n",
       "\t<tr><td>261</td><td> 2</td><td>1 bath        </td></tr>\n",
       "</tbody>\n",
       "</table>\n"
      ],
      "text/latex": [
       "A tibble: 332 × 3\n",
       "\\begin{tabular}{lll}\n",
       " price & bedrooms & bathrooms\\_text\\\\\n",
       " <dbl> & <dbl> & <chr>\\\\\n",
       "\\hline\n",
       "\t 254 &  1 & 1 bath        \\\\\n",
       "\t 236 &  1 & 1 bath        \\\\\n",
       "\t 260 & NA & 1 private bath\\\\\n",
       "\t 102 &  1 & 1 bath        \\\\\n",
       "\t 356 &  2 & 2 baths       \\\\\n",
       "\t 199 &  2 & 1 bath        \\\\\n",
       "\t  95 &  1 & 1 bath        \\\\\n",
       "\t 210 & NA & 2 baths       \\\\\n",
       "\t 220 &  3 & 2 baths       \\\\\n",
       "\t  67 &  1 & 1 bath        \\\\\n",
       "\t 425 &  1 & 1 bath        \\\\\n",
       "\t 290 &  1 & 1 bath        \\\\\n",
       "\t 196 &  1 & 1 bath        \\\\\n",
       "\t 400 &  3 & 1 bath        \\\\\n",
       "\t 312 &  2 & 1 bath        \\\\\n",
       "\t  91 &  1 & 1 bath        \\\\\n",
       "\t 243 &  2 & 1 bath        \\\\\n",
       "\t  95 & NA & 1 shared bath \\\\\n",
       "\t 146 &  1 & 1 private bath\\\\\n",
       "\t 821 &  5 & 3 baths       \\\\\n",
       "\t 468 &  3 & 3 baths       \\\\\n",
       "\t 708 &  4 & 3 baths       \\\\\n",
       "\t 515 &  3 & 2.5 baths     \\\\\n",
       "\t 219 &  1 & 1 bath        \\\\\n",
       "\t 271 &  3 & 1 bath        \\\\\n",
       "\t 250 &  2 & 1 bath        \\\\\n",
       "\t 211 &  1 & 1 bath        \\\\\n",
       "\t 221 & NA & 1 private bath\\\\\n",
       "\t 202 &  1 & 1 bath        \\\\\n",
       "\t 600 &  2 & 1.5 baths     \\\\\n",
       "\t ⋮ & ⋮ & ⋮\\\\\n",
       "\t 338 &  1 & 1 bath        \\\\\n",
       "\t 323 &  1 & 1 bath        \\\\\n",
       "\t 320 &  3 & 1 bath        \\\\\n",
       "\t 350 &  3 & 1.5 baths     \\\\\n",
       "\t 900 &  4 & 3 baths       \\\\\n",
       "\t 320 &  3 & 2 baths       \\\\\n",
       "\t 158 &  1 & 1 bath        \\\\\n",
       "\t 243 &  3 & 1 bath        \\\\\n",
       "\t 214 &  1 & 1 bath        \\\\\n",
       "\t  NA &  5 & 3 baths       \\\\\n",
       "\t 347 &  3 & 2 baths       \\\\\n",
       "\t 215 &  2 & 1 bath        \\\\\n",
       "\t 326 &  2 & 1.5 baths     \\\\\n",
       "\t 567 &  4 & 2.5 baths     \\\\\n",
       "\t 783 &  1 & 1 bath        \\\\\n",
       "\t 250 &  3 & 2 baths       \\\\\n",
       "\t 850 &  3 & 3 baths       \\\\\n",
       "\t 714 &  1 & 1 bath        \\\\\n",
       "\t 308 &  4 & 2 baths       \\\\\n",
       "\t 107 & NA & 1 private bath\\\\\n",
       "\t 514 &  3 & 2 baths       \\\\\n",
       "\t 509 &  1 & 1 bath        \\\\\n",
       "\t 620 &  3 & 2 baths       \\\\\n",
       "\t 121 &  1 & 1 bath        \\\\\n",
       "\t 309 &  4 & 1 bath        \\\\\n",
       "\t 274 & NA & 0 baths       \\\\\n",
       "\t 187 &  1 & 1 bath        \\\\\n",
       "\t 187 &  1 & 1 bath        \\\\\n",
       "\t 304 &  1 & 1 bath        \\\\\n",
       "\t 261 &  2 & 1 bath        \\\\\n",
       "\\end{tabular}\n"
      ],
      "text/markdown": [
       "\n",
       "A tibble: 332 × 3\n",
       "\n",
       "| price &lt;dbl&gt; | bedrooms &lt;dbl&gt; | bathrooms_text &lt;chr&gt; |\n",
       "|---|---|---|\n",
       "| 254 |  1 | 1 bath         |\n",
       "| 236 |  1 | 1 bath         |\n",
       "| 260 | NA | 1 private bath |\n",
       "| 102 |  1 | 1 bath         |\n",
       "| 356 |  2 | 2 baths        |\n",
       "| 199 |  2 | 1 bath         |\n",
       "|  95 |  1 | 1 bath         |\n",
       "| 210 | NA | 2 baths        |\n",
       "| 220 |  3 | 2 baths        |\n",
       "|  67 |  1 | 1 bath         |\n",
       "| 425 |  1 | 1 bath         |\n",
       "| 290 |  1 | 1 bath         |\n",
       "| 196 |  1 | 1 bath         |\n",
       "| 400 |  3 | 1 bath         |\n",
       "| 312 |  2 | 1 bath         |\n",
       "|  91 |  1 | 1 bath         |\n",
       "| 243 |  2 | 1 bath         |\n",
       "|  95 | NA | 1 shared bath  |\n",
       "| 146 |  1 | 1 private bath |\n",
       "| 821 |  5 | 3 baths        |\n",
       "| 468 |  3 | 3 baths        |\n",
       "| 708 |  4 | 3 baths        |\n",
       "| 515 |  3 | 2.5 baths      |\n",
       "| 219 |  1 | 1 bath         |\n",
       "| 271 |  3 | 1 bath         |\n",
       "| 250 |  2 | 1 bath         |\n",
       "| 211 |  1 | 1 bath         |\n",
       "| 221 | NA | 1 private bath |\n",
       "| 202 |  1 | 1 bath         |\n",
       "| 600 |  2 | 1.5 baths      |\n",
       "| ⋮ | ⋮ | ⋮ |\n",
       "| 338 |  1 | 1 bath         |\n",
       "| 323 |  1 | 1 bath         |\n",
       "| 320 |  3 | 1 bath         |\n",
       "| 350 |  3 | 1.5 baths      |\n",
       "| 900 |  4 | 3 baths        |\n",
       "| 320 |  3 | 2 baths        |\n",
       "| 158 |  1 | 1 bath         |\n",
       "| 243 |  3 | 1 bath         |\n",
       "| 214 |  1 | 1 bath         |\n",
       "|  NA |  5 | 3 baths        |\n",
       "| 347 |  3 | 2 baths        |\n",
       "| 215 |  2 | 1 bath         |\n",
       "| 326 |  2 | 1.5 baths      |\n",
       "| 567 |  4 | 2.5 baths      |\n",
       "| 783 |  1 | 1 bath         |\n",
       "| 250 |  3 | 2 baths        |\n",
       "| 850 |  3 | 3 baths        |\n",
       "| 714 |  1 | 1 bath         |\n",
       "| 308 |  4 | 2 baths        |\n",
       "| 107 | NA | 1 private bath |\n",
       "| 514 |  3 | 2 baths        |\n",
       "| 509 |  1 | 1 bath         |\n",
       "| 620 |  3 | 2 baths        |\n",
       "| 121 |  1 | 1 bath         |\n",
       "| 309 |  4 | 1 bath         |\n",
       "| 274 | NA | 0 baths        |\n",
       "| 187 |  1 | 1 bath         |\n",
       "| 187 |  1 | 1 bath         |\n",
       "| 304 |  1 | 1 bath         |\n",
       "| 261 |  2 | 1 bath         |\n",
       "\n"
      ],
      "text/plain": [
       "    price bedrooms bathrooms_text\n",
       "1   254    1       1 bath        \n",
       "2   236    1       1 bath        \n",
       "3   260   NA       1 private bath\n",
       "4   102    1       1 bath        \n",
       "5   356    2       2 baths       \n",
       "6   199    2       1 bath        \n",
       "7    95    1       1 bath        \n",
       "8   210   NA       2 baths       \n",
       "9   220    3       2 baths       \n",
       "10   67    1       1 bath        \n",
       "11  425    1       1 bath        \n",
       "12  290    1       1 bath        \n",
       "13  196    1       1 bath        \n",
       "14  400    3       1 bath        \n",
       "15  312    2       1 bath        \n",
       "16   91    1       1 bath        \n",
       "17  243    2       1 bath        \n",
       "18   95   NA       1 shared bath \n",
       "19  146    1       1 private bath\n",
       "20  821    5       3 baths       \n",
       "21  468    3       3 baths       \n",
       "22  708    4       3 baths       \n",
       "23  515    3       2.5 baths     \n",
       "24  219    1       1 bath        \n",
       "25  271    3       1 bath        \n",
       "26  250    2       1 bath        \n",
       "27  211    1       1 bath        \n",
       "28  221   NA       1 private bath\n",
       "29  202    1       1 bath        \n",
       "30  600    2       1.5 baths     \n",
       "⋮   ⋮     ⋮        ⋮             \n",
       "303 338    1       1 bath        \n",
       "304 323    1       1 bath        \n",
       "305 320    3       1 bath        \n",
       "306 350    3       1.5 baths     \n",
       "307 900    4       3 baths       \n",
       "308 320    3       2 baths       \n",
       "309 158    1       1 bath        \n",
       "310 243    3       1 bath        \n",
       "311 214    1       1 bath        \n",
       "312  NA    5       3 baths       \n",
       "313 347    3       2 baths       \n",
       "314 215    2       1 bath        \n",
       "315 326    2       1.5 baths     \n",
       "316 567    4       2.5 baths     \n",
       "317 783    1       1 bath        \n",
       "318 250    3       2 baths       \n",
       "319 850    3       3 baths       \n",
       "320 714    1       1 bath        \n",
       "321 308    4       2 baths       \n",
       "322 107   NA       1 private bath\n",
       "323 514    3       2 baths       \n",
       "324 509    1       1 bath        \n",
       "325 620    3       2 baths       \n",
       "326 121    1       1 bath        \n",
       "327 309    4       1 bath        \n",
       "328 274   NA       0 baths       \n",
       "329 187    1       1 bath        \n",
       "330 187    1       1 bath        \n",
       "331 304    1       1 bath        \n",
       "332 261    2       1 bath        "
      ]
     },
     "metadata": {},
     "output_type": "display_data"
    }
   ],
   "source": [
    "Australia <- Australia %>% select(price,bedrooms,bathrooms_text)#selecting price, bedrooms, bathrooms_text from the Spain data set and placing it under a new variable so that it is easy to work with\n",
    "Australia #viewing the selected data"
   ]
  },
  {
   "cell_type": "code",
   "execution_count": 7,
   "id": "63b13b0f-ef8b-4b39-b0d3-e6b53b5d5178",
   "metadata": {
    "tags": []
   },
   "outputs": [
    {
     "name": "stderr",
     "output_type": "stream",
     "text": [
      "Warning message:\n",
      "\"package 'jsonlite' was built under R version 4.2.3\"\n",
      "\n",
      "Attaching package: 'jsonlite'\n",
      "\n",
      "\n",
      "The following object is masked from 'package:purrr':\n",
      "\n",
      "    flatten\n",
      "\n",
      "\n",
      "Warning message:\n",
      "\"package 'httr' was built under R version 4.2.3\"\n"
     ]
    }
   ],
   "source": [
    "#loading necessary libraries to plot the data \n",
    "library(ggplot2)\n",
    "library(jsonlite)\n",
    "library(httr)"
   ]
  },
  {
   "cell_type": "code",
   "execution_count": 8,
   "id": "6581e120-1e57-47f4-a72f-b7b5cd910425",
   "metadata": {
    "tags": []
   },
   "outputs": [
    {
     "data": {
      "text/html": [
       "<table class=\"dataframe\">\n",
       "<caption>A tibble: 332 × 3</caption>\n",
       "<thead>\n",
       "\t<tr><th scope=col>price_nzd</th><th scope=col>bathrooms_text</th><th scope=col>bedrooms</th></tr>\n",
       "\t<tr><th scope=col>&lt;dbl&gt;</th><th scope=col>&lt;chr&gt;</th><th scope=col>&lt;dbl&gt;</th></tr>\n",
       "</thead>\n",
       "<tbody>\n",
       "\t<tr><td>289.31266</td><td>1 bath        </td><td> 1</td></tr>\n",
       "\t<tr><td>268.81019</td><td>1 bath        </td><td> 1</td></tr>\n",
       "\t<tr><td>296.14682</td><td>1 private bath</td><td>NA</td></tr>\n",
       "\t<tr><td>116.18067</td><td>1 bath        </td><td> 1</td></tr>\n",
       "\t<tr><td>405.49333</td><td>2 baths       </td><td> 2</td></tr>\n",
       "\t<tr><td>226.66622</td><td>1 bath        </td><td> 2</td></tr>\n",
       "\t<tr><td>108.20749</td><td>1 bath        </td><td> 1</td></tr>\n",
       "\t<tr><td>239.19551</td><td>2 baths       </td><td>NA</td></tr>\n",
       "\t<tr><td>250.58577</td><td>2 baths       </td><td> 3</td></tr>\n",
       "\t<tr><td> 76.31476</td><td>1 bath        </td><td> 1</td></tr>\n",
       "\t<tr><td>484.08614</td><td>1 bath        </td><td> 1</td></tr>\n",
       "\t<tr><td>330.31760</td><td>1 bath        </td><td> 1</td></tr>\n",
       "\t<tr><td>223.24914</td><td>1 bath        </td><td> 1</td></tr>\n",
       "\t<tr><td>455.61049</td><td>1 bath        </td><td> 3</td></tr>\n",
       "\t<tr><td>355.37618</td><td>1 bath        </td><td> 2</td></tr>\n",
       "\t<tr><td>103.65139</td><td>1 bath        </td><td> 1</td></tr>\n",
       "\t<tr><td>276.78337</td><td>1 bath        </td><td> 2</td></tr>\n",
       "\t<tr><td>108.20749</td><td>1 shared bath </td><td>NA</td></tr>\n",
       "\t<tr><td>166.29783</td><td>1 private bath</td><td> 1</td></tr>\n",
       "\t<tr><td>935.14053</td><td>3 baths       </td><td> 5</td></tr>\n",
       "\t<tr><td>533.06427</td><td>3 baths       </td><td> 3</td></tr>\n",
       "\t<tr><td>806.43056</td><td>3 baths       </td><td> 4</td></tr>\n",
       "\t<tr><td>586.59850</td><td>2.5 baths     </td><td> 3</td></tr>\n",
       "\t<tr><td>249.44674</td><td>1 bath        </td><td> 1</td></tr>\n",
       "\t<tr><td>308.67611</td><td>1 bath        </td><td> 3</td></tr>\n",
       "\t<tr><td>284.75655</td><td>1 bath        </td><td> 2</td></tr>\n",
       "\t<tr><td>240.33453</td><td>1 bath        </td><td> 1</td></tr>\n",
       "\t<tr><td>251.72479</td><td>1 private bath</td><td>NA</td></tr>\n",
       "\t<tr><td>230.08330</td><td>1 bath        </td><td> 1</td></tr>\n",
       "\t<tr><td>683.41573</td><td>1.5 baths     </td><td> 2</td></tr>\n",
       "\t<tr><td>⋮</td><td>⋮</td><td>⋮</td></tr>\n",
       "\t<tr><td> 384.9909</td><td>1 bath        </td><td> 1</td></tr>\n",
       "\t<tr><td> 367.9055</td><td>1 bath        </td><td> 1</td></tr>\n",
       "\t<tr><td> 364.4884</td><td>1 bath        </td><td> 3</td></tr>\n",
       "\t<tr><td> 398.6592</td><td>1.5 baths     </td><td> 3</td></tr>\n",
       "\t<tr><td>1025.1236</td><td>3 baths       </td><td> 4</td></tr>\n",
       "\t<tr><td> 364.4884</td><td>2 baths       </td><td> 3</td></tr>\n",
       "\t<tr><td> 179.9661</td><td>1 bath        </td><td> 1</td></tr>\n",
       "\t<tr><td> 276.7834</td><td>1 bath        </td><td> 3</td></tr>\n",
       "\t<tr><td> 243.7516</td><td>1 bath        </td><td> 1</td></tr>\n",
       "\t<tr><td>       NA</td><td>3 baths       </td><td> 5</td></tr>\n",
       "\t<tr><td> 395.2421</td><td>2 baths       </td><td> 3</td></tr>\n",
       "\t<tr><td> 244.8906</td><td>1 bath        </td><td> 2</td></tr>\n",
       "\t<tr><td> 371.3225</td><td>1.5 baths     </td><td> 2</td></tr>\n",
       "\t<tr><td> 645.8279</td><td>2.5 baths     </td><td> 4</td></tr>\n",
       "\t<tr><td> 891.8575</td><td>1 bath        </td><td> 1</td></tr>\n",
       "\t<tr><td> 284.7566</td><td>2 baths       </td><td> 3</td></tr>\n",
       "\t<tr><td> 968.1723</td><td>3 baths       </td><td> 3</td></tr>\n",
       "\t<tr><td> 813.2647</td><td>1 bath        </td><td> 1</td></tr>\n",
       "\t<tr><td> 350.8201</td><td>2 baths       </td><td> 4</td></tr>\n",
       "\t<tr><td> 121.8758</td><td>1 private bath</td><td>NA</td></tr>\n",
       "\t<tr><td> 585.4595</td><td>2 baths       </td><td> 3</td></tr>\n",
       "\t<tr><td> 579.7643</td><td>1 bath        </td><td> 1</td></tr>\n",
       "\t<tr><td> 706.1963</td><td>2 baths       </td><td> 3</td></tr>\n",
       "\t<tr><td> 137.8222</td><td>1 bath        </td><td> 1</td></tr>\n",
       "\t<tr><td> 351.9591</td><td>1 bath        </td><td> 4</td></tr>\n",
       "\t<tr><td> 312.0932</td><td>0 baths       </td><td>NA</td></tr>\n",
       "\t<tr><td> 212.9979</td><td>1 bath        </td><td> 1</td></tr>\n",
       "\t<tr><td> 212.9979</td><td>1 bath        </td><td> 1</td></tr>\n",
       "\t<tr><td> 346.2640</td><td>1 bath        </td><td> 1</td></tr>\n",
       "\t<tr><td> 297.2858</td><td>1 bath        </td><td> 2</td></tr>\n",
       "</tbody>\n",
       "</table>\n"
      ],
      "text/latex": [
       "A tibble: 332 × 3\n",
       "\\begin{tabular}{lll}\n",
       " price\\_nzd & bathrooms\\_text & bedrooms\\\\\n",
       " <dbl> & <chr> & <dbl>\\\\\n",
       "\\hline\n",
       "\t 289.31266 & 1 bath         &  1\\\\\n",
       "\t 268.81019 & 1 bath         &  1\\\\\n",
       "\t 296.14682 & 1 private bath & NA\\\\\n",
       "\t 116.18067 & 1 bath         &  1\\\\\n",
       "\t 405.49333 & 2 baths        &  2\\\\\n",
       "\t 226.66622 & 1 bath         &  2\\\\\n",
       "\t 108.20749 & 1 bath         &  1\\\\\n",
       "\t 239.19551 & 2 baths        & NA\\\\\n",
       "\t 250.58577 & 2 baths        &  3\\\\\n",
       "\t  76.31476 & 1 bath         &  1\\\\\n",
       "\t 484.08614 & 1 bath         &  1\\\\\n",
       "\t 330.31760 & 1 bath         &  1\\\\\n",
       "\t 223.24914 & 1 bath         &  1\\\\\n",
       "\t 455.61049 & 1 bath         &  3\\\\\n",
       "\t 355.37618 & 1 bath         &  2\\\\\n",
       "\t 103.65139 & 1 bath         &  1\\\\\n",
       "\t 276.78337 & 1 bath         &  2\\\\\n",
       "\t 108.20749 & 1 shared bath  & NA\\\\\n",
       "\t 166.29783 & 1 private bath &  1\\\\\n",
       "\t 935.14053 & 3 baths        &  5\\\\\n",
       "\t 533.06427 & 3 baths        &  3\\\\\n",
       "\t 806.43056 & 3 baths        &  4\\\\\n",
       "\t 586.59850 & 2.5 baths      &  3\\\\\n",
       "\t 249.44674 & 1 bath         &  1\\\\\n",
       "\t 308.67611 & 1 bath         &  3\\\\\n",
       "\t 284.75655 & 1 bath         &  2\\\\\n",
       "\t 240.33453 & 1 bath         &  1\\\\\n",
       "\t 251.72479 & 1 private bath & NA\\\\\n",
       "\t 230.08330 & 1 bath         &  1\\\\\n",
       "\t 683.41573 & 1.5 baths      &  2\\\\\n",
       "\t ⋮ & ⋮ & ⋮\\\\\n",
       "\t  384.9909 & 1 bath         &  1\\\\\n",
       "\t  367.9055 & 1 bath         &  1\\\\\n",
       "\t  364.4884 & 1 bath         &  3\\\\\n",
       "\t  398.6592 & 1.5 baths      &  3\\\\\n",
       "\t 1025.1236 & 3 baths        &  4\\\\\n",
       "\t  364.4884 & 2 baths        &  3\\\\\n",
       "\t  179.9661 & 1 bath         &  1\\\\\n",
       "\t  276.7834 & 1 bath         &  3\\\\\n",
       "\t  243.7516 & 1 bath         &  1\\\\\n",
       "\t        NA & 3 baths        &  5\\\\\n",
       "\t  395.2421 & 2 baths        &  3\\\\\n",
       "\t  244.8906 & 1 bath         &  2\\\\\n",
       "\t  371.3225 & 1.5 baths      &  2\\\\\n",
       "\t  645.8279 & 2.5 baths      &  4\\\\\n",
       "\t  891.8575 & 1 bath         &  1\\\\\n",
       "\t  284.7566 & 2 baths        &  3\\\\\n",
       "\t  968.1723 & 3 baths        &  3\\\\\n",
       "\t  813.2647 & 1 bath         &  1\\\\\n",
       "\t  350.8201 & 2 baths        &  4\\\\\n",
       "\t  121.8758 & 1 private bath & NA\\\\\n",
       "\t  585.4595 & 2 baths        &  3\\\\\n",
       "\t  579.7643 & 1 bath         &  1\\\\\n",
       "\t  706.1963 & 2 baths        &  3\\\\\n",
       "\t  137.8222 & 1 bath         &  1\\\\\n",
       "\t  351.9591 & 1 bath         &  4\\\\\n",
       "\t  312.0932 & 0 baths        & NA\\\\\n",
       "\t  212.9979 & 1 bath         &  1\\\\\n",
       "\t  212.9979 & 1 bath         &  1\\\\\n",
       "\t  346.2640 & 1 bath         &  1\\\\\n",
       "\t  297.2858 & 1 bath         &  2\\\\\n",
       "\\end{tabular}\n"
      ],
      "text/markdown": [
       "\n",
       "A tibble: 332 × 3\n",
       "\n",
       "| price_nzd &lt;dbl&gt; | bathrooms_text &lt;chr&gt; | bedrooms &lt;dbl&gt; |\n",
       "|---|---|---|\n",
       "| 289.31266 | 1 bath         |  1 |\n",
       "| 268.81019 | 1 bath         |  1 |\n",
       "| 296.14682 | 1 private bath | NA |\n",
       "| 116.18067 | 1 bath         |  1 |\n",
       "| 405.49333 | 2 baths        |  2 |\n",
       "| 226.66622 | 1 bath         |  2 |\n",
       "| 108.20749 | 1 bath         |  1 |\n",
       "| 239.19551 | 2 baths        | NA |\n",
       "| 250.58577 | 2 baths        |  3 |\n",
       "|  76.31476 | 1 bath         |  1 |\n",
       "| 484.08614 | 1 bath         |  1 |\n",
       "| 330.31760 | 1 bath         |  1 |\n",
       "| 223.24914 | 1 bath         |  1 |\n",
       "| 455.61049 | 1 bath         |  3 |\n",
       "| 355.37618 | 1 bath         |  2 |\n",
       "| 103.65139 | 1 bath         |  1 |\n",
       "| 276.78337 | 1 bath         |  2 |\n",
       "| 108.20749 | 1 shared bath  | NA |\n",
       "| 166.29783 | 1 private bath |  1 |\n",
       "| 935.14053 | 3 baths        |  5 |\n",
       "| 533.06427 | 3 baths        |  3 |\n",
       "| 806.43056 | 3 baths        |  4 |\n",
       "| 586.59850 | 2.5 baths      |  3 |\n",
       "| 249.44674 | 1 bath         |  1 |\n",
       "| 308.67611 | 1 bath         |  3 |\n",
       "| 284.75655 | 1 bath         |  2 |\n",
       "| 240.33453 | 1 bath         |  1 |\n",
       "| 251.72479 | 1 private bath | NA |\n",
       "| 230.08330 | 1 bath         |  1 |\n",
       "| 683.41573 | 1.5 baths      |  2 |\n",
       "| ⋮ | ⋮ | ⋮ |\n",
       "|  384.9909 | 1 bath         |  1 |\n",
       "|  367.9055 | 1 bath         |  1 |\n",
       "|  364.4884 | 1 bath         |  3 |\n",
       "|  398.6592 | 1.5 baths      |  3 |\n",
       "| 1025.1236 | 3 baths        |  4 |\n",
       "|  364.4884 | 2 baths        |  3 |\n",
       "|  179.9661 | 1 bath         |  1 |\n",
       "|  276.7834 | 1 bath         |  3 |\n",
       "|  243.7516 | 1 bath         |  1 |\n",
       "|        NA | 3 baths        |  5 |\n",
       "|  395.2421 | 2 baths        |  3 |\n",
       "|  244.8906 | 1 bath         |  2 |\n",
       "|  371.3225 | 1.5 baths      |  2 |\n",
       "|  645.8279 | 2.5 baths      |  4 |\n",
       "|  891.8575 | 1 bath         |  1 |\n",
       "|  284.7566 | 2 baths        |  3 |\n",
       "|  968.1723 | 3 baths        |  3 |\n",
       "|  813.2647 | 1 bath         |  1 |\n",
       "|  350.8201 | 2 baths        |  4 |\n",
       "|  121.8758 | 1 private bath | NA |\n",
       "|  585.4595 | 2 baths        |  3 |\n",
       "|  579.7643 | 1 bath         |  1 |\n",
       "|  706.1963 | 2 baths        |  3 |\n",
       "|  137.8222 | 1 bath         |  1 |\n",
       "|  351.9591 | 1 bath         |  4 |\n",
       "|  312.0932 | 0 baths        | NA |\n",
       "|  212.9979 | 1 bath         |  1 |\n",
       "|  212.9979 | 1 bath         |  1 |\n",
       "|  346.2640 | 1 bath         |  1 |\n",
       "|  297.2858 | 1 bath         |  2 |\n",
       "\n"
      ],
      "text/plain": [
       "    price_nzd bathrooms_text bedrooms\n",
       "1   289.31266 1 bath          1      \n",
       "2   268.81019 1 bath          1      \n",
       "3   296.14682 1 private bath NA      \n",
       "4   116.18067 1 bath          1      \n",
       "5   405.49333 2 baths         2      \n",
       "6   226.66622 1 bath          2      \n",
       "7   108.20749 1 bath          1      \n",
       "8   239.19551 2 baths        NA      \n",
       "9   250.58577 2 baths         3      \n",
       "10   76.31476 1 bath          1      \n",
       "11  484.08614 1 bath          1      \n",
       "12  330.31760 1 bath          1      \n",
       "13  223.24914 1 bath          1      \n",
       "14  455.61049 1 bath          3      \n",
       "15  355.37618 1 bath          2      \n",
       "16  103.65139 1 bath          1      \n",
       "17  276.78337 1 bath          2      \n",
       "18  108.20749 1 shared bath  NA      \n",
       "19  166.29783 1 private bath  1      \n",
       "20  935.14053 3 baths         5      \n",
       "21  533.06427 3 baths         3      \n",
       "22  806.43056 3 baths         4      \n",
       "23  586.59850 2.5 baths       3      \n",
       "24  249.44674 1 bath          1      \n",
       "25  308.67611 1 bath          3      \n",
       "26  284.75655 1 bath          2      \n",
       "27  240.33453 1 bath          1      \n",
       "28  251.72479 1 private bath NA      \n",
       "29  230.08330 1 bath          1      \n",
       "30  683.41573 1.5 baths       2      \n",
       "⋮   ⋮         ⋮              ⋮       \n",
       "303  384.9909 1 bath          1      \n",
       "304  367.9055 1 bath          1      \n",
       "305  364.4884 1 bath          3      \n",
       "306  398.6592 1.5 baths       3      \n",
       "307 1025.1236 3 baths         4      \n",
       "308  364.4884 2 baths         3      \n",
       "309  179.9661 1 bath          1      \n",
       "310  276.7834 1 bath          3      \n",
       "311  243.7516 1 bath          1      \n",
       "312        NA 3 baths         5      \n",
       "313  395.2421 2 baths         3      \n",
       "314  244.8906 1 bath          2      \n",
       "315  371.3225 1.5 baths       2      \n",
       "316  645.8279 2.5 baths       4      \n",
       "317  891.8575 1 bath          1      \n",
       "318  284.7566 2 baths         3      \n",
       "319  968.1723 3 baths         3      \n",
       "320  813.2647 1 bath          1      \n",
       "321  350.8201 2 baths         4      \n",
       "322  121.8758 1 private bath NA      \n",
       "323  585.4595 2 baths         3      \n",
       "324  579.7643 1 bath          1      \n",
       "325  706.1963 2 baths         3      \n",
       "326  137.8222 1 bath          1      \n",
       "327  351.9591 1 bath          4      \n",
       "328  312.0932 0 baths        NA      \n",
       "329  212.9979 1 bath          1      \n",
       "330  212.9979 1 bath          1      \n",
       "331  346.2640 1 bath          1      \n",
       "332  297.2858 1 bath          2      "
      ]
     },
     "metadata": {},
     "output_type": "display_data"
    }
   ],
   "source": [
    "api_key <- \"58c8eb71a98bc0e70380918c4ec1041c\" #setting the api key\n",
    "response <- GET(paste0(\"http://data.fixer.io/api/latest?access_key=\", api_key, \"&symbols=AUD,NZD\")) #sending HTTP GET request to fixer.io to get the latest exchange rates between AUD and NZD\n",
    "data <- fromJSON(content(response, as = \"text\")) #processes response from API that converts JSON content into a data structure that ca be easily accessed\n",
    "exchange_rate_aud_to_nzd <- data$rate$NZD / data$rates$AUD #calculates exchange rates from EUR to NZD using rates retrieved from API response\n",
    "Australia$price <- Australia$price * exchange_rate_aud_to_nzd # multiplies price column with calculated exchange rates \n",
    "Australia <- Australia %>%\n",
    "mutate(price_nzd = price * exchange_rate_aud_to_nzd) %>% #creates new column that multiplies price with the exchange rate\n",
    "select(price_nzd, bathrooms_text, bedrooms)\n",
    "Australia #displaying the modified data"
   ]
  },
  {
   "cell_type": "code",
   "execution_count": 9,
   "id": "4c122a23-4ac6-4e19-9e7a-e1a233f7294c",
   "metadata": {
    "tags": []
   },
   "outputs": [],
   "source": [
    "Australia_data <- Australia[1:100, ] #using 100 entries of the dataset"
   ]
  },
  {
   "cell_type": "code",
   "execution_count": 14,
   "id": "379a9eac-0bb0-43ca-87f0-3b9a79808dc6",
   "metadata": {
    "tags": []
   },
   "outputs": [
    {
     "name": "stderr",
     "output_type": "stream",
     "text": [
      "Warning message:\n",
      "\"\u001b[1m\u001b[22mRemoved 5 rows containing non-finite values (`stat_bin()`).\"\n"
     ]
    },
    {
     "data": {
      "image/png": "[encoded data removed]",
      "text/plain": [
       "plot without title"
      ]
     },
     "metadata": {
      "image/png": {
       "height": 420,
       "width": 420
      }
     },
     "output_type": "display_data"
    }
   ],
   "source": [
    "Australia_data$price <- as.numeric(Australia_data$price_nzd)\n",
    "Australia_plot_price <- ggplot(Australia_data, aes(x = price_nzd)) + #plotting a histogram that gives us an idea of the price\n",
    "  geom_histogram(binwidth = 50, fill = \"blue\", color = \"black\") +\n",
    "  labs(title = \"Histogram of Prices (Australia)\",\n",
    "       x = \"Price\",\n",
    "       y = \"Frequency\")\n",
    "Australia_plot_price"
   ]
  },
  {
   "cell_type": "code",
   "execution_count": 15,
   "id": "06d05dc5-4b1f-4f06-ae1d-d6b0369f5ad1",
   "metadata": {
    "tags": []
   },
   "outputs": [
    {
     "name": "stderr",
     "output_type": "stream",
     "text": [
      "Warning message:\n",
      "\"\u001b[1m\u001b[22mRemoved 10 rows containing missing values (`position_stack()`).\"\n"
     ]
    },
    {
     "data": {
      "image/png": "[encoded data removed]",
      "text/plain": [
       "plot without title"
      ]
     },
     "metadata": {
      "image/png": {
       "height": 420,
       "width": 420
      }
     },
     "output_type": "display_data"
    }
   ],
   "source": [
    "Australia_data <- Australia_data %>%\n",
    "   mutate(price_range = cut(as.numeric(gsub(\"[$,]\", \"\", price_nzd)), \n",
    "                           breaks = c(0, 100, 200, 300, 400, Inf),  #breaks specifies bin edges\n",
    "                           labels = c(\"0-100\", \"101-200\", \"201-300\", \"301-400\", \"401+\"))) #labels assigns labels to bins\n",
    "\n",
    "Australia_plot_price_bedrooms <- ggplot(Australia_data, aes(x = price_range, y = bedrooms, fill = price_range)) +\n",
    "  geom_bar(stat = \"identity\") +\n",
    "  labs(title = \"Bar Plot of Bedrooms by Price Range (Australia)\",\n",
    "       x = \"Price Range\",            #makes a bar plot with price range on x axis and bedrooms on y axis\n",
    "       y = \"Number of Bedrooms\")\n",
    "Australia_plot_price_bedrooms"
   ]
  },
  {
   "cell_type": "code",
   "execution_count": 16,
   "id": "1e3083cd-a40c-4ba4-b0ca-dd1c690e4185",
   "metadata": {
    "tags": []
   },
   "outputs": [
    {
     "data": {
      "image/png": "[encoded data removed]",
      "text/plain": [
       "plot without title"
      ]
     },
     "metadata": {
      "image/png": {
       "height": 420,
       "width": 420
      }
     },
     "output_type": "display_data"
    }
   ],
   "source": [
    "Australia_data <- Australia_data %>%\n",
    "  mutate(bathroom_category = case_when(\n",
    "    grepl(\"shared\", bathrooms_text, ignore.case = TRUE) ~ \"Shared Bath\",\n",
    "    grepl(\"private\", bathrooms_text, ignore.case = TRUE) ~ \"Private Bath\",  #creates a new column that categorises bathroom into shared, private, half, full and other\n",
    "    grepl(\"half\", bathrooms_text, ignore.case = TRUE) ~ \"Half Bath\",\n",
    "    grepl(\"bath\", bathrooms_text, ignore.case = TRUE) ~ \"Full Bath\",\n",
    "    TRUE ~ \"Other\"\n",
    "  ))\n",
    "\n",
    "Australia_plot_bathroom_text <- ggplot(Australia_data, aes(x = bathroom_category, fill = bathroom_category)) +\n",
    "  geom_bar() +\n",
    "  labs(title = \"Bar Plot of Bathroom Categories (Australia)\",\n",
    "       x = \"Bathroom Category\",          #plots bar graph that gives us an idea of the bathrom categories in the data \n",
    "       y = \"Count\") \n",
    "\n",
    "\n",
    "Australia_plot_bathroom_text"
   ]
  },
  {
   "cell_type": "code",
   "execution_count": 17,
   "id": "de5d9a8a-cdb6-4fc2-9695-b1b3abdb06f3",
   "metadata": {
    "tags": []
   },
   "outputs": [
    {
     "data": {
      "image/png": "[encoded data removed]",
      "text/plain": [
       "plot without title"
      ]
     },
     "metadata": {
      "image/png": {
       "height": 420,
       "width": 420
      }
     },
     "output_type": "display_data"
    }
   ],
   "source": [
    "Australia_plot_bathroom_price <- ggplot(Australia_data, aes(x = price_range, fill = bathroom_category)) +\n",
    "  geom_bar(position = \"dodge\") +\n",
    "  labs(title = \"Grouped Bar Plot of Bathroom Categories by Price Range (Australia)\",\n",
    "       x = \"Price Range\",        #creates a grouped bar plot which is grouped based on type of bathroom and has price range on x axis \n",
    "       y = \"Count\")\n",
    "Australia_plot_bathroom_price"
   ]
  },
  {
   "cell_type": "code",
   "execution_count": null,
   "id": "349b23c7-295f-4695-aa99-b5a1aefc1191",
   "metadata": {},
   "outputs": [],
   "source": []
  }
 ],
 "metadata": {
  "kernelspec": {
   "display_name": "R",
   "language": "R",
   "name": "ir"
  },
  "language_info": {
   "codemirror_mode": "r",
   "file_extension": ".r",
   "mimetype": "text/x-r-source",
   "name": "R",
   "pygments_lexer": "r",
   "version": "4.2.2"
  }
 },
 "nbformat": 4,
 "nbformat_minor": 5
}
