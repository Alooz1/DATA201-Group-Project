{
 "cells": [
  {
   "cell_type": "code",
   "execution_count": 1,
   "id": "68783410-5cfc-4edb-97ca-def250fe3566",
   "metadata": {
    "tags": []
   },
   "outputs": [
    {
     "name": "stderr",
     "output_type": "stream",
     "text": [
      "Installing package into 'C:/Users/DELL/AppData/Local/R/win-library/4.2'\n",
      "(as 'lib' is unspecified)\n",
      "\n"
     ]
    },
    {
     "name": "stdout",
     "output_type": "stream",
     "text": [
      "package 'tidyverse' successfully unpacked and MD5 sums checked\n",
      "\n",
      "The downloaded binary packages are in\n",
      "\tC:\\Users\\DELL\\AppData\\Local\\Temp\\RtmpEHSEdf\\downloaded_packages\n"
     ]
    }
   ],
   "source": [
    "install.packages('tidyverse')#installing tidyverse"
   ]
  },
  {
   "cell_type": "code",
   "execution_count": 2,
   "id": "ef8be562-d016-471f-89ed-789b2ef4a6d2",
   "metadata": {
    "tags": []
   },
   "outputs": [
    {
     "name": "stderr",
     "output_type": "stream",
     "text": [
      "Warning message:\n",
      "\"package 'tidyverse' was built under R version 4.2.3\"\n",
      "Warning message:\n",
      "\"package 'ggplot2' was built under R version 4.2.3\"\n",
      "── \u001b[1mAttaching core tidyverse packages\u001b[22m ──────────────────────── tidyverse 2.0.0 ──\n",
      "\u001b[32m✔\u001b[39m \u001b[34mdplyr    \u001b[39m 1.1.0     \u001b[32m✔\u001b[39m \u001b[34mreadr    \u001b[39m 2.1.4\n",
      "\u001b[32m✔\u001b[39m \u001b[34mforcats  \u001b[39m 1.0.0     \u001b[32m✔\u001b[39m \u001b[34mstringr  \u001b[39m 1.5.0\n",
      "\u001b[32m✔\u001b[39m \u001b[34mggplot2  \u001b[39m 3.4.2     \u001b[32m✔\u001b[39m \u001b[34mtibble   \u001b[39m 3.2.0\n",
      "\u001b[32m✔\u001b[39m \u001b[34mlubridate\u001b[39m 1.9.2     \u001b[32m✔\u001b[39m \u001b[34mtidyr    \u001b[39m 1.3.0\n",
      "\u001b[32m✔\u001b[39m \u001b[34mpurrr    \u001b[39m 1.0.1     \n",
      "── \u001b[1mConflicts\u001b[22m ────────────────────────────────────────── tidyverse_conflicts() ──\n",
      "\u001b[31m✖\u001b[39m \u001b[34mdplyr\u001b[39m::\u001b[32mfilter()\u001b[39m masks \u001b[34mstats\u001b[39m::filter()\n",
      "\u001b[31m✖\u001b[39m \u001b[34mdplyr\u001b[39m::\u001b[32mlag()\u001b[39m    masks \u001b[34mstats\u001b[39m::lag()\n",
      "\u001b[36mℹ\u001b[39m Use the conflicted package (\u001b[3m\u001b[34m<http://conflicted.r-lib.org/>\u001b[39m\u001b[23m) to force all conflicts to become errors\n"
     ]
    }
   ],
   "source": [
    "library(tidyverse)# loading tidyverse"
   ]
  },
  {
   "cell_type": "code",
   "execution_count": 3,
   "id": "cc5db8b8-822e-4360-8b95-663574bdf822",
   "metadata": {
    "tags": []
   },
   "outputs": [
    {
     "name": "stderr",
     "output_type": "stream",
     "text": [
      "\u001b[1mRows: \u001b[22m\u001b[34m20823\u001b[39m \u001b[1mColumns: \u001b[22m\u001b[34m75\u001b[39m\n",
      "\u001b[36m──\u001b[39m \u001b[1mColumn specification\u001b[22m \u001b[36m────────────────────────────────────────────────────────\u001b[39m\n",
      "\u001b[1mDelimiter:\u001b[22m \",\"\n",
      "\u001b[31mchr\u001b[39m  (24): listing_url, source, name, description, neighborhood_overview, pi...\n",
      "\u001b[32mdbl\u001b[39m  (37): id, scrape_id, host_id, host_listings_count, host_total_listings_...\n",
      "\u001b[33mlgl\u001b[39m   (9): host_is_superhost, host_has_profile_pic, host_identity_verified, ...\n",
      "\u001b[34mdate\u001b[39m  (5): last_scraped, host_since, calendar_last_scraped, first_review, la...\n",
      "\n",
      "\u001b[36mℹ\u001b[39m Use `spec()` to retrieve the full column specification for this data.\n",
      "\u001b[36mℹ\u001b[39m Specify the column types or set `show_col_types = FALSE` to quiet this message.\n"
     ]
    }
   ],
   "source": [
    "Thailand <- read_csv('http://data.insideairbnb.com/thailand/central-thailand/bangkok/2023-09-22/data/listings.csv.gz')#reading the csv to work with the data"
   ]
  },
  {
   "cell_type": "code",
   "execution_count": 4,
   "id": "94b63205-6c47-461a-ae13-0d85354376ef",
   "metadata": {
    "tags": []
   },
   "outputs": [
    {
     "name": "stdout",
     "output_type": "stream",
     "text": [
      "Rows: 20,823\n",
      "Columns: 75\n",
      "$ id                                           \u001b[3m\u001b[90m<dbl>\u001b[39m\u001b[23m 9.568890e+17, 4.097175e+0…\n",
      "$ listing_url                                  \u001b[3m\u001b[90m<chr>\u001b[39m\u001b[23m \"https://www.airbnb.com/r…\n",
      "$ scrape_id                                    \u001b[3m\u001b[90m<dbl>\u001b[39m\u001b[23m 2.023092e+13, 2.023092e+1…\n",
      "$ last_scraped                                 \u001b[3m\u001b[90m<date>\u001b[39m\u001b[23m 2023-09-22, 2023-09-22, …\n",
      "$ source                                       \u001b[3m\u001b[90m<chr>\u001b[39m\u001b[23m \"city scrape\", \"city scra…\n",
      "$ name                                         \u001b[3m\u001b[90m<chr>\u001b[39m\u001b[23m \"Rental unit in Khet Bang…\n",
      "$ description                                  \u001b[3m\u001b[90m<chr>\u001b[39m\u001b[23m \"坐落曼谷唯一蓝色地铁环线…\n",
      "$ neighborhood_overview                        \u001b[3m\u001b[90m<chr>\u001b[39m\u001b[23m NA, NA, NA, NA, NA, NA, N…\n",
      "$ picture_url                                  \u001b[3m\u001b[90m<chr>\u001b[39m\u001b[23m \"https://a0.muscache.com/…\n",
      "$ host_id                                      \u001b[3m\u001b[90m<dbl>\u001b[39m\u001b[23m 325788794, 79150947, 3272…\n",
      "$ host_url                                     \u001b[3m\u001b[90m<chr>\u001b[39m\u001b[23m \"https://www.airbnb.com/u…\n",
      "$ host_name                                    \u001b[3m\u001b[90m<chr>\u001b[39m\u001b[23m \"海进\", \"Ruby\", \"Pisan\", …\n",
      "$ host_since                                   \u001b[3m\u001b[90m<date>\u001b[39m\u001b[23m 2020-01-09, 2016-06-21, …\n",
      "$ host_location                                \u001b[3m\u001b[90m<chr>\u001b[39m\u001b[23m NA, \"Chicago, IL\", NA, \"B…\n",
      "$ host_about                                   \u001b[3m\u001b[90m<chr>\u001b[39m\u001b[23m NA, \"Hello everyone.I’m v…\n",
      "$ host_response_time                           \u001b[3m\u001b[90m<chr>\u001b[39m\u001b[23m \"within an hour\", \"within…\n",
      "$ host_response_rate                           \u001b[3m\u001b[90m<chr>\u001b[39m\u001b[23m \"100%\", \"100%\", \"N/A\", \"8…\n",
      "$ host_acceptance_rate                         \u001b[3m\u001b[90m<chr>\u001b[39m\u001b[23m \"45%\", \"97%\", \"100%\", \"87…\n",
      "$ host_is_superhost                            \u001b[3m\u001b[90m<lgl>\u001b[39m\u001b[23m FALSE, FALSE, FALSE, FALS…\n",
      "$ host_thumbnail_url                           \u001b[3m\u001b[90m<chr>\u001b[39m\u001b[23m \"https://a0.muscache.com/…\n",
      "$ host_picture_url                             \u001b[3m\u001b[90m<chr>\u001b[39m\u001b[23m \"https://a0.muscache.com/…\n",
      "$ host_neighbourhood                           \u001b[3m\u001b[90m<chr>\u001b[39m\u001b[23m NA, \"Bang Kapi\", NA, NA, …\n",
      "$ host_listings_count                          \u001b[3m\u001b[90m<dbl>\u001b[39m\u001b[23m 27, 7, 1, 24, 1, 1, 7, 27…\n",
      "$ host_total_listings_count                    \u001b[3m\u001b[90m<dbl>\u001b[39m\u001b[23m 28, 15, 1, 30, 1, 1, 7, 2…\n",
      "$ host_verifications                           \u001b[3m\u001b[90m<chr>\u001b[39m\u001b[23m \"['phone']\", \"['phone']\",…\n",
      "$ host_has_profile_pic                         \u001b[3m\u001b[90m<lgl>\u001b[39m\u001b[23m TRUE, TRUE, TRUE, TRUE, T…\n",
      "$ host_identity_verified                       \u001b[3m\u001b[90m<lgl>\u001b[39m\u001b[23m TRUE, TRUE, TRUE, TRUE, T…\n",
      "$ neighbourhood                                \u001b[3m\u001b[90m<chr>\u001b[39m\u001b[23m NA, NA, NA, NA, NA, NA, N…\n",
      "$ neighbourhood_cleansed                       \u001b[3m\u001b[90m<chr>\u001b[39m\u001b[23m \"Bang Phlat\", \"Bang Na\", …\n",
      "$ neighbourhood_group_cleansed                 \u001b[3m\u001b[90m<lgl>\u001b[39m\u001b[23m NA, NA, NA, NA, NA, NA, N…\n",
      "$ latitude                                     \u001b[3m\u001b[90m<dbl>\u001b[39m\u001b[23m 13.79758, 13.67015, 13.74…\n",
      "$ longitude                                    \u001b[3m\u001b[90m<dbl>\u001b[39m\u001b[23m 100.5053, 100.6047, 100.6…\n",
      "$ property_type                                \u001b[3m\u001b[90m<chr>\u001b[39m\u001b[23m \"Entire rental unit\", \"En…\n",
      "$ room_type                                    \u001b[3m\u001b[90m<chr>\u001b[39m\u001b[23m \"Entire home/apt\", \"Entir…\n",
      "$ accommodates                                 \u001b[3m\u001b[90m<dbl>\u001b[39m\u001b[23m 2, 2, 1, 2, 2, 1, 2, 3, 2…\n",
      "$ bathrooms                                    \u001b[3m\u001b[90m<lgl>\u001b[39m\u001b[23m NA, NA, NA, NA, NA, NA, N…\n",
      "$ bathrooms_text                               \u001b[3m\u001b[90m<chr>\u001b[39m\u001b[23m \"1.5 baths\", \"1 bath\", \"1…\n",
      "$ bedrooms                                     \u001b[3m\u001b[90m<dbl>\u001b[39m\u001b[23m 1, 1, NA, 1, NA, 1, NA, N…\n",
      "$ beds                                         \u001b[3m\u001b[90m<dbl>\u001b[39m\u001b[23m 1, 1, NA, 1, 1, 1, 1, NA,…\n",
      "$ amenities                                    \u001b[3m\u001b[90m<chr>\u001b[39m\u001b[23m \"[\\\"Pool\\\", \\\"Wifi\\\", \\\"P…\n",
      "$ price                                        \u001b[3m\u001b[90m<chr>\u001b[39m\u001b[23m \"$430.00\", \"$619.00\", \"$1…\n",
      "$ minimum_nights                               \u001b[3m\u001b[90m<dbl>\u001b[39m\u001b[23m 30, 28, 2, 1, 1, 90, 1, 1…\n",
      "$ maximum_nights                               \u001b[3m\u001b[90m<dbl>\u001b[39m\u001b[23m 365, 1125, 1125, 365, 112…\n",
      "$ minimum_minimum_nights                       \u001b[3m\u001b[90m<dbl>\u001b[39m\u001b[23m 30, 28, 2, 1, 1, 90, 1, 1…\n",
      "$ maximum_minimum_nights                       \u001b[3m\u001b[90m<dbl>\u001b[39m\u001b[23m 30, 28, 2, 1, 1, 90, 1, 1…\n",
      "$ minimum_maximum_nights                       \u001b[3m\u001b[90m<dbl>\u001b[39m\u001b[23m 365, 1125, 1125, 1125, 11…\n",
      "$ maximum_maximum_nights                       \u001b[3m\u001b[90m<dbl>\u001b[39m\u001b[23m 365, 1125, 1125, 1125, 11…\n",
      "$ minimum_nights_avg_ntm                       \u001b[3m\u001b[90m<dbl>\u001b[39m\u001b[23m 30.0, 28.0, 2.0, 1.0, 1.0…\n",
      "$ maximum_nights_avg_ntm                       \u001b[3m\u001b[90m<dbl>\u001b[39m\u001b[23m 365, 1125, 1125, 1125, 11…\n",
      "$ calendar_updated                             \u001b[3m\u001b[90m<lgl>\u001b[39m\u001b[23m NA, NA, NA, NA, NA, NA, N…\n",
      "$ has_availability                             \u001b[3m\u001b[90m<lgl>\u001b[39m\u001b[23m TRUE, TRUE, TRUE, TRUE, T…\n",
      "$ availability_30                              \u001b[3m\u001b[90m<dbl>\u001b[39m\u001b[23m 1, 0, 30, 30, 29, 0, 30, …\n",
      "$ availability_60                              \u001b[3m\u001b[90m<dbl>\u001b[39m\u001b[23m 1, 21, 60, 58, 59, 0, 60,…\n",
      "$ availability_90                              \u001b[3m\u001b[90m<dbl>\u001b[39m\u001b[23m 1, 29, 90, 88, 89, 0, 90,…\n",
      "$ availability_365                             \u001b[3m\u001b[90m<dbl>\u001b[39m\u001b[23m 177, 245, 270, 178, 364, …\n",
      "$ calendar_last_scraped                        \u001b[3m\u001b[90m<date>\u001b[39m\u001b[23m 2023-09-22, 2023-09-22, …\n",
      "$ number_of_reviews                            \u001b[3m\u001b[90m<dbl>\u001b[39m\u001b[23m 0, 9, 1, 22, 0, 0, 0, 0, …\n",
      "$ number_of_reviews_ltm                        \u001b[3m\u001b[90m<dbl>\u001b[39m\u001b[23m 0, 2, 0, 8, 0, 0, 0, 0, 0…\n",
      "$ number_of_reviews_l30d                       \u001b[3m\u001b[90m<dbl>\u001b[39m\u001b[23m 0, 0, 0, 0, 0, 0, 0, 0, 0…\n",
      "$ first_review                                 \u001b[3m\u001b[90m<date>\u001b[39m\u001b[23m NA, 2020-02-13, 2020-02-…\n",
      "$ last_review                                  \u001b[3m\u001b[90m<date>\u001b[39m\u001b[23m NA, 2023-02-18, 2020-02-…\n",
      "$ review_scores_rating                         \u001b[3m\u001b[90m<dbl>\u001b[39m\u001b[23m NA, 4.56, 5.00, 3.86, NA,…\n",
      "$ review_scores_accuracy                       \u001b[3m\u001b[90m<dbl>\u001b[39m\u001b[23m NA, 4.56, 5.00, 4.23, NA,…\n",
      "$ review_scores_cleanliness                    \u001b[3m\u001b[90m<dbl>\u001b[39m\u001b[23m NA, 3.89, 5.00, 4.77, NA,…\n",
      "$ review_scores_checkin                        \u001b[3m\u001b[90m<dbl>\u001b[39m\u001b[23m NA, 4.33, 5.00, 4.23, NA,…\n",
      "$ review_scores_communication                  \u001b[3m\u001b[90m<dbl>\u001b[39m\u001b[23m NA, 4.89, 5.00, 4.14, NA,…\n",
      "$ review_scores_location                       \u001b[3m\u001b[90m<dbl>\u001b[39m\u001b[23m NA, 4.78, 5.00, 4.36, NA,…\n",
      "$ review_scores_value                          \u001b[3m\u001b[90m<dbl>\u001b[39m\u001b[23m NA, 4.56, 5.00, 4.18, NA,…\n",
      "$ license                                      \u001b[3m\u001b[90m<lgl>\u001b[39m\u001b[23m NA, NA, NA, NA, NA, NA, N…\n",
      "$ instant_bookable                             \u001b[3m\u001b[90m<lgl>\u001b[39m\u001b[23m FALSE, FALSE, TRUE, TRUE,…\n",
      "$ calculated_host_listings_count               \u001b[3m\u001b[90m<dbl>\u001b[39m\u001b[23m 26, 7, 1, 14, 1, 1, 7, 6,…\n",
      "$ calculated_host_listings_count_entire_homes  \u001b[3m\u001b[90m<dbl>\u001b[39m\u001b[23m 26, 5, 1, 7, 0, 1, 2, 0, …\n",
      "$ calculated_host_listings_count_private_rooms \u001b[3m\u001b[90m<dbl>\u001b[39m\u001b[23m 0, 1, 0, 7, 1, 0, 5, 6, 5…\n",
      "$ calculated_host_listings_count_shared_rooms  \u001b[3m\u001b[90m<dbl>\u001b[39m\u001b[23m 0, 0, 0, 0, 0, 0, 0, 0, 0…\n",
      "$ reviews_per_month                            \u001b[3m\u001b[90m<dbl>\u001b[39m\u001b[23m NA, 0.20, 0.02, 1.15, NA,…\n"
     ]
    }
   ],
   "source": [
    "glimpse(Thailand)# taking a look at the data to understand the content"
   ]
  },
  {
   "cell_type": "code",
   "execution_count": 5,
   "id": "c7a1f688-1027-4d1c-ab0e-3632cc372eac",
   "metadata": {
    "tags": []
   },
   "outputs": [
    {
     "name": "stderr",
     "output_type": "stream",
     "text": [
      "Warning message in eval(expr, envir, enclos):\n",
      "\"NAs introduced by coercion\"\n"
     ]
    }
   ],
   "source": [
    "Thailand$price <- as.numeric(gsub(\"\\\\$\", \"\", Thailand$price))# converting the price column into numeric format and removing the dollar symbol"
   ]
  },
  {
   "cell_type": "code",
   "execution_count": 6,
   "id": "9ca2c170-ce99-4592-890a-99f700f47216",
   "metadata": {
    "tags": []
   },
   "outputs": [
    {
     "data": {
      "text/html": [
       "<table class=\"dataframe\">\n",
       "<caption>A tibble: 20823 × 3</caption>\n",
       "<thead>\n",
       "\t<tr><th scope=col>price</th><th scope=col>bedrooms</th><th scope=col>bathrooms_text</th></tr>\n",
       "\t<tr><th scope=col>&lt;dbl&gt;</th><th scope=col>&lt;dbl&gt;</th><th scope=col>&lt;chr&gt;</th></tr>\n",
       "</thead>\n",
       "<tbody>\n",
       "\t<tr><td>430</td><td> 1</td><td>1.5 baths     </td></tr>\n",
       "\t<tr><td>619</td><td> 1</td><td>1 bath        </td></tr>\n",
       "\t<tr><td> NA</td><td>NA</td><td>1 bath        </td></tr>\n",
       "\t<tr><td> NA</td><td> 1</td><td>1 bath        </td></tr>\n",
       "\t<tr><td> NA</td><td>NA</td><td>1 bath        </td></tr>\n",
       "\t<tr><td>500</td><td> 1</td><td>1 bath        </td></tr>\n",
       "\t<tr><td>720</td><td>NA</td><td>2 baths       </td></tr>\n",
       "\t<tr><td> NA</td><td>NA</td><td>1 private bath</td></tr>\n",
       "\t<tr><td>640</td><td>NA</td><td>1 private bath</td></tr>\n",
       "\t<tr><td>839</td><td>NA</td><td>1 bath        </td></tr>\n",
       "\t<tr><td>500</td><td>NA</td><td>1 private bath</td></tr>\n",
       "\t<tr><td> NA</td><td> 1</td><td>2.5 baths     </td></tr>\n",
       "\t<tr><td> NA</td><td>NA</td><td>1 private bath</td></tr>\n",
       "\t<tr><td>850</td><td> 1</td><td>1 bath        </td></tr>\n",
       "\t<tr><td>800</td><td> 1</td><td>1 bath        </td></tr>\n",
       "\t<tr><td> NA</td><td> 4</td><td>3 baths       </td></tr>\n",
       "\t<tr><td> NA</td><td> 1</td><td>1 bath        </td></tr>\n",
       "\t<tr><td> NA</td><td> 4</td><td>2 baths       </td></tr>\n",
       "\t<tr><td>712</td><td> 1</td><td>1 bath        </td></tr>\n",
       "\t<tr><td> NA</td><td> 1</td><td>1 bath        </td></tr>\n",
       "\t<tr><td>490</td><td>NA</td><td>1 shared bath </td></tr>\n",
       "\t<tr><td> NA</td><td> 3</td><td>2.5 baths     </td></tr>\n",
       "\t<tr><td> NA</td><td> 2</td><td>1 bath        </td></tr>\n",
       "\t<tr><td>800</td><td>50</td><td>NA            </td></tr>\n",
       "\t<tr><td> NA</td><td>NA</td><td>1 bath        </td></tr>\n",
       "\t<tr><td>470</td><td> 1</td><td>1 bath        </td></tr>\n",
       "\t<tr><td> NA</td><td>NA</td><td>1 shared bath </td></tr>\n",
       "\t<tr><td>470</td><td> 1</td><td>1 bath        </td></tr>\n",
       "\t<tr><td> NA</td><td> 2</td><td>1.5 baths     </td></tr>\n",
       "\t<tr><td> NA</td><td> 1</td><td>1 bath        </td></tr>\n",
       "\t<tr><td>⋮</td><td>⋮</td><td>⋮</td></tr>\n",
       "\t<tr><td>900</td><td> 1</td><td>1 bath          </td></tr>\n",
       "\t<tr><td> NA</td><td> 1</td><td>1 bath          </td></tr>\n",
       "\t<tr><td> NA</td><td> 2</td><td>2 baths         </td></tr>\n",
       "\t<tr><td> NA</td><td> 1</td><td>1 bath          </td></tr>\n",
       "\t<tr><td> NA</td><td> 2</td><td>2 baths         </td></tr>\n",
       "\t<tr><td>909</td><td> 1</td><td>1 bath          </td></tr>\n",
       "\t<tr><td> NA</td><td>NA</td><td>4 baths         </td></tr>\n",
       "\t<tr><td> NA</td><td> 1</td><td>1 bath          </td></tr>\n",
       "\t<tr><td> NA</td><td> 1</td><td>1 private bath  </td></tr>\n",
       "\t<tr><td> NA</td><td>NA</td><td>1 bath          </td></tr>\n",
       "\t<tr><td> NA</td><td> 1</td><td>1 bath          </td></tr>\n",
       "\t<tr><td> NA</td><td> 1</td><td>1 bath          </td></tr>\n",
       "\t<tr><td>600</td><td>NA</td><td>1 bath          </td></tr>\n",
       "\t<tr><td> NA</td><td>NA</td><td>1 shared bath   </td></tr>\n",
       "\t<tr><td> NA</td><td> 1</td><td>1 bath          </td></tr>\n",
       "\t<tr><td> NA</td><td> 1</td><td>1 bath          </td></tr>\n",
       "\t<tr><td> NA</td><td>NA</td><td>1 bath          </td></tr>\n",
       "\t<tr><td> NA</td><td> 1</td><td>1 private bath  </td></tr>\n",
       "\t<tr><td>480</td><td>NA</td><td>1 shared bath   </td></tr>\n",
       "\t<tr><td>850</td><td>NA</td><td>1 private bath  </td></tr>\n",
       "\t<tr><td> NA</td><td> 2</td><td>2 baths         </td></tr>\n",
       "\t<tr><td> NA</td><td>NA</td><td>1 private bath  </td></tr>\n",
       "\t<tr><td>440</td><td>NA</td><td>2 shared baths  </td></tr>\n",
       "\t<tr><td> NA</td><td> 2</td><td>1.5 shared baths</td></tr>\n",
       "\t<tr><td>733</td><td> 1</td><td>1 private bath  </td></tr>\n",
       "\t<tr><td> NA</td><td>NA</td><td>2 baths         </td></tr>\n",
       "\t<tr><td>602</td><td> 1</td><td>1 bath          </td></tr>\n",
       "\t<tr><td> NA</td><td> 2</td><td>2 baths         </td></tr>\n",
       "\t<tr><td> NA</td><td> 1</td><td>1 bath          </td></tr>\n",
       "\t<tr><td> NA</td><td> 1</td><td>1 bath          </td></tr>\n",
       "</tbody>\n",
       "</table>\n"
      ],
      "text/latex": [
       "A tibble: 20823 × 3\n",
       "\\begin{tabular}{lll}\n",
       " price & bedrooms & bathrooms\\_text\\\\\n",
       " <dbl> & <dbl> & <chr>\\\\\n",
       "\\hline\n",
       "\t 430 &  1 & 1.5 baths     \\\\\n",
       "\t 619 &  1 & 1 bath        \\\\\n",
       "\t  NA & NA & 1 bath        \\\\\n",
       "\t  NA &  1 & 1 bath        \\\\\n",
       "\t  NA & NA & 1 bath        \\\\\n",
       "\t 500 &  1 & 1 bath        \\\\\n",
       "\t 720 & NA & 2 baths       \\\\\n",
       "\t  NA & NA & 1 private bath\\\\\n",
       "\t 640 & NA & 1 private bath\\\\\n",
       "\t 839 & NA & 1 bath        \\\\\n",
       "\t 500 & NA & 1 private bath\\\\\n",
       "\t  NA &  1 & 2.5 baths     \\\\\n",
       "\t  NA & NA & 1 private bath\\\\\n",
       "\t 850 &  1 & 1 bath        \\\\\n",
       "\t 800 &  1 & 1 bath        \\\\\n",
       "\t  NA &  4 & 3 baths       \\\\\n",
       "\t  NA &  1 & 1 bath        \\\\\n",
       "\t  NA &  4 & 2 baths       \\\\\n",
       "\t 712 &  1 & 1 bath        \\\\\n",
       "\t  NA &  1 & 1 bath        \\\\\n",
       "\t 490 & NA & 1 shared bath \\\\\n",
       "\t  NA &  3 & 2.5 baths     \\\\\n",
       "\t  NA &  2 & 1 bath        \\\\\n",
       "\t 800 & 50 & NA            \\\\\n",
       "\t  NA & NA & 1 bath        \\\\\n",
       "\t 470 &  1 & 1 bath        \\\\\n",
       "\t  NA & NA & 1 shared bath \\\\\n",
       "\t 470 &  1 & 1 bath        \\\\\n",
       "\t  NA &  2 & 1.5 baths     \\\\\n",
       "\t  NA &  1 & 1 bath        \\\\\n",
       "\t ⋮ & ⋮ & ⋮\\\\\n",
       "\t 900 &  1 & 1 bath          \\\\\n",
       "\t  NA &  1 & 1 bath          \\\\\n",
       "\t  NA &  2 & 2 baths         \\\\\n",
       "\t  NA &  1 & 1 bath          \\\\\n",
       "\t  NA &  2 & 2 baths         \\\\\n",
       "\t 909 &  1 & 1 bath          \\\\\n",
       "\t  NA & NA & 4 baths         \\\\\n",
       "\t  NA &  1 & 1 bath          \\\\\n",
       "\t  NA &  1 & 1 private bath  \\\\\n",
       "\t  NA & NA & 1 bath          \\\\\n",
       "\t  NA &  1 & 1 bath          \\\\\n",
       "\t  NA &  1 & 1 bath          \\\\\n",
       "\t 600 & NA & 1 bath          \\\\\n",
       "\t  NA & NA & 1 shared bath   \\\\\n",
       "\t  NA &  1 & 1 bath          \\\\\n",
       "\t  NA &  1 & 1 bath          \\\\\n",
       "\t  NA & NA & 1 bath          \\\\\n",
       "\t  NA &  1 & 1 private bath  \\\\\n",
       "\t 480 & NA & 1 shared bath   \\\\\n",
       "\t 850 & NA & 1 private bath  \\\\\n",
       "\t  NA &  2 & 2 baths         \\\\\n",
       "\t  NA & NA & 1 private bath  \\\\\n",
       "\t 440 & NA & 2 shared baths  \\\\\n",
       "\t  NA &  2 & 1.5 shared baths\\\\\n",
       "\t 733 &  1 & 1 private bath  \\\\\n",
       "\t  NA & NA & 2 baths         \\\\\n",
       "\t 602 &  1 & 1 bath          \\\\\n",
       "\t  NA &  2 & 2 baths         \\\\\n",
       "\t  NA &  1 & 1 bath          \\\\\n",
       "\t  NA &  1 & 1 bath          \\\\\n",
       "\\end{tabular}\n"
      ],
      "text/markdown": [
       "\n",
       "A tibble: 20823 × 3\n",
       "\n",
       "| price &lt;dbl&gt; | bedrooms &lt;dbl&gt; | bathrooms_text &lt;chr&gt; |\n",
       "|---|---|---|\n",
       "| 430 |  1 | 1.5 baths      |\n",
       "| 619 |  1 | 1 bath         |\n",
       "|  NA | NA | 1 bath         |\n",
       "|  NA |  1 | 1 bath         |\n",
       "|  NA | NA | 1 bath         |\n",
       "| 500 |  1 | 1 bath         |\n",
       "| 720 | NA | 2 baths        |\n",
       "|  NA | NA | 1 private bath |\n",
       "| 640 | NA | 1 private bath |\n",
       "| 839 | NA | 1 bath         |\n",
       "| 500 | NA | 1 private bath |\n",
       "|  NA |  1 | 2.5 baths      |\n",
       "|  NA | NA | 1 private bath |\n",
       "| 850 |  1 | 1 bath         |\n",
       "| 800 |  1 | 1 bath         |\n",
       "|  NA |  4 | 3 baths        |\n",
       "|  NA |  1 | 1 bath         |\n",
       "|  NA |  4 | 2 baths        |\n",
       "| 712 |  1 | 1 bath         |\n",
       "|  NA |  1 | 1 bath         |\n",
       "| 490 | NA | 1 shared bath  |\n",
       "|  NA |  3 | 2.5 baths      |\n",
       "|  NA |  2 | 1 bath         |\n",
       "| 800 | 50 | NA             |\n",
       "|  NA | NA | 1 bath         |\n",
       "| 470 |  1 | 1 bath         |\n",
       "|  NA | NA | 1 shared bath  |\n",
       "| 470 |  1 | 1 bath         |\n",
       "|  NA |  2 | 1.5 baths      |\n",
       "|  NA |  1 | 1 bath         |\n",
       "| ⋮ | ⋮ | ⋮ |\n",
       "| 900 |  1 | 1 bath           |\n",
       "|  NA |  1 | 1 bath           |\n",
       "|  NA |  2 | 2 baths          |\n",
       "|  NA |  1 | 1 bath           |\n",
       "|  NA |  2 | 2 baths          |\n",
       "| 909 |  1 | 1 bath           |\n",
       "|  NA | NA | 4 baths          |\n",
       "|  NA |  1 | 1 bath           |\n",
       "|  NA |  1 | 1 private bath   |\n",
       "|  NA | NA | 1 bath           |\n",
       "|  NA |  1 | 1 bath           |\n",
       "|  NA |  1 | 1 bath           |\n",
       "| 600 | NA | 1 bath           |\n",
       "|  NA | NA | 1 shared bath    |\n",
       "|  NA |  1 | 1 bath           |\n",
       "|  NA |  1 | 1 bath           |\n",
       "|  NA | NA | 1 bath           |\n",
       "|  NA |  1 | 1 private bath   |\n",
       "| 480 | NA | 1 shared bath    |\n",
       "| 850 | NA | 1 private bath   |\n",
       "|  NA |  2 | 2 baths          |\n",
       "|  NA | NA | 1 private bath   |\n",
       "| 440 | NA | 2 shared baths   |\n",
       "|  NA |  2 | 1.5 shared baths |\n",
       "| 733 |  1 | 1 private bath   |\n",
       "|  NA | NA | 2 baths          |\n",
       "| 602 |  1 | 1 bath           |\n",
       "|  NA |  2 | 2 baths          |\n",
       "|  NA |  1 | 1 bath           |\n",
       "|  NA |  1 | 1 bath           |\n",
       "\n"
      ],
      "text/plain": [
       "      price bedrooms bathrooms_text  \n",
       "1     430    1       1.5 baths       \n",
       "2     619    1       1 bath          \n",
       "3      NA   NA       1 bath          \n",
       "4      NA    1       1 bath          \n",
       "5      NA   NA       1 bath          \n",
       "6     500    1       1 bath          \n",
       "7     720   NA       2 baths         \n",
       "8      NA   NA       1 private bath  \n",
       "9     640   NA       1 private bath  \n",
       "10    839   NA       1 bath          \n",
       "11    500   NA       1 private bath  \n",
       "12     NA    1       2.5 baths       \n",
       "13     NA   NA       1 private bath  \n",
       "14    850    1       1 bath          \n",
       "15    800    1       1 bath          \n",
       "16     NA    4       3 baths         \n",
       "17     NA    1       1 bath          \n",
       "18     NA    4       2 baths         \n",
       "19    712    1       1 bath          \n",
       "20     NA    1       1 bath          \n",
       "21    490   NA       1 shared bath   \n",
       "22     NA    3       2.5 baths       \n",
       "23     NA    2       1 bath          \n",
       "24    800   50       NA              \n",
       "25     NA   NA       1 bath          \n",
       "26    470    1       1 bath          \n",
       "27     NA   NA       1 shared bath   \n",
       "28    470    1       1 bath          \n",
       "29     NA    2       1.5 baths       \n",
       "30     NA    1       1 bath          \n",
       "⋮     ⋮     ⋮        ⋮               \n",
       "20794 900    1       1 bath          \n",
       "20795  NA    1       1 bath          \n",
       "20796  NA    2       2 baths         \n",
       "20797  NA    1       1 bath          \n",
       "20798  NA    2       2 baths         \n",
       "20799 909    1       1 bath          \n",
       "20800  NA   NA       4 baths         \n",
       "20801  NA    1       1 bath          \n",
       "20802  NA    1       1 private bath  \n",
       "20803  NA   NA       1 bath          \n",
       "20804  NA    1       1 bath          \n",
       "20805  NA    1       1 bath          \n",
       "20806 600   NA       1 bath          \n",
       "20807  NA   NA       1 shared bath   \n",
       "20808  NA    1       1 bath          \n",
       "20809  NA    1       1 bath          \n",
       "20810  NA   NA       1 bath          \n",
       "20811  NA    1       1 private bath  \n",
       "20812 480   NA       1 shared bath   \n",
       "20813 850   NA       1 private bath  \n",
       "20814  NA    2       2 baths         \n",
       "20815  NA   NA       1 private bath  \n",
       "20816 440   NA       2 shared baths  \n",
       "20817  NA    2       1.5 shared baths\n",
       "20818 733    1       1 private bath  \n",
       "20819  NA   NA       2 baths         \n",
       "20820 602    1       1 bath          \n",
       "20821  NA    2       2 baths         \n",
       "20822  NA    1       1 bath          \n",
       "20823  NA    1       1 bath          "
      ]
     },
     "metadata": {},
     "output_type": "display_data"
    }
   ],
   "source": [
    "Thailand <- Thailand %>% select(price,bedrooms,bathrooms_text)#selecting price, bedrooms, bathrooms_text from the Spain data set and placing it under a new variable so that it is easy to work with\n",
    "Thailand #viewing the selected data"
   ]
  },
  {
   "cell_type": "code",
   "execution_count": 7,
   "id": "4be23492-2889-4d7b-81e4-efef52fb9c70",
   "metadata": {
    "tags": []
   },
   "outputs": [
    {
     "name": "stderr",
     "output_type": "stream",
     "text": [
      "Warning message:\n",
      "\"package 'jsonlite' was built under R version 4.2.3\"\n",
      "\n",
      "Attaching package: 'jsonlite'\n",
      "\n",
      "\n",
      "The following object is masked from 'package:purrr':\n",
      "\n",
      "    flatten\n",
      "\n",
      "\n",
      "Warning message:\n",
      "\"package 'httr' was built under R version 4.2.3\"\n"
     ]
    }
   ],
   "source": [
    "#loading necessary libraries to plot the data \n",
    "library(ggplot2)\n",
    "library(jsonlite)\n",
    "library(httr)"
   ]
  },
  {
   "cell_type": "code",
   "execution_count": 15,
   "id": "e45f9285-fdf9-4504-907c-a6493d3e5a5b",
   "metadata": {
    "tags": []
   },
   "outputs": [
    {
     "data": {
      "text/html": [
       "<table class=\"dataframe\">\n",
       "<caption>A tibble: 20823 × 3</caption>\n",
       "<thead>\n",
       "\t<tr><th scope=col>price_nzd</th><th scope=col>bathrooms_text</th><th scope=col>bedrooms</th></tr>\n",
       "\t<tr><th scope=col>&lt;dbl&gt;</th><th scope=col>&lt;chr&gt;</th><th scope=col>&lt;dbl&gt;</th></tr>\n",
       "</thead>\n",
       "<tbody>\n",
       "\t<tr><td>0.932896</td><td>1.5 baths     </td><td> 1</td></tr>\n",
       "\t<tr><td>1.342936</td><td>1 bath        </td><td> 1</td></tr>\n",
       "\t<tr><td>      NA</td><td>1 bath        </td><td>NA</td></tr>\n",
       "\t<tr><td>      NA</td><td>1 bath        </td><td> 1</td></tr>\n",
       "\t<tr><td>      NA</td><td>1 bath        </td><td>NA</td></tr>\n",
       "\t<tr><td>1.084763</td><td>1 bath        </td><td> 1</td></tr>\n",
       "\t<tr><td>1.562058</td><td>2 baths       </td><td>NA</td></tr>\n",
       "\t<tr><td>      NA</td><td>1 private bath</td><td>NA</td></tr>\n",
       "\t<tr><td>1.388496</td><td>1 private bath</td><td>NA</td></tr>\n",
       "\t<tr><td>1.820232</td><td>1 bath        </td><td>NA</td></tr>\n",
       "\t<tr><td>1.084763</td><td>1 private bath</td><td>NA</td></tr>\n",
       "\t<tr><td>      NA</td><td>2.5 baths     </td><td> 1</td></tr>\n",
       "\t<tr><td>      NA</td><td>1 private bath</td><td>NA</td></tr>\n",
       "\t<tr><td>1.844097</td><td>1 bath        </td><td> 1</td></tr>\n",
       "\t<tr><td>1.735620</td><td>1 bath        </td><td> 1</td></tr>\n",
       "\t<tr><td>      NA</td><td>3 baths       </td><td> 4</td></tr>\n",
       "\t<tr><td>      NA</td><td>1 bath        </td><td> 1</td></tr>\n",
       "\t<tr><td>      NA</td><td>2 baths       </td><td> 4</td></tr>\n",
       "\t<tr><td>1.544702</td><td>1 bath        </td><td> 1</td></tr>\n",
       "\t<tr><td>      NA</td><td>1 bath        </td><td> 1</td></tr>\n",
       "\t<tr><td>1.063068</td><td>1 shared bath </td><td>NA</td></tr>\n",
       "\t<tr><td>      NA</td><td>2.5 baths     </td><td> 3</td></tr>\n",
       "\t<tr><td>      NA</td><td>1 bath        </td><td> 2</td></tr>\n",
       "\t<tr><td>1.735620</td><td>NA            </td><td>50</td></tr>\n",
       "\t<tr><td>      NA</td><td>1 bath        </td><td>NA</td></tr>\n",
       "\t<tr><td>1.019677</td><td>1 bath        </td><td> 1</td></tr>\n",
       "\t<tr><td>      NA</td><td>1 shared bath </td><td>NA</td></tr>\n",
       "\t<tr><td>1.019677</td><td>1 bath        </td><td> 1</td></tr>\n",
       "\t<tr><td>      NA</td><td>1.5 baths     </td><td> 2</td></tr>\n",
       "\t<tr><td>      NA</td><td>1 bath        </td><td> 1</td></tr>\n",
       "\t<tr><td>⋮</td><td>⋮</td><td>⋮</td></tr>\n",
       "\t<tr><td>1.9525730</td><td>1 bath          </td><td> 1</td></tr>\n",
       "\t<tr><td>       NA</td><td>1 bath          </td><td> 1</td></tr>\n",
       "\t<tr><td>       NA</td><td>2 baths         </td><td> 2</td></tr>\n",
       "\t<tr><td>       NA</td><td>1 bath          </td><td> 1</td></tr>\n",
       "\t<tr><td>       NA</td><td>2 baths         </td><td> 2</td></tr>\n",
       "\t<tr><td>1.9720987</td><td>1 bath          </td><td> 1</td></tr>\n",
       "\t<tr><td>       NA</td><td>4 baths         </td><td>NA</td></tr>\n",
       "\t<tr><td>       NA</td><td>1 bath          </td><td> 1</td></tr>\n",
       "\t<tr><td>       NA</td><td>1 private bath  </td><td> 1</td></tr>\n",
       "\t<tr><td>       NA</td><td>1 bath          </td><td>NA</td></tr>\n",
       "\t<tr><td>       NA</td><td>1 bath          </td><td> 1</td></tr>\n",
       "\t<tr><td>       NA</td><td>1 bath          </td><td> 1</td></tr>\n",
       "\t<tr><td>1.3017153</td><td>1 bath          </td><td>NA</td></tr>\n",
       "\t<tr><td>       NA</td><td>1 shared bath   </td><td>NA</td></tr>\n",
       "\t<tr><td>       NA</td><td>1 bath          </td><td> 1</td></tr>\n",
       "\t<tr><td>       NA</td><td>1 bath          </td><td> 1</td></tr>\n",
       "\t<tr><td>       NA</td><td>1 bath          </td><td>NA</td></tr>\n",
       "\t<tr><td>       NA</td><td>1 private bath  </td><td> 1</td></tr>\n",
       "\t<tr><td>1.0413723</td><td>1 shared bath   </td><td>NA</td></tr>\n",
       "\t<tr><td>1.8440967</td><td>1 private bath  </td><td>NA</td></tr>\n",
       "\t<tr><td>       NA</td><td>2 baths         </td><td> 2</td></tr>\n",
       "\t<tr><td>       NA</td><td>1 private bath  </td><td>NA</td></tr>\n",
       "\t<tr><td>0.9545912</td><td>2 shared baths  </td><td>NA</td></tr>\n",
       "\t<tr><td>       NA</td><td>1.5 shared baths</td><td> 2</td></tr>\n",
       "\t<tr><td>1.5902622</td><td>1 private bath  </td><td> 1</td></tr>\n",
       "\t<tr><td>       NA</td><td>2 baths         </td><td>NA</td></tr>\n",
       "\t<tr><td>1.3060544</td><td>1 bath          </td><td> 1</td></tr>\n",
       "\t<tr><td>       NA</td><td>2 baths         </td><td> 2</td></tr>\n",
       "\t<tr><td>       NA</td><td>1 bath          </td><td> 1</td></tr>\n",
       "\t<tr><td>       NA</td><td>1 bath          </td><td> 1</td></tr>\n",
       "</tbody>\n",
       "</table>\n"
      ],
      "text/latex": [
       "A tibble: 20823 × 3\n",
       "\\begin{tabular}{lll}\n",
       " price\\_nzd & bathrooms\\_text & bedrooms\\\\\n",
       " <dbl> & <chr> & <dbl>\\\\\n",
       "\\hline\n",
       "\t 0.932896 & 1.5 baths      &  1\\\\\n",
       "\t 1.342936 & 1 bath         &  1\\\\\n",
       "\t       NA & 1 bath         & NA\\\\\n",
       "\t       NA & 1 bath         &  1\\\\\n",
       "\t       NA & 1 bath         & NA\\\\\n",
       "\t 1.084763 & 1 bath         &  1\\\\\n",
       "\t 1.562058 & 2 baths        & NA\\\\\n",
       "\t       NA & 1 private bath & NA\\\\\n",
       "\t 1.388496 & 1 private bath & NA\\\\\n",
       "\t 1.820232 & 1 bath         & NA\\\\\n",
       "\t 1.084763 & 1 private bath & NA\\\\\n",
       "\t       NA & 2.5 baths      &  1\\\\\n",
       "\t       NA & 1 private bath & NA\\\\\n",
       "\t 1.844097 & 1 bath         &  1\\\\\n",
       "\t 1.735620 & 1 bath         &  1\\\\\n",
       "\t       NA & 3 baths        &  4\\\\\n",
       "\t       NA & 1 bath         &  1\\\\\n",
       "\t       NA & 2 baths        &  4\\\\\n",
       "\t 1.544702 & 1 bath         &  1\\\\\n",
       "\t       NA & 1 bath         &  1\\\\\n",
       "\t 1.063068 & 1 shared bath  & NA\\\\\n",
       "\t       NA & 2.5 baths      &  3\\\\\n",
       "\t       NA & 1 bath         &  2\\\\\n",
       "\t 1.735620 & NA             & 50\\\\\n",
       "\t       NA & 1 bath         & NA\\\\\n",
       "\t 1.019677 & 1 bath         &  1\\\\\n",
       "\t       NA & 1 shared bath  & NA\\\\\n",
       "\t 1.019677 & 1 bath         &  1\\\\\n",
       "\t       NA & 1.5 baths      &  2\\\\\n",
       "\t       NA & 1 bath         &  1\\\\\n",
       "\t ⋮ & ⋮ & ⋮\\\\\n",
       "\t 1.9525730 & 1 bath           &  1\\\\\n",
       "\t        NA & 1 bath           &  1\\\\\n",
       "\t        NA & 2 baths          &  2\\\\\n",
       "\t        NA & 1 bath           &  1\\\\\n",
       "\t        NA & 2 baths          &  2\\\\\n",
       "\t 1.9720987 & 1 bath           &  1\\\\\n",
       "\t        NA & 4 baths          & NA\\\\\n",
       "\t        NA & 1 bath           &  1\\\\\n",
       "\t        NA & 1 private bath   &  1\\\\\n",
       "\t        NA & 1 bath           & NA\\\\\n",
       "\t        NA & 1 bath           &  1\\\\\n",
       "\t        NA & 1 bath           &  1\\\\\n",
       "\t 1.3017153 & 1 bath           & NA\\\\\n",
       "\t        NA & 1 shared bath    & NA\\\\\n",
       "\t        NA & 1 bath           &  1\\\\\n",
       "\t        NA & 1 bath           &  1\\\\\n",
       "\t        NA & 1 bath           & NA\\\\\n",
       "\t        NA & 1 private bath   &  1\\\\\n",
       "\t 1.0413723 & 1 shared bath    & NA\\\\\n",
       "\t 1.8440967 & 1 private bath   & NA\\\\\n",
       "\t        NA & 2 baths          &  2\\\\\n",
       "\t        NA & 1 private bath   & NA\\\\\n",
       "\t 0.9545912 & 2 shared baths   & NA\\\\\n",
       "\t        NA & 1.5 shared baths &  2\\\\\n",
       "\t 1.5902622 & 1 private bath   &  1\\\\\n",
       "\t        NA & 2 baths          & NA\\\\\n",
       "\t 1.3060544 & 1 bath           &  1\\\\\n",
       "\t        NA & 2 baths          &  2\\\\\n",
       "\t        NA & 1 bath           &  1\\\\\n",
       "\t        NA & 1 bath           &  1\\\\\n",
       "\\end{tabular}\n"
      ],
      "text/markdown": [
       "\n",
       "A tibble: 20823 × 3\n",
       "\n",
       "| price_nzd &lt;dbl&gt; | bathrooms_text &lt;chr&gt; | bedrooms &lt;dbl&gt; |\n",
       "|---|---|---|\n",
       "| 0.932896 | 1.5 baths      |  1 |\n",
       "| 1.342936 | 1 bath         |  1 |\n",
       "|       NA | 1 bath         | NA |\n",
       "|       NA | 1 bath         |  1 |\n",
       "|       NA | 1 bath         | NA |\n",
       "| 1.084763 | 1 bath         |  1 |\n",
       "| 1.562058 | 2 baths        | NA |\n",
       "|       NA | 1 private bath | NA |\n",
       "| 1.388496 | 1 private bath | NA |\n",
       "| 1.820232 | 1 bath         | NA |\n",
       "| 1.084763 | 1 private bath | NA |\n",
       "|       NA | 2.5 baths      |  1 |\n",
       "|       NA | 1 private bath | NA |\n",
       "| 1.844097 | 1 bath         |  1 |\n",
       "| 1.735620 | 1 bath         |  1 |\n",
       "|       NA | 3 baths        |  4 |\n",
       "|       NA | 1 bath         |  1 |\n",
       "|       NA | 2 baths        |  4 |\n",
       "| 1.544702 | 1 bath         |  1 |\n",
       "|       NA | 1 bath         |  1 |\n",
       "| 1.063068 | 1 shared bath  | NA |\n",
       "|       NA | 2.5 baths      |  3 |\n",
       "|       NA | 1 bath         |  2 |\n",
       "| 1.735620 | NA             | 50 |\n",
       "|       NA | 1 bath         | NA |\n",
       "| 1.019677 | 1 bath         |  1 |\n",
       "|       NA | 1 shared bath  | NA |\n",
       "| 1.019677 | 1 bath         |  1 |\n",
       "|       NA | 1.5 baths      |  2 |\n",
       "|       NA | 1 bath         |  1 |\n",
       "| ⋮ | ⋮ | ⋮ |\n",
       "| 1.9525730 | 1 bath           |  1 |\n",
       "|        NA | 1 bath           |  1 |\n",
       "|        NA | 2 baths          |  2 |\n",
       "|        NA | 1 bath           |  1 |\n",
       "|        NA | 2 baths          |  2 |\n",
       "| 1.9720987 | 1 bath           |  1 |\n",
       "|        NA | 4 baths          | NA |\n",
       "|        NA | 1 bath           |  1 |\n",
       "|        NA | 1 private bath   |  1 |\n",
       "|        NA | 1 bath           | NA |\n",
       "|        NA | 1 bath           |  1 |\n",
       "|        NA | 1 bath           |  1 |\n",
       "| 1.3017153 | 1 bath           | NA |\n",
       "|        NA | 1 shared bath    | NA |\n",
       "|        NA | 1 bath           |  1 |\n",
       "|        NA | 1 bath           |  1 |\n",
       "|        NA | 1 bath           | NA |\n",
       "|        NA | 1 private bath   |  1 |\n",
       "| 1.0413723 | 1 shared bath    | NA |\n",
       "| 1.8440967 | 1 private bath   | NA |\n",
       "|        NA | 2 baths          |  2 |\n",
       "|        NA | 1 private bath   | NA |\n",
       "| 0.9545912 | 2 shared baths   | NA |\n",
       "|        NA | 1.5 shared baths |  2 |\n",
       "| 1.5902622 | 1 private bath   |  1 |\n",
       "|        NA | 2 baths          | NA |\n",
       "| 1.3060544 | 1 bath           |  1 |\n",
       "|        NA | 2 baths          |  2 |\n",
       "|        NA | 1 bath           |  1 |\n",
       "|        NA | 1 bath           |  1 |\n",
       "\n"
      ],
      "text/plain": [
       "      price_nzd bathrooms_text   bedrooms\n",
       "1     0.932896  1.5 baths         1      \n",
       "2     1.342936  1 bath            1      \n",
       "3           NA  1 bath           NA      \n",
       "4           NA  1 bath            1      \n",
       "5           NA  1 bath           NA      \n",
       "6     1.084763  1 bath            1      \n",
       "7     1.562058  2 baths          NA      \n",
       "8           NA  1 private bath   NA      \n",
       "9     1.388496  1 private bath   NA      \n",
       "10    1.820232  1 bath           NA      \n",
       "11    1.084763  1 private bath   NA      \n",
       "12          NA  2.5 baths         1      \n",
       "13          NA  1 private bath   NA      \n",
       "14    1.844097  1 bath            1      \n",
       "15    1.735620  1 bath            1      \n",
       "16          NA  3 baths           4      \n",
       "17          NA  1 bath            1      \n",
       "18          NA  2 baths           4      \n",
       "19    1.544702  1 bath            1      \n",
       "20          NA  1 bath            1      \n",
       "21    1.063068  1 shared bath    NA      \n",
       "22          NA  2.5 baths         3      \n",
       "23          NA  1 bath            2      \n",
       "24    1.735620  NA               50      \n",
       "25          NA  1 bath           NA      \n",
       "26    1.019677  1 bath            1      \n",
       "27          NA  1 shared bath    NA      \n",
       "28    1.019677  1 bath            1      \n",
       "29          NA  1.5 baths         2      \n",
       "30          NA  1 bath            1      \n",
       "⋮     ⋮         ⋮                ⋮       \n",
       "20794 1.9525730 1 bath            1      \n",
       "20795        NA 1 bath            1      \n",
       "20796        NA 2 baths           2      \n",
       "20797        NA 1 bath            1      \n",
       "20798        NA 2 baths           2      \n",
       "20799 1.9720987 1 bath            1      \n",
       "20800        NA 4 baths          NA      \n",
       "20801        NA 1 bath            1      \n",
       "20802        NA 1 private bath    1      \n",
       "20803        NA 1 bath           NA      \n",
       "20804        NA 1 bath            1      \n",
       "20805        NA 1 bath            1      \n",
       "20806 1.3017153 1 bath           NA      \n",
       "20807        NA 1 shared bath    NA      \n",
       "20808        NA 1 bath            1      \n",
       "20809        NA 1 bath            1      \n",
       "20810        NA 1 bath           NA      \n",
       "20811        NA 1 private bath    1      \n",
       "20812 1.0413723 1 shared bath    NA      \n",
       "20813 1.8440967 1 private bath   NA      \n",
       "20814        NA 2 baths           2      \n",
       "20815        NA 1 private bath   NA      \n",
       "20816 0.9545912 2 shared baths   NA      \n",
       "20817        NA 1.5 shared baths  2      \n",
       "20818 1.5902622 1 private bath    1      \n",
       "20819        NA 2 baths          NA      \n",
       "20820 1.3060544 1 bath            1      \n",
       "20821        NA 2 baths           2      \n",
       "20822        NA 1 bath            1      \n",
       "20823        NA 1 bath            1      "
      ]
     },
     "metadata": {},
     "output_type": "display_data"
    }
   ],
   "source": [
    "api_key <- \"58c8eb71a98bc0e70380918c4ec1041c\" #setting the api key\n",
    "response <- GET(paste0(\"http://data.fixer.io/api/latest?access_key=\", api_key, \"&symbols=THB,NZD\")) #sending HTTP GET request to fixer.io to get the latest exchange rates between THB and NZD\n",
    "data <- fromJSON(content(response, as = \"text\")) #processes response from API that converts JSON content into a data structure that ca be easily accessed\n",
    "exchange_rate_thb_to_nzd <- data$rate$NZD / data$rates$THB #calculates exchange rates from EUR to NZD using rates retrieved from API response\n",
    "Thailand$price <- Thailand$price * exchange_rate_thb_to_nzd # multiplies price column with calculated exchange rates \n",
    "Thailand <- Thailand %>%\n",
    "mutate(price_nzd = price * exchange_rate_thb_to_nzd) %>% #creates new column that multiplies price with the exchange rate\n",
    "select(price_nzd, bathrooms_text, bedrooms)\n",
    "Thailand #displaying the modified data"
   ]
  },
  {
   "cell_type": "code",
   "execution_count": 16,
   "id": "86ca4ffc-4ec8-4229-b2af-3e2aadbe6fa5",
   "metadata": {
    "tags": []
   },
   "outputs": [],
   "source": [
    "Thailand_data <-Thailand[1:100, ] #using 100 entries of the dataset"
   ]
  },
  {
   "cell_type": "code",
   "execution_count": 18,
   "id": "24722736-cdb4-4436-96ea-819a719b5d7a",
   "metadata": {
    "tags": []
   },
   "outputs": [
    {
     "name": "stderr",
     "output_type": "stream",
     "text": [
      "Warning message:\n",
      "\"\u001b[1m\u001b[22mRemoved 62 rows containing non-finite values (`stat_bin()`).\"\n"
     ]
    },
    {
     "data": {
      "image/png": "[encoded data removed]",
      "text/plain": [
       "plot without title"
      ]
     },
     "metadata": {
      "image/png": {
       "height": 420,
       "width": 420
      }
     },
     "output_type": "display_data"
    }
   ],
   "source": [
    "Thailand_data$price <- as.numeric(Thailand_data$price_nzd)\n",
    "Thailand_plot_price <- ggplot(Thailand_data, aes(x = price_nzd)) +\n",
    "  geom_histogram(binwidth = 50, fill = \"blue\", color = \"black\") + #plotting a histogram that gives us an idea of the price\n",
    "  labs(title = \"Histogram of Prices\",\n",
    "       x = \"Price\",\n",
    "       y = \"Frequency\")\n",
    "Thailand_plot_price"
   ]
  },
  {
   "cell_type": "code",
   "execution_count": 19,
   "id": "07c234fc-7e2d-4379-9be6-df47fbbdcbc9",
   "metadata": {
    "tags": []
   },
   "outputs": [
    {
     "name": "stderr",
     "output_type": "stream",
     "text": [
      "Warning message:\n",
      "\"\u001b[1m\u001b[22mRemoved 31 rows containing missing values (`position_stack()`).\"\n"
     ]
    },
    {
     "data": {
      "image/png": "[encoded data removed]",
      "text/plain": [
       "plot without title"
      ]
     },
     "metadata": {
      "image/png": {
       "height": 420,
       "width": 420
      }
     },
     "output_type": "display_data"
    }
   ],
   "source": [
    "Thailand_data <- Thailand_data %>%\n",
    "   mutate(price_range = cut(as.numeric(gsub(\"[$,]\", \"\", price_nzd)), \n",
    "                           breaks = c(0, 100, 200, 300, 400, Inf),  #breaks specifies bin edges\n",
    "                           labels = c(\"0-100\", \"101-200\", \"201-300\", \"301-400\", \"401+\"))) #labels assigns labels to bins\n",
    "\n",
    "Thailand_plot_price_bedrooms <- ggplot(Thailand_data, aes(x = price_range, y = bedrooms, fill = price_range)) +\n",
    "  geom_bar(stat = \"identity\") +\n",
    "  labs(title = \"Bar Plot of Bedrooms by Price Range\",\n",
    "       x = \"Price Range\",\n",
    "       y = \"Number of Bedrooms\")          #makes a bar plot with price range on x axis and bedrooms on y axis\n",
    "Thailand_plot_price_bedrooms"
   ]
  },
  {
   "cell_type": "code",
   "execution_count": 20,
   "id": "30984581-9cfc-4479-a0c7-ff71194ced96",
   "metadata": {
    "tags": []
   },
   "outputs": [
    {
     "data": {
      "image/png": "[encoded data removed]",
      "text/plain": [
       "plot without title"
      ]
     },
     "metadata": {
      "image/png": {
       "height": 420,
       "width": 420
      }
     },
     "output_type": "display_data"
    }
   ],
   "source": [
    "Thailand_data <- Thailand_data %>%\n",
    "  mutate(bathroom_category = case_when(\n",
    "    grepl(\"shared\", bathrooms_text, ignore.case = TRUE) ~ \"Shared Bath\",\n",
    "    grepl(\"private\", bathrooms_text, ignore.case = TRUE) ~ \"Private Bath\",\n",
    "    grepl(\"half\", bathrooms_text, ignore.case = TRUE) ~ \"Half Bath\",   #creates a new column that categorises bathroom into shared, private, half, full and other\n",
    "    grepl(\"bath\", bathrooms_text, ignore.case = TRUE) ~ \"Full Bath\",\n",
    "    TRUE ~ \"Other\"\n",
    "  ))\n",
    "\n",
    "Thailand_plot_bathroom_text <- ggplot(Thailand_data, aes(x = bathroom_category, fill = bathroom_category)) +\n",
    "  geom_bar() +\n",
    "  labs(title = \"Bar Plot of Bathroom Categories\",\n",
    "       x = \"Bathroom Category\",\n",
    "       y = \"Count\")              #plots bar graph that gives us an idea of the bathrom categories in the data \n",
    "\n",
    "\n",
    "Thailand_plot_bathroom_text"
   ]
  },
  {
   "cell_type": "code",
   "execution_count": 21,
   "id": "d81783f7-2119-42e9-899d-0cab97dde34b",
   "metadata": {
    "tags": []
   },
   "outputs": [
    {
     "data": {
      "image/png": "[encoded data removed]",
      "text/plain": [
       "plot without title"
      ]
     },
     "metadata": {
      "image/png": {
       "height": 420,
       "width": 420
      }
     },
     "output_type": "display_data"
    }
   ],
   "source": [
    "Thailand_plot_bathroom_price <- ggplot(Thailand_data, aes(x = price_range, fill = bathroom_category)) +\n",
    "  geom_bar(position = \"dodge\") +\n",
    "  labs(title = \"Grouped Bar Plot of Bathroom Categories by Price Range\",\n",
    "       x = \"Price Range\",           #creates a grouped bar plot which is grouped based on type of bathroom and has price range on x axis \n",
    "       y = \"Count\")\n",
    "Thailand_plot_bathroom_price"
   ]
  },
  {
   "cell_type": "code",
   "execution_count": null,
   "id": "f95cc5cf-7b36-4c31-b6b2-05689f7a647b",
   "metadata": {},
   "outputs": [],
   "source": []
  }
 ],
 "metadata": {
  "kernelspec": {
   "display_name": "R",
   "language": "R",
   "name": "ir"
  },
  "language_info": {
   "codemirror_mode": "r",
   "file_extension": ".r",
   "mimetype": "text/x-r-source",
   "name": "R",
   "pygments_lexer": "r",
   "version": "4.2.2"
  }
 },
 "nbformat": 4,
 "nbformat_minor": 5
}
